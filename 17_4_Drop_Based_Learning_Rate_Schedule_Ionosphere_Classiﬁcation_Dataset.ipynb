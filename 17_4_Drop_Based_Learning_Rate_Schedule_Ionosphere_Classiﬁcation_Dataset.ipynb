{
  "nbformat": 4,
  "nbformat_minor": 0,
  "metadata": {
    "colab": {
      "name": "17.4 Drop-Based Learning Rate Schedule - Ionosphere Classiﬁcation Dataset.ipynb",
      "provenance": [],
      "authorship_tag": "ABX9TyN7Lv3MTmrZvgaLHCpjmn7u",
      "include_colab_link": true
    },
    "kernelspec": {
      "name": "python3",
      "display_name": "Python 3"
    }
  },
  "cells": [
    {
      "cell_type": "markdown",
      "metadata": {
        "id": "view-in-github",
        "colab_type": "text"
      },
      "source": [
        "<a href=\"https://colab.research.google.com/github/marcelounb/Deep_Learning_with_python_JasonBrownlee/blob/master/17_4_Drop_Based_Learning_Rate_Schedule_Ionosphere_Classi%EF%AC%81cation_Dataset.ipynb\" target=\"_parent\"><img src=\"https://colab.research.google.com/assets/colab-badge.svg\" alt=\"Open In Colab\"/></a>"
      ]
    },
    {
      "cell_type": "markdown",
      "metadata": {
        "id": "PZvKOpwF4aeP",
        "colab_type": "text"
      },
      "source": [
        "# Ionosphere Classiﬁcation Dataset\n",
        "The Ionosphere binary classiﬁcation problem is used as a demonstration in this lesson. The dataset describes radar returns where the target was free electrons in the ionosphere. It is a binary classiﬁcation problem where positive cases (g for good) show evidence of some type of structure in the ionosphere and negative cases (b for bad) do not. \n",
        "\n",
        "It is a good dataset for practicing with neural networks because all of the inputs are small numerical values of the same scale. There are 34 attributes and 351 observations. State-of-the-art results on this dataset achieve an accuracy of approximately 94% to 98% accuracy using 10-fold cross validation.\n",
        "\n",
        " The dataset is available within the code bundle provided with this book. Alternatively, you can download it directly from the UCI Machine Learning repository. Place the data ﬁle in your working directory with the ﬁlename ionosphere.csv. You can learn more about the ionosphere dataset on the UCI Machine Learning Repository website.\n"
      ]
    },
    {
      "cell_type": "markdown",
      "metadata": {
        "id": "s7js5mry5zTS",
        "colab_type": "text"
      },
      "source": [
        "# 17.4 Drop-Based Learning Rate Schedule\n",
        "Another popular learning rate schedule used with deep learning models is to systematically drop the learning rate at speciﬁc times during training. Often this method is implemented by dropping the learning rate by half every ﬁxed number of epochs. For example, we may have an initial learning rate of 0.1 and drop it by a factor of 0.5 every 10 epochs. \n",
        "\n",
        "The ﬁrst 10 epochs of training would use a value of 0.1, in the next 10 epochs a learning rate of 0.05 would be used, and so on.\n"
      ]
    },
    {
      "cell_type": "markdown",
      "metadata": {
        "id": "ZvmJEyG7uiyg",
        "colab_type": "text"
      },
      "source": [
        "We can implement this in Keras using the LearningRateScheduler callback4 when ﬁtting the model. The LearningRateScheduler callback allows us to deﬁne a function to call that takes the epoch number as an argument and returns the learning rate to use in stochastic gradient descent. \n",
        "\n",
        "When used, the learning rate speciﬁed by stochastic gradient descent is ignored. In the code below, we use the same example before of a single hidden layer network on the Ionosphere dataset. A new step_decay() function is deﬁned that implements the equation:\n",
        "\n",
        "    LearningRate = InitialLearningRate X DropRate**floor( 1+Epoch / EpochDrop)\n"
      ]
    },
    {
      "cell_type": "markdown",
      "metadata": {
        "id": "JaGTEMjTu8ad",
        "colab_type": "text"
      },
      "source": [
        "Where InitialLearningRate is the learning rate at the beginning of the run, EpochDrop is how often the learning rate is dropped in epochs and DropRate is how much to drop the learning rate each time it is dropped.\n"
      ]
    },
    {
      "cell_type": "code",
      "metadata": {
        "id": "CssBOMBFCQJS",
        "colab_type": "code",
        "colab": {
          "base_uri": "https://localhost:8080/",
          "height": 35
        },
        "outputId": "84483059-db5f-4068-d0fc-84b36729ed33"
      },
      "source": [
        "# Time Based Learning Rate Decay\n",
        "import pandas as pd \n",
        "import numpy as np\n",
        "import math\n",
        "from keras.models import Sequential \n",
        "from keras.layers import Dense \n",
        "from keras.optimizers import SGD \n",
        "from sklearn.preprocessing import LabelEncoder\n",
        "from keras.callbacks import LearningRateScheduler\n",
        "import matplotlib.pyplot as plt "
      ],
      "execution_count": 1,
      "outputs": [
        {
          "output_type": "stream",
          "text": [
            "Using TensorFlow backend.\n"
          ],
          "name": "stderr"
        }
      ]
    },
    {
      "cell_type": "code",
      "metadata": {
        "id": "H0SRigIIvNKF",
        "colab_type": "code",
        "colab": {}
      },
      "source": [
        "# learning rate schedule \n",
        "def step_decay(epoch): \n",
        "  initial_lrate = 0.1 \n",
        "  drop = 0.5 \n",
        "  epochs_drop = 10.0 \n",
        "  lrate = initial_lrate * math.pow(drop, math.floor((1+epoch)/epochs_drop)) \n",
        "  return lrate"
      ],
      "execution_count": 2,
      "outputs": []
    },
    {
      "cell_type": "code",
      "metadata": {
        "id": "wYBQXBMfQUBl",
        "colab_type": "code",
        "colab": {}
      },
      "source": [
        "# load dataset \n",
        "dataframe = pd.read_csv(\"ionosphere.csv\") \n",
        "dataset = dataframe.values \n",
        "# split into input (X) and output (Y) variables \n",
        "X = dataset[:,0:34].astype(float) \n",
        "Y = dataset[:,34] "
      ],
      "execution_count": 3,
      "outputs": []
    },
    {
      "cell_type": "code",
      "metadata": {
        "id": "JUDwbr9oQevv",
        "colab_type": "code",
        "colab": {
          "base_uri": "https://localhost:8080/",
          "height": 124
        },
        "outputId": "bed06d74-7e37-41fd-e277-262d5ef0b114"
      },
      "source": [
        "X[0], Y[0]"
      ],
      "execution_count": 4,
      "outputs": [
        {
          "output_type": "execute_result",
          "data": {
            "text/plain": [
              "(array([ 1.     ,  0.     ,  0.99539, -0.05889,  0.85243,  0.02306,\n",
              "         0.83398, -0.37708,  1.     ,  0.0376 ,  0.85243, -0.17755,\n",
              "         0.59755, -0.44945,  0.60536, -0.38223,  0.84356, -0.38542,\n",
              "         0.58212, -0.32192,  0.56971, -0.29674,  0.36946, -0.47357,\n",
              "         0.56811, -0.51171,  0.41078, -0.46168,  0.21266, -0.3409 ,\n",
              "         0.42267, -0.54487,  0.18641, -0.453  ]), 'g')"
            ]
          },
          "metadata": {
            "tags": []
          },
          "execution_count": 4
        }
      ]
    },
    {
      "cell_type": "code",
      "metadata": {
        "id": "tBRBtEnZRQEn",
        "colab_type": "code",
        "colab": {
          "base_uri": "https://localhost:8080/",
          "height": 35
        },
        "outputId": "af444138-144a-496c-ef14-02beebdc49de"
      },
      "source": [
        "X.shape, Y.shape"
      ],
      "execution_count": 5,
      "outputs": [
        {
          "output_type": "execute_result",
          "data": {
            "text/plain": [
              "((351, 34), (351,))"
            ]
          },
          "metadata": {
            "tags": []
          },
          "execution_count": 5
        }
      ]
    },
    {
      "cell_type": "code",
      "metadata": {
        "id": "sfxKZvRqQ4MB",
        "colab_type": "code",
        "colab": {}
      },
      "source": [
        "# fix random seed for reproducibility \n",
        "seed = 7 \n",
        "np.random.seed(seed)"
      ],
      "execution_count": 6,
      "outputs": []
    },
    {
      "cell_type": "code",
      "metadata": {
        "id": "5Pc5EUMvQ968",
        "colab_type": "code",
        "colab": {}
      },
      "source": [
        "# encode class values as integers \n",
        "encoder = LabelEncoder() \n",
        "encoder.fit(Y) \n",
        "Y = encoder.transform(Y) "
      ],
      "execution_count": 7,
      "outputs": []
    },
    {
      "cell_type": "code",
      "metadata": {
        "id": "921b1sdVRccx",
        "colab_type": "code",
        "colab": {
          "base_uri": "https://localhost:8080/",
          "height": 301
        },
        "outputId": "8de16f69-d651-4a60-c3d4-cca44fa0a289"
      },
      "source": [
        "Y"
      ],
      "execution_count": 8,
      "outputs": [
        {
          "output_type": "execute_result",
          "data": {
            "text/plain": [
              "array([1, 0, 1, 0, 1, 0, 1, 0, 1, 0, 1, 0, 1, 0, 1, 0, 1, 0, 1, 0, 1, 0,\n",
              "       1, 0, 1, 0, 1, 0, 1, 0, 1, 0, 1, 0, 1, 0, 1, 0, 1, 0, 1, 0, 1, 0,\n",
              "       1, 0, 1, 0, 1, 0, 1, 0, 1, 0, 1, 0, 1, 0, 1, 0, 1, 0, 1, 0, 1, 0,\n",
              "       1, 0, 1, 0, 1, 0, 1, 0, 1, 0, 1, 0, 1, 0, 1, 0, 1, 0, 1, 0, 1, 0,\n",
              "       1, 0, 1, 0, 1, 0, 1, 0, 1, 1, 0, 1, 0, 1, 0, 1, 0, 1, 0, 1, 0, 1,\n",
              "       0, 1, 0, 1, 0, 1, 0, 1, 0, 1, 0, 1, 0, 1, 0, 1, 0, 1, 0, 1, 0, 1,\n",
              "       0, 1, 0, 1, 0, 1, 0, 1, 0, 1, 0, 1, 0, 1, 0, 1, 0, 1, 0, 1, 0, 1,\n",
              "       0, 1, 0, 1, 0, 1, 0, 1, 0, 1, 0, 1, 0, 1, 0, 1, 0, 1, 0, 1, 0, 1,\n",
              "       0, 1, 0, 1, 0, 1, 0, 1, 0, 1, 0, 1, 0, 1, 0, 1, 0, 1, 0, 1, 0, 1,\n",
              "       0, 1, 0, 1, 0, 1, 0, 1, 0, 1, 0, 1, 0, 1, 0, 1, 0, 1, 0, 1, 0, 1,\n",
              "       0, 1, 0, 1, 0, 1, 0, 1, 0, 1, 0, 1, 0, 1, 0, 1, 0, 1, 0, 1, 0, 1,\n",
              "       0, 1, 0, 1, 0, 1, 0, 1, 0, 1, 0, 1, 1, 1, 1, 1, 1, 1, 1, 1, 1, 1,\n",
              "       1, 1, 1, 1, 1, 1, 1, 1, 1, 1, 1, 1, 1, 1, 1, 1, 1, 1, 1, 1, 1, 1,\n",
              "       1, 1, 1, 1, 1, 1, 1, 1, 1, 1, 1, 1, 1, 1, 1, 1, 1, 1, 1, 1, 1, 1,\n",
              "       1, 1, 1, 1, 1, 1, 1, 1, 1, 1, 1, 1, 1, 1, 1, 1, 1, 1, 1, 1, 1, 1,\n",
              "       1, 1, 1, 1, 1, 1, 1, 1, 1, 1, 1, 1, 1, 1, 1, 1, 1, 1, 1, 1, 1])"
            ]
          },
          "metadata": {
            "tags": []
          },
          "execution_count": 8
        }
      ]
    },
    {
      "cell_type": "code",
      "metadata": {
        "id": "V3EgsPB4Rj7u",
        "colab_type": "code",
        "colab": {}
      },
      "source": [
        "# create model \n",
        "model = Sequential() \n",
        "model.add(Dense(34, input_dim=34, kernel_initializer= 'normal' , activation= 'relu' )) \n",
        "model.add(Dense(1, kernel_initializer= 'normal' , activation= 'sigmoid' ))"
      ],
      "execution_count": 9,
      "outputs": []
    },
    {
      "cell_type": "code",
      "metadata": {
        "id": "rBafmkksTlJA",
        "colab_type": "code",
        "colab": {}
      },
      "source": [
        "# Compile model \n",
        "sgd = SGD(lr=0.0, momentum=0.9, decay=0.0, nesterov=False) \n",
        "model.compile(loss= 'binary_crossentropy' , optimizer=sgd, metrics=[ 'accuracy' ])"
      ],
      "execution_count": 11,
      "outputs": []
    },
    {
      "cell_type": "code",
      "metadata": {
        "id": "COttSZYdOFw2",
        "colab_type": "code",
        "colab": {}
      },
      "source": [
        "# learning schedule callback \n",
        "lrate = LearningRateScheduler(step_decay) \n",
        "callbacks_list = [lrate]"
      ],
      "execution_count": 13,
      "outputs": []
    },
    {
      "cell_type": "code",
      "metadata": {
        "id": "Ud443mGET6Ak",
        "colab_type": "code",
        "colab": {
          "base_uri": "https://localhost:8080/",
          "height": 1000
        },
        "outputId": "80ca1e4d-9e19-4561-c995-449b3a264b09"
      },
      "source": [
        "# Fit the model \n",
        "history = model.fit(X, Y, validation_split=0.33, epochs=50, batch_size=28, callbacks=callbacks_list, verbose=2) "
      ],
      "execution_count": 14,
      "outputs": [
        {
          "output_type": "stream",
          "text": [
            "Train on 235 samples, validate on 116 samples\n",
            "Epoch 1/50\n",
            " - 0s - loss: 0.6803 - accuracy: 0.6468 - val_loss: 0.6199 - val_accuracy: 0.9138\n",
            "Epoch 2/50\n",
            " - 0s - loss: 0.6195 - accuracy: 0.7234 - val_loss: 0.4761 - val_accuracy: 0.8621\n",
            "Epoch 3/50\n",
            " - 0s - loss: 0.4985 - accuracy: 0.8255 - val_loss: 0.3681 - val_accuracy: 0.9483\n",
            "Epoch 4/50\n",
            " - 0s - loss: 0.3626 - accuracy: 0.8596 - val_loss: 0.3815 - val_accuracy: 0.8793\n",
            "Epoch 5/50\n",
            " - 0s - loss: 0.2797 - accuracy: 0.8766 - val_loss: 0.1544 - val_accuracy: 0.9655\n",
            "Epoch 6/50\n",
            " - 0s - loss: 0.2156 - accuracy: 0.9191 - val_loss: 0.2178 - val_accuracy: 0.9224\n",
            "Epoch 7/50\n",
            " - 0s - loss: 0.1798 - accuracy: 0.9362 - val_loss: 0.1461 - val_accuracy: 0.9655\n",
            "Epoch 8/50\n",
            " - 0s - loss: 0.1593 - accuracy: 0.9319 - val_loss: 0.0837 - val_accuracy: 0.9741\n",
            "Epoch 9/50\n",
            " - 0s - loss: 0.1742 - accuracy: 0.9362 - val_loss: 0.1508 - val_accuracy: 0.9741\n",
            "Epoch 10/50\n",
            " - 0s - loss: 0.1263 - accuracy: 0.9532 - val_loss: 0.0972 - val_accuracy: 0.9914\n",
            "Epoch 11/50\n",
            " - 0s - loss: 0.1155 - accuracy: 0.9574 - val_loss: 0.0966 - val_accuracy: 0.9914\n",
            "Epoch 12/50\n",
            " - 0s - loss: 0.1054 - accuracy: 0.9617 - val_loss: 0.0834 - val_accuracy: 0.9914\n",
            "Epoch 13/50\n",
            " - 0s - loss: 0.1082 - accuracy: 0.9617 - val_loss: 0.0974 - val_accuracy: 0.9914\n",
            "Epoch 14/50\n",
            " - 0s - loss: 0.0984 - accuracy: 0.9702 - val_loss: 0.0837 - val_accuracy: 0.9914\n",
            "Epoch 15/50\n",
            " - 0s - loss: 0.0956 - accuracy: 0.9702 - val_loss: 0.0716 - val_accuracy: 0.9914\n",
            "Epoch 16/50\n",
            " - 0s - loss: 0.1012 - accuracy: 0.9660 - val_loss: 0.0915 - val_accuracy: 0.9914\n",
            "Epoch 17/50\n",
            " - 0s - loss: 0.0888 - accuracy: 0.9702 - val_loss: 0.0845 - val_accuracy: 0.9914\n",
            "Epoch 18/50\n",
            " - 0s - loss: 0.0820 - accuracy: 0.9745 - val_loss: 0.0788 - val_accuracy: 0.9914\n",
            "Epoch 19/50\n",
            " - 0s - loss: 0.0778 - accuracy: 0.9745 - val_loss: 0.0768 - val_accuracy: 0.9914\n",
            "Epoch 20/50\n",
            " - 0s - loss: 0.0770 - accuracy: 0.9830 - val_loss: 0.0614 - val_accuracy: 0.9914\n",
            "Epoch 21/50\n",
            " - 0s - loss: 0.0750 - accuracy: 0.9787 - val_loss: 0.0849 - val_accuracy: 0.9914\n",
            "Epoch 22/50\n",
            " - 0s - loss: 0.0709 - accuracy: 0.9830 - val_loss: 0.0701 - val_accuracy: 0.9914\n",
            "Epoch 23/50\n",
            " - 0s - loss: 0.0707 - accuracy: 0.9830 - val_loss: 0.0680 - val_accuracy: 0.9914\n",
            "Epoch 24/50\n",
            " - 0s - loss: 0.0689 - accuracy: 0.9787 - val_loss: 0.0801 - val_accuracy: 0.9914\n",
            "Epoch 25/50\n",
            " - 0s - loss: 0.0666 - accuracy: 0.9830 - val_loss: 0.0650 - val_accuracy: 0.9914\n",
            "Epoch 26/50\n",
            " - 0s - loss: 0.0658 - accuracy: 0.9830 - val_loss: 0.0749 - val_accuracy: 0.9914\n",
            "Epoch 27/50\n",
            " - 0s - loss: 0.0628 - accuracy: 0.9830 - val_loss: 0.0691 - val_accuracy: 0.9914\n",
            "Epoch 28/50\n",
            " - 0s - loss: 0.0632 - accuracy: 0.9830 - val_loss: 0.0695 - val_accuracy: 0.9914\n",
            "Epoch 29/50\n",
            " - 0s - loss: 0.0613 - accuracy: 0.9830 - val_loss: 0.0708 - val_accuracy: 0.9914\n",
            "Epoch 30/50\n",
            " - 0s - loss: 0.0604 - accuracy: 0.9830 - val_loss: 0.0639 - val_accuracy: 0.9914\n",
            "Epoch 31/50\n",
            " - 0s - loss: 0.0601 - accuracy: 0.9830 - val_loss: 0.0711 - val_accuracy: 0.9914\n",
            "Epoch 32/50\n",
            " - 0s - loss: 0.0589 - accuracy: 0.9830 - val_loss: 0.0703 - val_accuracy: 0.9914\n",
            "Epoch 33/50\n",
            " - 0s - loss: 0.0581 - accuracy: 0.9830 - val_loss: 0.0661 - val_accuracy: 0.9914\n",
            "Epoch 34/50\n",
            " - 0s - loss: 0.0584 - accuracy: 0.9830 - val_loss: 0.0673 - val_accuracy: 0.9914\n",
            "Epoch 35/50\n",
            " - 0s - loss: 0.0580 - accuracy: 0.9872 - val_loss: 0.0732 - val_accuracy: 0.9914\n",
            "Epoch 36/50\n",
            " - 0s - loss: 0.0566 - accuracy: 0.9872 - val_loss: 0.0682 - val_accuracy: 0.9914\n",
            "Epoch 37/50\n",
            " - 0s - loss: 0.0563 - accuracy: 0.9830 - val_loss: 0.0645 - val_accuracy: 0.9914\n",
            "Epoch 38/50\n",
            " - 0s - loss: 0.0565 - accuracy: 0.9830 - val_loss: 0.0678 - val_accuracy: 0.9914\n",
            "Epoch 39/50\n",
            " - 0s - loss: 0.0558 - accuracy: 0.9830 - val_loss: 0.0624 - val_accuracy: 0.9914\n",
            "Epoch 40/50\n",
            " - 0s - loss: 0.0549 - accuracy: 0.9872 - val_loss: 0.0647 - val_accuracy: 0.9914\n",
            "Epoch 41/50\n",
            " - 0s - loss: 0.0542 - accuracy: 0.9872 - val_loss: 0.0696 - val_accuracy: 0.9914\n",
            "Epoch 42/50\n",
            " - 0s - loss: 0.0545 - accuracy: 0.9872 - val_loss: 0.0674 - val_accuracy: 0.9914\n",
            "Epoch 43/50\n",
            " - 0s - loss: 0.0544 - accuracy: 0.9872 - val_loss: 0.0653 - val_accuracy: 0.9914\n",
            "Epoch 44/50\n",
            " - 0s - loss: 0.0541 - accuracy: 0.9872 - val_loss: 0.0653 - val_accuracy: 0.9914\n",
            "Epoch 45/50\n",
            " - 0s - loss: 0.0541 - accuracy: 0.9872 - val_loss: 0.0629 - val_accuracy: 0.9914\n",
            "Epoch 46/50\n",
            " - 0s - loss: 0.0538 - accuracy: 0.9872 - val_loss: 0.0633 - val_accuracy: 0.9914\n",
            "Epoch 47/50\n",
            " - 0s - loss: 0.0548 - accuracy: 0.9872 - val_loss: 0.0691 - val_accuracy: 0.9914\n",
            "Epoch 48/50\n",
            " - 0s - loss: 0.0532 - accuracy: 0.9872 - val_loss: 0.0669 - val_accuracy: 0.9914\n",
            "Epoch 49/50\n",
            " - 0s - loss: 0.0532 - accuracy: 0.9872 - val_loss: 0.0629 - val_accuracy: 0.9914\n",
            "Epoch 50/50\n",
            " - 0s - loss: 0.0529 - accuracy: 0.9872 - val_loss: 0.0671 - val_accuracy: 0.9914\n"
          ],
          "name": "stdout"
        }
      ]
    },
    {
      "cell_type": "markdown",
      "metadata": {
        "id": "TFuPkaBNU2DB",
        "colab_type": "text"
      },
      "source": [
        "Running the example results in a classiﬁcation accuracy of 99.14% on the validation dataset, again an improvement over the baseline for the model on this dataset..\n"
      ]
    },
    {
      "cell_type": "code",
      "metadata": {
        "id": "OohRSR2qUCAS",
        "colab_type": "code",
        "colab": {
          "base_uri": "https://localhost:8080/",
          "height": 35
        },
        "outputId": "01b6065f-fce6-4f4b-dc08-f91b7a37b124"
      },
      "source": [
        "history.history.keys()"
      ],
      "execution_count": 15,
      "outputs": [
        {
          "output_type": "execute_result",
          "data": {
            "text/plain": [
              "dict_keys(['val_loss', 'val_accuracy', 'loss', 'accuracy', 'lr'])"
            ]
          },
          "metadata": {
            "tags": []
          },
          "execution_count": 15
        }
      ]
    },
    {
      "cell_type": "code",
      "metadata": {
        "id": "K3hsFj-IUcXm",
        "colab_type": "code",
        "colab": {
          "base_uri": "https://localhost:8080/",
          "height": 295
        },
        "outputId": "7cdb0286-515e-47e3-f423-367e7be5db24"
      },
      "source": [
        "plt.plot(history.history[ 'accuracy' ]) \n",
        "plt.plot(history.history[ 'val_accuracy' ]) \n",
        "plt.title( 'model accuracy'  ) \n",
        "plt.ylabel( 'accuracy'  ) \n",
        "plt.xlabel( 'epochs' )\n",
        "plt.legend([ 'train' , 'test' ], loc= 'upper left' )\n",
        "plt.show()"
      ],
      "execution_count": 16,
      "outputs": [
        {
          "output_type": "display_data",
          "data": {
            "image/png": "[encoded data removed]",
            "text/plain": [
              "<Figure size 432x288 with 1 Axes>"
            ]
          },
          "metadata": {
            "tags": [],
            "needs_background": "light"
          }
        }
      ]
    }
  ]
}