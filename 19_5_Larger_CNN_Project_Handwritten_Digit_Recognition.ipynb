{
  "nbformat": 4,
  "nbformat_minor": 0,
  "metadata": {
    "colab": {
      "name": "19.5 Larger CNN Project: Handwritten Digit Recognition.ipynb",
      "provenance": [],
      "authorship_tag": "ABX9TyPkehkvYfObN7+uDReSqemJ",
      "include_colab_link": true
    },
    "kernelspec": {
      "name": "python3",
      "display_name": "Python 3"
    }
  },
  "cells": [
    {
      "cell_type": "markdown",
      "metadata": {
        "id": "view-in-github",
        "colab_type": "text"
      },
      "source": [
        "<a href=\"https://colab.research.google.com/github/marcelounb/Deep_Learning_with_python_JasonBrownlee/blob/master/19_5_Larger_CNN_Project_Handwritten_Digit_Recognition.ipynb\" target=\"_parent\"><img src=\"https://colab.research.google.com/assets/colab-badge.svg\" alt=\"Open In Colab\"/></a>"
      ]
    },
    {
      "cell_type": "markdown",
      "metadata": {
        "id": "PDLGcaBY287S",
        "colab_type": "text"
      },
      "source": [
        "A popular demonstration of the capability of deep learning techniques is object recognition in image data. The hello world of object recognition for machine learning and deep learning is the MNIST dataset for handwritten digit recognition. In this project you will discover how to develop a deep learning model to achieve near state-of-the-art performance on the MNIST handwritten digit recognition task in Python using the Keras deep learning library."
      ]
    },
    {
      "cell_type": "markdown",
      "metadata": {
        "id": "4Owi6-w73KDj",
        "colab_type": "text"
      },
      "source": [
        "**19.1 Handwritten Digit Recognition Dataset**\n",
        "\n",
        "The MNIST problem is a dataset developed by Yann LeCun, Corinna Cortes and Christopher Burges for evaluating machine learning models on the handwritten digit classiﬁcation problem. The dataset was constructed from a number of scanned document datasets available from the National Institute of Standards and Technology (NIST). This is where the name for the dataset comes from, as the Modiﬁed NIST or MNIST dataset. \n",
        "\n",
        "Images of digits were taken from a variety of scanned documents, normalized in size and centered. This makes it an excellent dataset for evaluating models, allowing the developer to focus on the machine learning with very little data cleaning or preparation required. Each image is a 28 X 28 pixel square (784 pixels total). A standard split of the dataset is used to evaluate and compare models, where 60,000 images are used to train a model and a separate set of 10,000 images are used to test it. \n",
        "\n",
        "It is a digit recognition task. As such there are 10 digits (0 to 9) or 10 classes to predict. Results are reported using prediction error, which is nothing more than the inverted classiﬁcation accuracy. Excellent results achieve a prediction error of less than 1%. State-of-the-art prediction error of approximately 0.2% can be achieved with large Convolutional Neural Networks. There is a listing of the state-of-the-art results and links to the relevant papers on the MNIST and other datasets on Rodrigo Benenson’s webpage"
      ]
    },
    {
      "cell_type": "markdown",
      "metadata": {
        "id": "aRpb-H-PYkZw",
        "colab_type": "text"
      },
      "source": [
        "# 19.2 Loading the MNIST dataset in Keras\n",
        "The Keras deep learning library provides a convenience method for loading the MNIST dataset. The dataset is downloaded automatically the ﬁrst time this function is called and is stored in your home directory in ~/.keras/datasets/mnist.pkl.gz as a 15 megabyte ﬁle. This is very handy for developing and testing deep learning models. To demonstrate how easy it is to load the MNIST dataset, we will ﬁrst write a little script to download and visualize the ﬁrst 4 images in the training dataset.\n"
      ]
    },
    {
      "cell_type": "code",
      "metadata": {
        "id": "t-AN62xL0YEG",
        "colab_type": "code",
        "colab": {
          "base_uri": "https://localhost:8080/",
          "height": 35
        },
        "outputId": "90205787-d41a-480b-a523-7389420e57c5"
      },
      "source": [
        "# Plot ad hoc mnist instances \n",
        "from keras.datasets import mnist \n",
        "import matplotlib.pyplot as plt \n",
        "import numpy as np\n",
        "from keras.datasets import mnist \n",
        "from keras.models import Sequential \n",
        "from keras.layers import Dense \n",
        "from keras.layers import Dropout \n",
        "from keras.utils import np_utils\n",
        "\n",
        "# Imports for the CNN\n",
        "from keras.layers import Flatten \n",
        "from keras.layers.convolutional import Convolution2D \n",
        "from keras.layers.convolutional import MaxPooling2D"
      ],
      "execution_count": 1,
      "outputs": [
        {
          "output_type": "stream",
          "text": [
            "Using TensorFlow backend.\n"
          ],
          "name": "stderr"
        }
      ]
    },
    {
      "cell_type": "code",
      "metadata": {
        "id": "Bfa8guU3-ib8",
        "colab_type": "code",
        "colab": {}
      },
      "source": [
        "# load (downloaded if needed) the MNIST dataset \n",
        "(X_train, y_train), (X_test, y_test) = mnist.load_data() "
      ],
      "execution_count": 2,
      "outputs": []
    },
    {
      "cell_type": "code",
      "metadata": {
        "id": "6U-w1X16ZMT0",
        "colab_type": "code",
        "colab": {
          "base_uri": "https://localhost:8080/",
          "height": 35
        },
        "outputId": "d5597ad5-93d5-40ef-d05b-3740ba386163"
      },
      "source": [
        "X_train.shape, y_train.shape ,X_test.shape, y_test.shape"
      ],
      "execution_count": 3,
      "outputs": [
        {
          "output_type": "execute_result",
          "data": {
            "text/plain": [
              "((60000, 28, 28), (60000,), (10000, 28, 28), (10000,))"
            ]
          },
          "metadata": {
            "tags": []
          },
          "execution_count": 3
        }
      ]
    },
    {
      "cell_type": "code",
      "metadata": {
        "id": "tNKHPiBnZFFV",
        "colab_type": "code",
        "colab": {
          "base_uri": "https://localhost:8080/",
          "height": 268
        },
        "outputId": "1d76b29f-af17-4900-e07c-94781ce29350"
      },
      "source": [
        "# plot 4 images as gray scale \n",
        "plt.subplot(221) \n",
        "plt.imshow(X_train[0], cmap=plt.get_cmap( 'gray' )) \n",
        "plt.subplot(222) \n",
        "plt.imshow(X_train[1], cmap=plt.get_cmap( 'gray' )) \n",
        "plt.subplot(223) \n",
        "plt.imshow(X_train[2], cmap=plt.get_cmap( 'gray' )) \n",
        "plt.subplot(224) \n",
        "plt.imshow(X_train[3], cmap=plt.get_cmap( 'gray' ))\n",
        "# show the plot \n",
        "plt.show() "
      ],
      "execution_count": 4,
      "outputs": [
        {
          "output_type": "display_data",
          "data": {
            "image/png": "[encoded data removed]",
            "text/plain": [
              "<Figure size 432x288 with 4 Axes>"
            ]
          },
          "metadata": {
            "tags": [],
            "needs_background": "light"
          }
        }
      ]
    },
    {
      "cell_type": "markdown",
      "metadata": {
        "id": "7LJZo39REhCQ",
        "colab_type": "text"
      },
      "source": [
        "# 19.4 Simple Convolutional Neural Network for MNIST**\n",
        "\n",
        "Now that we have seen how to load the MNIST dataset and train a simple Multilayer Perceptron model on it, it is time to develop a more sophisticated convolutional neural network or CNN model. Keras does provide a lot of capability for creating convolutional neural networks. In this section we will create a simple CNN for MNIST that demonstrates how to use all of the aspects of a modern CNN implementation, including Convolutional layers, Pooling layers and Dropout layers. The ﬁrst step is to import the classes and functions needed."
      ]
    },
    {
      "cell_type": "code",
      "metadata": {
        "id": "0jXXvbddFVrv",
        "colab_type": "code",
        "colab": {}
      },
      "source": [
        "# fix random seed for reproducibility \n",
        "seed = 7 \n",
        "np.random.seed(seed)"
      ],
      "execution_count": 5,
      "outputs": []
    },
    {
      "cell_type": "markdown",
      "metadata": {
        "id": "oBXrCiWYG_6D",
        "colab_type": "text"
      },
      "source": [
        "Next we need to reshape the MNIST dataset so that it is suitable for use training a CNN. In Keras, the layers used for two-dimensional convolutions expect pixel values with the dimensions [channels][width][height]. In the case of RGB, the ﬁrst dimension channels would be 3 for the red, green and blue components and it would be like having 3 image inputs for every color image. In the case of MNIST where the channels values are gray scale, the pixel dimension is set to 1.\n"
      ]
    },
    {
      "cell_type": "code",
      "metadata": {
        "id": "f-PwdBpxFYrN",
        "colab_type": "code",
        "colab": {}
      },
      "source": [
        "# reshape to be [samples][channels][width][height] \n",
        "X_train = X_train.reshape(X_train.shape[0], 1, 28, 28).astype( 'float32' ) \n",
        "X_test = X_test.reshape(X_test.shape[0], 1, 28, 28).astype( 'float32' )"
      ],
      "execution_count": 6,
      "outputs": []
    },
    {
      "cell_type": "code",
      "metadata": {
        "id": "R4cFdfTSHRR3",
        "colab_type": "code",
        "colab": {
          "base_uri": "https://localhost:8080/",
          "height": 35
        },
        "outputId": "6092e068-c130-4698-b3e2-4bd06b2a8c7c"
      },
      "source": [
        "X_train.shape, y_train.shape ,X_test.shape, y_test.shape"
      ],
      "execution_count": 7,
      "outputs": [
        {
          "output_type": "execute_result",
          "data": {
            "text/plain": [
              "((60000, 1, 28, 28), (60000,), (10000, 1, 28, 28), (10000,))"
            ]
          },
          "metadata": {
            "tags": []
          },
          "execution_count": 7
        }
      ]
    },
    {
      "cell_type": "markdown",
      "metadata": {
        "id": "wKajHsdOKGmK",
        "colab_type": "text"
      },
      "source": [
        "As before, it is a good idea to normalize the pixel values to the range 0 and 1 and one hot encode the output variable."
      ]
    },
    {
      "cell_type": "code",
      "metadata": {
        "id": "o1W5NIJiKTd3",
        "colab_type": "code",
        "colab": {
          "base_uri": "https://localhost:8080/",
          "height": 70
        },
        "outputId": "e18bb71e-b702-4aa5-d2a5-70c49200b1c3"
      },
      "source": [
        "X_train[0][0][20]"
      ],
      "execution_count": 8,
      "outputs": [
        {
          "output_type": "execute_result",
          "data": {
            "text/plain": [
              "array([  0.,   0.,   0.,   0.,   0.,   0.,   0.,   0.,   0.,   0.,  24.,\n",
              "       114., 221., 253., 253., 253., 253., 201.,  78.,   0.,   0.,   0.,\n",
              "         0.,   0.,   0.,   0.,   0.,   0.], dtype=float32)"
            ]
          },
          "metadata": {
            "tags": []
          },
          "execution_count": 8
        }
      ]
    },
    {
      "cell_type": "code",
      "metadata": {
        "id": "EZVUieDSKoUO",
        "colab_type": "code",
        "colab": {
          "base_uri": "https://localhost:8080/",
          "height": 35
        },
        "outputId": "b9545ee1-13be-4a18-ad99-d117815e905d"
      },
      "source": [
        "y_train[0]"
      ],
      "execution_count": 9,
      "outputs": [
        {
          "output_type": "execute_result",
          "data": {
            "text/plain": [
              "5"
            ]
          },
          "metadata": {
            "tags": []
          },
          "execution_count": 9
        }
      ]
    },
    {
      "cell_type": "code",
      "metadata": {
        "id": "rI1XIdPnKHUt",
        "colab_type": "code",
        "colab": {}
      },
      "source": [
        "# normalize inputs from 0-255 to 0-1 \n",
        "X_train = X_train / 255\n",
        "X_test = X_test / 255 \n",
        "# one hot encode outputs \n",
        "y_train = np_utils.to_categorical(y_train) \n",
        "y_test = np_utils.to_categorical(y_test) \n",
        "num_classes = y_test.shape[1]"
      ],
      "execution_count": 10,
      "outputs": []
    },
    {
      "cell_type": "code",
      "metadata": {
        "id": "h_V0qjkWKwBH",
        "colab_type": "code",
        "colab": {
          "base_uri": "https://localhost:8080/",
          "height": 124
        },
        "outputId": "594514ca-26d4-4e28-d7f9-4f98e179ae53"
      },
      "source": [
        "X_train[0][0][20]"
      ],
      "execution_count": 11,
      "outputs": [
        {
          "output_type": "execute_result",
          "data": {
            "text/plain": [
              "array([0.        , 0.        , 0.        , 0.        , 0.        ,\n",
              "       0.        , 0.        , 0.        , 0.        , 0.        ,\n",
              "       0.09411765, 0.44705883, 0.8666667 , 0.99215686, 0.99215686,\n",
              "       0.99215686, 0.99215686, 0.7882353 , 0.30588236, 0.        ,\n",
              "       0.        , 0.        , 0.        , 0.        , 0.        ,\n",
              "       0.        , 0.        , 0.        ], dtype=float32)"
            ]
          },
          "metadata": {
            "tags": []
          },
          "execution_count": 11
        }
      ]
    },
    {
      "cell_type": "code",
      "metadata": {
        "id": "YqClmuURKxha",
        "colab_type": "code",
        "colab": {
          "base_uri": "https://localhost:8080/",
          "height": 35
        },
        "outputId": "0b2ca803-e8f6-44f0-9b87-c2e319c04ad8"
      },
      "source": [
        "y_train[0]"
      ],
      "execution_count": 12,
      "outputs": [
        {
          "output_type": "execute_result",
          "data": {
            "text/plain": [
              "array([0., 0., 0., 0., 0., 1., 0., 0., 0., 0.], dtype=float32)"
            ]
          },
          "metadata": {
            "tags": []
          },
          "execution_count": 12
        }
      ]
    },
    {
      "cell_type": "markdown",
      "metadata": {
        "id": "4GWhEkDgK9b3",
        "colab_type": "text"
      },
      "source": [
        "# Creating the Larger CNN model\n",
        "\n",
        "Next we deﬁne our neural network model. Convolutional neural networks are more complex than standard Multilayer Perceptrons, so we will start by using a simple structure to begin with that uses all of the elements for state-of-the-art results. Below summarizes the network architecture.\n",
        "1. Convolutional layer with 30 feature maps of size 5x5. \n",
        "2. Pooling layer taking the max over 2x2 patches. \n",
        "3. Convolutional layer with 15 feature maps of size 3x3. \n",
        "4. Pooling layer taking the max over 2x2 patches. \n",
        "5. Dropout layer with a probability of 20%.\n",
        "6. Flatten layer.\n",
        "7. Fully connected layer with 128 neurons and rectiﬁer activation\n",
        "8. Fully connected layer with 50 neurons and rectiﬁer activation.\n",
        "9. Output layer."
      ]
    },
    {
      "cell_type": "markdown",
      "metadata": {
        "id": "X6x9TQ34Q9jm",
        "colab_type": "text"
      },
      "source": [
        "    Visible -> Convolutional -> Max Pooling -> Convolutional -> Max Pooling -> Dropout ->  Hidden  ->   Hidden ->   Output\n",
        "    1x28x28     30 maps, 5x5        2x2         15 maps 3x3         2x2           20%    128 neurons  50 neurons  10 outputs\n"
      ]
    },
    {
      "cell_type": "code",
      "metadata": {
        "id": "CzbvHRL8STXu",
        "colab_type": "code",
        "colab": {}
      },
      "source": [
        "def baseline_model(): \n",
        "  # create model \n",
        "  model = Sequential() \n",
        "  model.add(Convolution2D(32, (5, 5), padding= 'valid' , input_shape=(1, 28, 28), activation= 'relu', data_format = 'channels_first' )) \n",
        "  model.add(MaxPooling2D(pool_size=(2, 2))) \n",
        "  model.add(Dropout(0.2)) \n",
        "  model.add(Flatten()) \n",
        "  model.add(Dense(128, activation= 'relu' )) \n",
        "  model.add(Dense(num_classes, activation= 'softmax' )) \n",
        "  # Compile model \n",
        "  model.compile(loss= 'categorical_crossentropy' , optimizer= 'adam' , metrics=[ 'accuracy' ]) \n",
        "  return model"
      ],
      "execution_count": 13,
      "outputs": []
    },
    {
      "cell_type": "markdown",
      "metadata": {
        "id": "5nCJj4r7SyNQ",
        "colab_type": "text"
      },
      "source": [
        "We evaluate the model the same way as before with the Multilayer Perceptron. The CNN is ﬁt over 10 epochs with a batch size of 200."
      ]
    },
    {
      "cell_type": "code",
      "metadata": {
        "id": "TDnJ7ujoSkYq",
        "colab_type": "code",
        "colab": {
          "base_uri": "https://localhost:8080/",
          "height": 390
        },
        "outputId": "b124ebaa-5805-4a8e-c173-76f120314ae5"
      },
      "source": [
        "# build the model \n",
        "model = baseline_model() \n",
        "# Fit the model \n",
        "history = model.fit(X_train, y_train, validation_data=(X_test, y_test), epochs=10, batch_size=200, verbose=2) "
      ],
      "execution_count": 14,
      "outputs": [
        {
          "output_type": "stream",
          "text": [
            "Train on 60000 samples, validate on 10000 samples\n",
            "Epoch 1/10\n",
            " - 36s - loss: 0.2554 - accuracy: 0.9266 - val_loss: 0.0889 - val_accuracy: 0.9724\n",
            "Epoch 2/10\n",
            " - 36s - loss: 0.0823 - accuracy: 0.9752 - val_loss: 0.0541 - val_accuracy: 0.9823\n",
            "Epoch 3/10\n",
            " - 36s - loss: 0.0559 - accuracy: 0.9826 - val_loss: 0.0439 - val_accuracy: 0.9854\n",
            "Epoch 4/10\n",
            " - 36s - loss: 0.0436 - accuracy: 0.9865 - val_loss: 0.0436 - val_accuracy: 0.9866\n",
            "Epoch 5/10\n",
            " - 35s - loss: 0.0346 - accuracy: 0.9891 - val_loss: 0.0377 - val_accuracy: 0.9878\n",
            "Epoch 6/10\n",
            " - 36s - loss: 0.0274 - accuracy: 0.9916 - val_loss: 0.0333 - val_accuracy: 0.9895\n",
            "Epoch 7/10\n",
            " - 36s - loss: 0.0236 - accuracy: 0.9922 - val_loss: 0.0361 - val_accuracy: 0.9883\n",
            "Epoch 8/10\n",
            " - 35s - loss: 0.0199 - accuracy: 0.9931 - val_loss: 0.0335 - val_accuracy: 0.9895\n",
            "Epoch 9/10\n",
            " - 35s - loss: 0.0170 - accuracy: 0.9947 - val_loss: 0.0339 - val_accuracy: 0.9895\n",
            "Epoch 10/10\n",
            " - 35s - loss: 0.0142 - accuracy: 0.9955 - val_loss: 0.0324 - val_accuracy: 0.9893\n"
          ],
          "name": "stdout"
        }
      ]
    },
    {
      "cell_type": "markdown",
      "metadata": {
        "id": "5huyEsDAax8f",
        "colab_type": "text"
      },
      "source": [
        "Running the example, the accuracy on the training and validation test is printed each epoch and at the end of the classiﬁcation error rate is printed. Epochs may take 60 seconds to run on the CPU, or about 10 minutes in total depending on your hardware. You can see that the network achieves an error rate of 1.10, which is better than our simple Multilayer Perceptron model above"
      ]
    },
    {
      "cell_type": "code",
      "metadata": {
        "id": "Q8qq73eWTLZH",
        "colab_type": "code",
        "colab": {
          "base_uri": "https://localhost:8080/",
          "height": 35
        },
        "outputId": "500cfe4c-fc04-4913-907c-c4608fef3c8e"
      },
      "source": [
        "# Final evaluation of the model \n",
        "scores = model.evaluate(X_test, y_test, verbose=2)\n",
        "scores"
      ],
      "execution_count": 18,
      "outputs": [
        {
          "output_type": "execute_result",
          "data": {
            "text/plain": [
              "[0.03244279860862589, 0.989300012588501]"
            ]
          },
          "metadata": {
            "tags": []
          },
          "execution_count": 18
        }
      ]
    }
  ]
}