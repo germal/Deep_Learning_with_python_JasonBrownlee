{
  "nbformat": 4,
  "nbformat_minor": 0,
  "metadata": {
    "colab": {
      "name": "7.2 Pima Indians Onset of Diabetes Dataset.ipynb",
      "provenance": [],
      "toc_visible": true,
      "authorship_tag": "ABX9TyPI0TSulnFf/v+w2Uc8JnJh",
      "include_colab_link": true
    },
    "kernelspec": {
      "name": "python3",
      "display_name": "Python 3"
    }
  },
  "cells": [
    {
      "cell_type": "markdown",
      "metadata": {
        "id": "view-in-github",
        "colab_type": "text"
      },
      "source": [
        "<a href=\"https://colab.research.google.com/github/marcelounb/Deep_Learning_with_python_JasonBrownlee/blob/master/7_2_Pima_Indians_Onset_of_Diabetes_Dataset.ipynb\" target=\"_parent\"><img src=\"https://colab.research.google.com/assets/colab-badge.svg\" alt=\"Open In Colab\"/></a>"
      ]
    },
    {
      "cell_type": "markdown",
      "metadata": {
        "id": "nvKOhxrOhpmC",
        "colab_type": "text"
      },
      "source": [
        "# 7.2 Pima Indians Onset of Diabetes Dataset\n",
        " patient medical record data for Pima Indians and whether they had an onset of diabetes within ﬁve years. It is a binary classiﬁcation problem (onset of diabetes as 1 or not as 0). The input variables that describe each patient are numerical and have varying scales. Below lists the eight attributes for the dataset:\n",
        "1. Number of times pregnant.\n",
        "2. Plasma glucose concentration a 2 hours in an oral glucose tolerance test.\n",
        "3. Diastolic blood pressure (mm Hg).\n",
        "4. Triceps skin fold thickness (mm).\n",
        "5. 2-Hour serum insulin (mu U/ml).\n",
        "6. Body mass index.\n",
        "7. Diabetes pedigree function.\n",
        "8. Age (years).\n",
        "9. Class, onset of diabetes within ﬁve years.\n",
        "\n",
        "Given that all attributes are numerical makes it easy to use directly with neural networks that expect numerical inputs and output values, and ideal for our ﬁrst neural network in Keras. This dataset will also be used for a number of additional lessons coming up in this book, so keep it handy. below is a sample of the dataset showing the ﬁrst 5 rows of the 768 instances:\n",
        "\n",
        "6,148,72,35,0,33.6,0.627,50,1 \n",
        "\n",
        "1,85,66,29,0,26.6,0.351,31,0 \n",
        "\n",
        "8,183,64,0,0,23.3,0.672,32,1 \n",
        "\n",
        "1,89,66,23,94,28.1,0.167,21,0 \n",
        "\n",
        "0,137,40,35,168,43.1,2.288,33,1\n"
      ]
    },
    {
      "cell_type": "markdown",
      "metadata": {
        "id": "GAX8Zec9kc-K",
        "colab_type": "text"
      },
      "source": [
        "# Loading Data"
      ]
    },
    {
      "cell_type": "code",
      "metadata": {
        "id": "5CPE29t-Bfaf",
        "colab_type": "code",
        "colab": {
          "base_uri": "https://localhost:8080/",
          "height": 35
        },
        "outputId": "790437b2-f7f9-4c61-800d-02c9c5361376"
      },
      "source": [
        "from keras.models import Sequential \n",
        "from keras.layers import Dense \n",
        "import numpy as np\n",
        "# fix random seed for reproducibility \n",
        "seed = 7 \n",
        "np.random.seed(seed)"
      ],
      "execution_count": 2,
      "outputs": [
        {
          "output_type": "stream",
          "text": [
            "Using TensorFlow backend.\n"
          ],
          "name": "stderr"
        }
      ]
    },
    {
      "cell_type": "code",
      "metadata": {
        "id": "NphmfwqhkpTq",
        "colab_type": "code",
        "colab": {}
      },
      "source": [
        "# load pima indians dataset \n",
        "dataset = np.loadtxt(\"pima-indians-diabetes.csv\", delimiter=\",\") \n",
        "# split into input (X) and output (Y) variables \n",
        "X = dataset[:,0:8] \n",
        "Y = dataset[:,8]"
      ],
      "execution_count": 0,
      "outputs": []
    },
    {
      "cell_type": "code",
      "metadata": {
        "id": "3H39mtChk8Dv",
        "colab_type": "code",
        "colab": {
          "base_uri": "https://localhost:8080/",
          "height": 35
        },
        "outputId": "4d6c8639-b51a-471f-fddf-d443869592b1"
      },
      "source": [
        "X.shape"
      ],
      "execution_count": 7,
      "outputs": [
        {
          "output_type": "execute_result",
          "data": {
            "text/plain": [
              "(768, 8)"
            ]
          },
          "metadata": {
            "tags": []
          },
          "execution_count": 7
        }
      ]
    },
    {
      "cell_type": "code",
      "metadata": {
        "id": "Tc6Nxpalk_S7",
        "colab_type": "code",
        "colab": {
          "base_uri": "https://localhost:8080/",
          "height": 35
        },
        "outputId": "087c4383-38bc-4f2d-a9f2-502f92548ac1"
      },
      "source": [
        "Y.shape"
      ],
      "execution_count": 8,
      "outputs": [
        {
          "output_type": "execute_result",
          "data": {
            "text/plain": [
              "(768,)"
            ]
          },
          "metadata": {
            "tags": []
          },
          "execution_count": 8
        }
      ]
    },
    {
      "cell_type": "markdown",
      "metadata": {
        "id": "9S3XtyealLv5",
        "colab_type": "text"
      },
      "source": [
        "# Deﬁning the Model\n",
        "In this example we will use a fully-connected network structure with three layers.\n",
        "\n",
        "Fully connected layers are deﬁned using the Dense class. We can specify the number of neurons in the layer as the ﬁrst argument, the initialization method as the second argument as init and specify the activation function using the activation argument. In this case we initialize the network weights to a small random number generated from a uniform distribution (uniform), in this case between 0 and 0.05 because that is the default uniform weight initialization in Keras. Another traditional alternative would be normal for small random numbers generated from a Gaussian distribution.\n",
        "\n",
        "We will use the rectiﬁer (relu) activation function on the ﬁrst two layers and thesigmoid activation function in the output layer. It used to be the case that sigmoid and tanh activation functions were preferred for all layers. These days, better performance is seen using the rectiﬁer activation function. We use a sigmoid activation function on the output layer to ensure our network output is between 0 and 1 and easy to map to either a probability of class 1 or snap to a hard classiﬁcation of either class with a default threshold of 0.5. We can piece it all together by adding each layer. The ﬁrst hidden layer has 12 neurons and expects 8 input variables. The second hidden layer has 8 neurons and ﬁnally the output layer has 1 neuron to predict the class (onset of diabetes or not)."
      ]
    },
    {
      "cell_type": "code",
      "metadata": {
        "id": "spamllKxlGHI",
        "colab_type": "code",
        "colab": {}
      },
      "source": [
        "# create model \n",
        "model = Sequential() \n",
        "model.add(Dense(12, input_dim=8, kernel_initializer= 'uniform' , activation= 'relu' )) \n",
        "model.add(Dense(8, kernel_initializer= 'uniform' , activation= 'relu' )) \n",
        "model.add(Dense(1, kernel_initializer= 'uniform' , activation= 'sigmoid' ))"
      ],
      "execution_count": 0,
      "outputs": []
    },
    {
      "cell_type": "markdown",
      "metadata": {
        "id": "-6cpa2dTm-N3",
        "colab_type": "text"
      },
      "source": [
        "# Compiling the Model\n",
        "Now that the model is deﬁned, we can compile it. Compiling the model uses the ecient numerical libraries under the covers (the so-called backend) such as Theano or TensorFlow. The backend automatically chooses the best way to represent the network for training and making predictions to run on your hardware. When compiling, we must specify some additional properties required when training the network. Remember training a network means ﬁnding the best set of weights to make predictions for this problem.\n",
        "\n",
        "We must specify the loss function to use to evaluate a set of weights, the optimizer used to search through di↵erent weights for the network and any optional metrics we would like to collect and report during training. In this case we will use logarithmic loss, which for a binary classiﬁcation problem is deﬁned in Keras as binary crossentropy. We will also use the ecient gradient descent algorithm adam for no other reason that it is an ecient default. Learn more about the Adam optimization algorithm in the paper Adam: A Method for Stochastic Optimization (http://arxiv.org/abs/1412.6980). Finally, because it is a classiﬁcation problem, we will collect and report the classiﬁcation accuracy as the metric"
      ]
    },
    {
      "cell_type": "code",
      "metadata": {
        "id": "ll6gDRvHl1Gi",
        "colab_type": "code",
        "colab": {}
      },
      "source": [
        "# Compile model \n",
        "model.compile(loss= 'binary_crossentropy' , optimizer= 'adam' , metrics=[ 'accuracy' ])"
      ],
      "execution_count": 0,
      "outputs": []
    },
    {
      "cell_type": "markdown",
      "metadata": {
        "id": "-dJhsHlOoA0I",
        "colab_type": "text"
      },
      "source": [
        "# Fiting the Model\n",
        "We have deﬁned our model and compiled it ready for ecient computation. Now it is time to execute the model on some data. We can train or ﬁt our model on our loaded data by calling the fit( ) function on the model. \n",
        "\n",
        "The training process will run for a ﬁxed number of iterations through the dataset called epochs, that we must specify using the nb epoch argument. We can also set the number of instances that are evaluated before a weight update in the network is performed called the batch size and set using the batch size argument. For this problem we will run for a small number of epochs (150) and use a relatively small batch size of 10. Again, these can be chosen experimentally by trial and error."
      ]
    },
    {
      "cell_type": "code",
      "metadata": {
        "id": "aR4pJkefnZ-H",
        "colab_type": "code",
        "colab": {
          "base_uri": "https://localhost:8080/",
          "height": 1000
        },
        "outputId": "12b7cc5e-56e9-4fc1-e374-03f4092b5f87"
      },
      "source": [
        "#Model fit\n",
        "model.fit(X, Y, epochs=150, batch_size=10)"
      ],
      "execution_count": 15,
      "outputs": [
        {
          "output_type": "stream",
          "text": [
            "Epoch 1/150\n",
            "768/768 [==============================] - 0s 564us/step - loss: 0.6811 - accuracy: 0.6250\n",
            "Epoch 2/150\n",
            "768/768 [==============================] - 0s 119us/step - loss: 0.6652 - accuracy: 0.6523\n",
            "Epoch 3/150\n",
            "768/768 [==============================] - 0s 110us/step - loss: 0.6576 - accuracy: 0.6510\n",
            "Epoch 4/150\n",
            "768/768 [==============================] - 0s 110us/step - loss: 0.6487 - accuracy: 0.6562\n",
            "Epoch 5/150\n",
            "768/768 [==============================] - 0s 110us/step - loss: 0.6392 - accuracy: 0.6602\n",
            "Epoch 6/150\n",
            "768/768 [==============================] - 0s 114us/step - loss: 0.6264 - accuracy: 0.6654\n",
            "Epoch 7/150\n",
            "768/768 [==============================] - 0s 109us/step - loss: 0.6186 - accuracy: 0.6667\n",
            "Epoch 8/150\n",
            "768/768 [==============================] - 0s 118us/step - loss: 0.6087 - accuracy: 0.6745\n",
            "Epoch 9/150\n",
            "768/768 [==============================] - 0s 112us/step - loss: 0.6075 - accuracy: 0.6914\n",
            "Epoch 10/150\n",
            "768/768 [==============================] - 0s 116us/step - loss: 0.5942 - accuracy: 0.6875\n",
            "Epoch 11/150\n",
            "768/768 [==============================] - 0s 114us/step - loss: 0.5967 - accuracy: 0.6940\n",
            "Epoch 12/150\n",
            "768/768 [==============================] - 0s 114us/step - loss: 0.5879 - accuracy: 0.6849\n",
            "Epoch 13/150\n",
            "768/768 [==============================] - 0s 111us/step - loss: 0.5859 - accuracy: 0.6966\n",
            "Epoch 14/150\n",
            "768/768 [==============================] - 0s 127us/step - loss: 0.5802 - accuracy: 0.6940\n",
            "Epoch 15/150\n",
            "768/768 [==============================] - 0s 111us/step - loss: 0.5812 - accuracy: 0.6953\n",
            "Epoch 16/150\n",
            "768/768 [==============================] - 0s 117us/step - loss: 0.5720 - accuracy: 0.7057\n",
            "Epoch 17/150\n",
            "768/768 [==============================] - 0s 110us/step - loss: 0.5712 - accuracy: 0.7148\n",
            "Epoch 18/150\n",
            "768/768 [==============================] - 0s 111us/step - loss: 0.5708 - accuracy: 0.7188\n",
            "Epoch 19/150\n",
            "768/768 [==============================] - 0s 125us/step - loss: 0.5672 - accuracy: 0.7122\n",
            "Epoch 20/150\n",
            "768/768 [==============================] - 0s 115us/step - loss: 0.5699 - accuracy: 0.7109\n",
            "Epoch 21/150\n",
            "768/768 [==============================] - 0s 113us/step - loss: 0.5682 - accuracy: 0.7070\n",
            "Epoch 22/150\n",
            "768/768 [==============================] - 0s 112us/step - loss: 0.5636 - accuracy: 0.6992\n",
            "Epoch 23/150\n",
            "768/768 [==============================] - 0s 111us/step - loss: 0.5579 - accuracy: 0.7214\n",
            "Epoch 24/150\n",
            "768/768 [==============================] - 0s 115us/step - loss: 0.5620 - accuracy: 0.7214\n",
            "Epoch 25/150\n",
            "768/768 [==============================] - 0s 121us/step - loss: 0.5685 - accuracy: 0.6901\n",
            "Epoch 26/150\n",
            "768/768 [==============================] - 0s 112us/step - loss: 0.5535 - accuracy: 0.7122\n",
            "Epoch 27/150\n",
            "768/768 [==============================] - 0s 120us/step - loss: 0.5552 - accuracy: 0.7135\n",
            "Epoch 28/150\n",
            "768/768 [==============================] - 0s 112us/step - loss: 0.5545 - accuracy: 0.7201\n",
            "Epoch 29/150\n",
            "768/768 [==============================] - 0s 112us/step - loss: 0.5559 - accuracy: 0.7279\n",
            "Epoch 30/150\n",
            "768/768 [==============================] - 0s 115us/step - loss: 0.5469 - accuracy: 0.7214\n",
            "Epoch 31/150\n",
            "768/768 [==============================] - 0s 117us/step - loss: 0.5507 - accuracy: 0.7266\n",
            "Epoch 32/150\n",
            "768/768 [==============================] - 0s 110us/step - loss: 0.5413 - accuracy: 0.7357\n",
            "Epoch 33/150\n",
            "768/768 [==============================] - 0s 118us/step - loss: 0.5475 - accuracy: 0.7331\n",
            "Epoch 34/150\n",
            "768/768 [==============================] - 0s 132us/step - loss: 0.5372 - accuracy: 0.7396\n",
            "Epoch 35/150\n",
            "768/768 [==============================] - 0s 111us/step - loss: 0.5464 - accuracy: 0.7331\n",
            "Epoch 36/150\n",
            "768/768 [==============================] - 0s 115us/step - loss: 0.5453 - accuracy: 0.7201\n",
            "Epoch 37/150\n",
            "768/768 [==============================] - 0s 119us/step - loss: 0.5512 - accuracy: 0.7174\n",
            "Epoch 38/150\n",
            "768/768 [==============================] - 0s 111us/step - loss: 0.5435 - accuracy: 0.7409\n",
            "Epoch 39/150\n",
            "768/768 [==============================] - 0s 115us/step - loss: 0.5482 - accuracy: 0.7161\n",
            "Epoch 40/150\n",
            "768/768 [==============================] - 0s 111us/step - loss: 0.5396 - accuracy: 0.7357\n",
            "Epoch 41/150\n",
            "768/768 [==============================] - 0s 112us/step - loss: 0.5421 - accuracy: 0.7357\n",
            "Epoch 42/150\n",
            "768/768 [==============================] - 0s 114us/step - loss: 0.5373 - accuracy: 0.7357\n",
            "Epoch 43/150\n",
            "768/768 [==============================] - 0s 113us/step - loss: 0.5342 - accuracy: 0.7435\n",
            "Epoch 44/150\n",
            "768/768 [==============================] - 0s 116us/step - loss: 0.5338 - accuracy: 0.7357\n",
            "Epoch 45/150\n",
            "768/768 [==============================] - 0s 111us/step - loss: 0.5395 - accuracy: 0.7318\n",
            "Epoch 46/150\n",
            "768/768 [==============================] - 0s 120us/step - loss: 0.5492 - accuracy: 0.7318\n",
            "Epoch 47/150\n",
            "768/768 [==============================] - 0s 118us/step - loss: 0.5362 - accuracy: 0.7448\n",
            "Epoch 48/150\n",
            "768/768 [==============================] - 0s 120us/step - loss: 0.5370 - accuracy: 0.7474\n",
            "Epoch 49/150\n",
            "768/768 [==============================] - 0s 114us/step - loss: 0.5277 - accuracy: 0.7344\n",
            "Epoch 50/150\n",
            "768/768 [==============================] - 0s 113us/step - loss: 0.5249 - accuracy: 0.7448\n",
            "Epoch 51/150\n",
            "768/768 [==============================] - 0s 112us/step - loss: 0.5258 - accuracy: 0.7422\n",
            "Epoch 52/150\n",
            "768/768 [==============================] - 0s 114us/step - loss: 0.5214 - accuracy: 0.7513\n",
            "Epoch 53/150\n",
            "768/768 [==============================] - 0s 119us/step - loss: 0.5314 - accuracy: 0.7383\n",
            "Epoch 54/150\n",
            "768/768 [==============================] - 0s 116us/step - loss: 0.5243 - accuracy: 0.7500\n",
            "Epoch 55/150\n",
            "768/768 [==============================] - 0s 127us/step - loss: 0.5299 - accuracy: 0.7461\n",
            "Epoch 56/150\n",
            "768/768 [==============================] - 0s 111us/step - loss: 0.5158 - accuracy: 0.7552\n",
            "Epoch 57/150\n",
            "768/768 [==============================] - 0s 111us/step - loss: 0.5187 - accuracy: 0.7474\n",
            "Epoch 58/150\n",
            "768/768 [==============================] - 0s 113us/step - loss: 0.5216 - accuracy: 0.7539\n",
            "Epoch 59/150\n",
            "768/768 [==============================] - 0s 131us/step - loss: 0.5184 - accuracy: 0.7565\n",
            "Epoch 60/150\n",
            "768/768 [==============================] - 0s 113us/step - loss: 0.5148 - accuracy: 0.7487\n",
            "Epoch 61/150\n",
            "768/768 [==============================] - 0s 113us/step - loss: 0.5158 - accuracy: 0.7500\n",
            "Epoch 62/150\n",
            "768/768 [==============================] - 0s 111us/step - loss: 0.5169 - accuracy: 0.7539\n",
            "Epoch 63/150\n",
            "768/768 [==============================] - 0s 113us/step - loss: 0.5142 - accuracy: 0.7617\n",
            "Epoch 64/150\n",
            "768/768 [==============================] - 0s 113us/step - loss: 0.5139 - accuracy: 0.7513\n",
            "Epoch 65/150\n",
            "768/768 [==============================] - 0s 114us/step - loss: 0.5109 - accuracy: 0.7513\n",
            "Epoch 66/150\n",
            "768/768 [==============================] - 0s 112us/step - loss: 0.5101 - accuracy: 0.7526\n",
            "Epoch 67/150\n",
            "768/768 [==============================] - 0s 119us/step - loss: 0.5090 - accuracy: 0.7565\n",
            "Epoch 68/150\n",
            "768/768 [==============================] - 0s 115us/step - loss: 0.5047 - accuracy: 0.7643\n",
            "Epoch 69/150\n",
            "768/768 [==============================] - 0s 112us/step - loss: 0.5027 - accuracy: 0.7643\n",
            "Epoch 70/150\n",
            "768/768 [==============================] - 0s 128us/step - loss: 0.5057 - accuracy: 0.7695\n",
            "Epoch 71/150\n",
            "768/768 [==============================] - 0s 112us/step - loss: 0.5019 - accuracy: 0.7578\n",
            "Epoch 72/150\n",
            "768/768 [==============================] - 0s 109us/step - loss: 0.5028 - accuracy: 0.7656\n",
            "Epoch 73/150\n",
            "768/768 [==============================] - 0s 114us/step - loss: 0.4944 - accuracy: 0.7682\n",
            "Epoch 74/150\n",
            "768/768 [==============================] - 0s 115us/step - loss: 0.5005 - accuracy: 0.7630\n",
            "Epoch 75/150\n",
            "768/768 [==============================] - 0s 117us/step - loss: 0.4974 - accuracy: 0.7773\n",
            "Epoch 76/150\n",
            "768/768 [==============================] - 0s 110us/step - loss: 0.4927 - accuracy: 0.7682\n",
            "Epoch 77/150\n",
            "768/768 [==============================] - 0s 115us/step - loss: 0.4934 - accuracy: 0.7669\n",
            "Epoch 78/150\n",
            "768/768 [==============================] - 0s 108us/step - loss: 0.4960 - accuracy: 0.7669\n",
            "Epoch 79/150\n",
            "768/768 [==============================] - 0s 122us/step - loss: 0.4889 - accuracy: 0.7812\n",
            "Epoch 80/150\n",
            "768/768 [==============================] - 0s 115us/step - loss: 0.4938 - accuracy: 0.7721\n",
            "Epoch 81/150\n",
            "768/768 [==============================] - 0s 122us/step - loss: 0.4951 - accuracy: 0.7747\n",
            "Epoch 82/150\n",
            "768/768 [==============================] - 0s 116us/step - loss: 0.4902 - accuracy: 0.7656\n",
            "Epoch 83/150\n",
            "768/768 [==============================] - 0s 112us/step - loss: 0.4920 - accuracy: 0.7617\n",
            "Epoch 84/150\n",
            "768/768 [==============================] - 0s 108us/step - loss: 0.4840 - accuracy: 0.7656\n",
            "Epoch 85/150\n",
            "768/768 [==============================] - 0s 120us/step - loss: 0.4886 - accuracy: 0.7682\n",
            "Epoch 86/150\n",
            "768/768 [==============================] - 0s 110us/step - loss: 0.4875 - accuracy: 0.7812\n",
            "Epoch 87/150\n",
            "768/768 [==============================] - 0s 111us/step - loss: 0.4865 - accuracy: 0.7682\n",
            "Epoch 88/150\n",
            "768/768 [==============================] - 0s 112us/step - loss: 0.4789 - accuracy: 0.7786\n",
            "Epoch 89/150\n",
            "768/768 [==============================] - 0s 117us/step - loss: 0.4798 - accuracy: 0.7760\n",
            "Epoch 90/150\n",
            "768/768 [==============================] - 0s 109us/step - loss: 0.4971 - accuracy: 0.7695\n",
            "Epoch 91/150\n",
            "768/768 [==============================] - 0s 123us/step - loss: 0.4819 - accuracy: 0.7708\n",
            "Epoch 92/150\n",
            "768/768 [==============================] - 0s 114us/step - loss: 0.4864 - accuracy: 0.7799\n",
            "Epoch 93/150\n",
            "768/768 [==============================] - 0s 113us/step - loss: 0.4758 - accuracy: 0.7721\n",
            "Epoch 94/150\n",
            "768/768 [==============================] - 0s 111us/step - loss: 0.4749 - accuracy: 0.7839\n",
            "Epoch 95/150\n",
            "768/768 [==============================] - 0s 116us/step - loss: 0.4779 - accuracy: 0.7643\n",
            "Epoch 96/150\n",
            "768/768 [==============================] - 0s 116us/step - loss: 0.4798 - accuracy: 0.7721\n",
            "Epoch 97/150\n",
            "768/768 [==============================] - 0s 121us/step - loss: 0.4772 - accuracy: 0.7708\n",
            "Epoch 98/150\n",
            "768/768 [==============================] - 0s 126us/step - loss: 0.4744 - accuracy: 0.7708\n",
            "Epoch 99/150\n",
            "768/768 [==============================] - 0s 120us/step - loss: 0.4771 - accuracy: 0.7734\n",
            "Epoch 100/150\n",
            "768/768 [==============================] - 0s 116us/step - loss: 0.4780 - accuracy: 0.7852\n",
            "Epoch 101/150\n",
            "768/768 [==============================] - 0s 116us/step - loss: 0.4748 - accuracy: 0.7734\n",
            "Epoch 102/150\n",
            "768/768 [==============================] - 0s 116us/step - loss: 0.4678 - accuracy: 0.7852\n",
            "Epoch 103/150\n",
            "768/768 [==============================] - 0s 113us/step - loss: 0.4683 - accuracy: 0.7773\n",
            "Epoch 104/150\n",
            "768/768 [==============================] - 0s 122us/step - loss: 0.4715 - accuracy: 0.7799\n",
            "Epoch 105/150\n",
            "768/768 [==============================] - 0s 115us/step - loss: 0.4765 - accuracy: 0.7591\n",
            "Epoch 106/150\n",
            "768/768 [==============================] - 0s 123us/step - loss: 0.4634 - accuracy: 0.7982\n",
            "Epoch 107/150\n",
            "768/768 [==============================] - 0s 113us/step - loss: 0.4739 - accuracy: 0.7865\n",
            "Epoch 108/150\n",
            "768/768 [==============================] - 0s 111us/step - loss: 0.4648 - accuracy: 0.7878\n",
            "Epoch 109/150\n",
            "768/768 [==============================] - 0s 119us/step - loss: 0.4639 - accuracy: 0.7773\n",
            "Epoch 110/150\n",
            "768/768 [==============================] - 0s 115us/step - loss: 0.4684 - accuracy: 0.7643\n",
            "Epoch 111/150\n",
            "768/768 [==============================] - 0s 122us/step - loss: 0.4671 - accuracy: 0.7734\n",
            "Epoch 112/150\n",
            "768/768 [==============================] - 0s 111us/step - loss: 0.4652 - accuracy: 0.7826\n",
            "Epoch 113/150\n",
            "768/768 [==============================] - 0s 109us/step - loss: 0.4647 - accuracy: 0.7747\n",
            "Epoch 114/150\n",
            "768/768 [==============================] - 0s 113us/step - loss: 0.4573 - accuracy: 0.7982\n",
            "Epoch 115/150\n",
            "768/768 [==============================] - 0s 114us/step - loss: 0.4653 - accuracy: 0.7852\n",
            "Epoch 116/150\n",
            "768/768 [==============================] - 0s 118us/step - loss: 0.4658 - accuracy: 0.7799\n",
            "Epoch 117/150\n",
            "768/768 [==============================] - 0s 117us/step - loss: 0.4661 - accuracy: 0.7760\n",
            "Epoch 118/150\n",
            "768/768 [==============================] - 0s 121us/step - loss: 0.4615 - accuracy: 0.7865\n",
            "Epoch 119/150\n",
            "768/768 [==============================] - 0s 131us/step - loss: 0.4586 - accuracy: 0.7773\n",
            "Epoch 120/150\n",
            "768/768 [==============================] - 0s 115us/step - loss: 0.4616 - accuracy: 0.7878\n",
            "Epoch 121/150\n",
            "768/768 [==============================] - 0s 115us/step - loss: 0.4558 - accuracy: 0.7943\n",
            "Epoch 122/150\n",
            "768/768 [==============================] - 0s 123us/step - loss: 0.4624 - accuracy: 0.7826\n",
            "Epoch 123/150\n",
            "768/768 [==============================] - 0s 113us/step - loss: 0.4523 - accuracy: 0.7930\n",
            "Epoch 124/150\n",
            "768/768 [==============================] - 0s 114us/step - loss: 0.4576 - accuracy: 0.7839\n",
            "Epoch 125/150\n",
            "768/768 [==============================] - 0s 125us/step - loss: 0.4537 - accuracy: 0.7852\n",
            "Epoch 126/150\n",
            "768/768 [==============================] - 0s 121us/step - loss: 0.4544 - accuracy: 0.7786\n",
            "Epoch 127/150\n",
            "768/768 [==============================] - 0s 111us/step - loss: 0.4563 - accuracy: 0.7839\n",
            "Epoch 128/150\n",
            "768/768 [==============================] - 0s 115us/step - loss: 0.4580 - accuracy: 0.7878\n",
            "Epoch 129/150\n",
            "768/768 [==============================] - 0s 113us/step - loss: 0.4543 - accuracy: 0.7891\n",
            "Epoch 130/150\n",
            "768/768 [==============================] - 0s 116us/step - loss: 0.4524 - accuracy: 0.7930\n",
            "Epoch 131/150\n",
            "768/768 [==============================] - 0s 114us/step - loss: 0.4514 - accuracy: 0.7852\n",
            "Epoch 132/150\n",
            "768/768 [==============================] - 0s 116us/step - loss: 0.4589 - accuracy: 0.7826\n",
            "Epoch 133/150\n",
            "768/768 [==============================] - 0s 108us/step - loss: 0.4607 - accuracy: 0.7773\n",
            "Epoch 134/150\n",
            "768/768 [==============================] - 0s 110us/step - loss: 0.4486 - accuracy: 0.7982\n",
            "Epoch 135/150\n",
            "768/768 [==============================] - 0s 110us/step - loss: 0.4537 - accuracy: 0.7852\n",
            "Epoch 136/150\n",
            "768/768 [==============================] - 0s 130us/step - loss: 0.4514 - accuracy: 0.7721\n",
            "Epoch 137/150\n",
            "768/768 [==============================] - 0s 122us/step - loss: 0.4474 - accuracy: 0.7799\n",
            "Epoch 138/150\n",
            "768/768 [==============================] - 0s 112us/step - loss: 0.4523 - accuracy: 0.7852\n",
            "Epoch 139/150\n",
            "768/768 [==============================] - 0s 111us/step - loss: 0.4475 - accuracy: 0.7969\n",
            "Epoch 140/150\n",
            "768/768 [==============================] - 0s 119us/step - loss: 0.4495 - accuracy: 0.7930\n",
            "Epoch 141/150\n",
            "768/768 [==============================] - 0s 108us/step - loss: 0.4445 - accuracy: 0.7878\n",
            "Epoch 142/150\n",
            "768/768 [==============================] - 0s 109us/step - loss: 0.4559 - accuracy: 0.7826\n",
            "Epoch 143/150\n",
            "768/768 [==============================] - 0s 111us/step - loss: 0.4463 - accuracy: 0.7995\n",
            "Epoch 144/150\n",
            "768/768 [==============================] - 0s 114us/step - loss: 0.4503 - accuracy: 0.7904\n",
            "Epoch 145/150\n",
            "768/768 [==============================] - 0s 112us/step - loss: 0.4452 - accuracy: 0.7852\n",
            "Epoch 146/150\n",
            "768/768 [==============================] - 0s 109us/step - loss: 0.4498 - accuracy: 0.7839\n",
            "Epoch 147/150\n",
            "768/768 [==============================] - 0s 121us/step - loss: 0.4448 - accuracy: 0.7943\n",
            "Epoch 148/150\n",
            "768/768 [==============================] - 0s 119us/step - loss: 0.4408 - accuracy: 0.7917\n",
            "Epoch 149/150\n",
            "768/768 [==============================] - 0s 109us/step - loss: 0.4435 - accuracy: 0.8047\n",
            "Epoch 150/150\n",
            "768/768 [==============================] - 0s 113us/step - loss: 0.4454 - accuracy: 0.7917\n"
          ],
          "name": "stdout"
        },
        {
          "output_type": "execute_result",
          "data": {
            "text/plain": [
              "<keras.callbacks.callbacks.History at 0x7fd598ecc1d0>"
            ]
          },
          "metadata": {
            "tags": []
          },
          "execution_count": 15
        }
      ]
    },
    {
      "cell_type": "code",
      "metadata": {
        "id": "VaSqfwJKogX5",
        "colab_type": "code",
        "colab": {}
      },
      "source": [
        ""
      ],
      "execution_count": 0,
      "outputs": []
    }
  ]
}