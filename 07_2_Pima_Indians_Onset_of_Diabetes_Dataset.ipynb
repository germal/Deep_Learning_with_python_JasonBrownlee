{
  "nbformat": 4,
  "nbformat_minor": 0,
  "metadata": {
    "colab": {
      "name": "07.2 Pima Indians Onset of Diabetes Dataset.ipynb",
      "provenance": [],
      "toc_visible": true,
      "authorship_tag": "ABX9TyNaZgbjohqOPjn+As94NXWU",
      "include_colab_link": true
    },
    "kernelspec": {
      "name": "python3",
      "display_name": "Python 3"
    }
  },
  "cells": [
    {
      "cell_type": "markdown",
      "metadata": {
        "id": "view-in-github",
        "colab_type": "text"
      },
      "source": [
        "<a href=\"https://colab.research.google.com/github/marcelounb/Deep_Learning_with_python_JasonBrownlee/blob/master/07_2_Pima_Indians_Onset_of_Diabetes_Dataset.ipynb\" target=\"_parent\"><img src=\"https://colab.research.google.com/assets/colab-badge.svg\" alt=\"Open In Colab\"/></a>"
      ]
    },
    {
      "cell_type": "markdown",
      "metadata": {
        "id": "nvKOhxrOhpmC",
        "colab_type": "text"
      },
      "source": [
        "# 7.2 Pima Indians Onset of Diabetes Dataset\n",
        " patient medical record data for Pima Indians and whether they had an onset of diabetes within ﬁve years. It is a binary classiﬁcation problem (onset of diabetes as 1 or not as 0). The input variables that describe each patient are numerical and have varying scales. Below lists the eight attributes for the dataset:\n",
        "1. Number of times pregnant.\n",
        "2. Plasma glucose concentration a 2 hours in an oral glucose tolerance test.\n",
        "3. Diastolic blood pressure (mm Hg).\n",
        "4. Triceps skin fold thickness (mm).\n",
        "5. 2-Hour serum insulin (mu U/ml).\n",
        "6. Body mass index.\n",
        "7. Diabetes pedigree function.\n",
        "8. Age (years).\n",
        "9. Class, onset of diabetes within ﬁve years.\n",
        "\n",
        "Given that all attributes are numerical makes it easy to use directly with neural networks that expect numerical inputs and output values, and ideal for our ﬁrst neural network in Keras. This dataset will also be used for a number of additional lessons coming up in this book, so keep it handy. below is a sample of the dataset showing the ﬁrst 5 rows of the 768 instances:\n",
        "\n",
        "6,148,72,35,0,33.6,0.627,50,1 \n",
        "\n",
        "1,85,66,29,0,26.6,0.351,31,0 \n",
        "\n",
        "8,183,64,0,0,23.3,0.672,32,1 \n",
        "\n",
        "1,89,66,23,94,28.1,0.167,21,0 \n",
        "\n",
        "0,137,40,35,168,43.1,2.288,33,1\n"
      ]
    },
    {
      "cell_type": "markdown",
      "metadata": {
        "id": "GAX8Zec9kc-K",
        "colab_type": "text"
      },
      "source": [
        "# Loading Data"
      ]
    },
    {
      "cell_type": "code",
      "metadata": {
        "id": "5CPE29t-Bfaf",
        "colab_type": "code",
        "colab": {
          "base_uri": "https://localhost:8080/",
          "height": 35
        },
        "outputId": "52e667a4-83e9-4508-b73e-be34bae08e1e"
      },
      "source": [
        "from keras.models import Sequential \n",
        "from keras.layers import Dense \n",
        "import numpy as np\n",
        "# fix random seed for reproducibility \n",
        "seed = 7 \n",
        "np.random.seed(seed)"
      ],
      "execution_count": 1,
      "outputs": [
        {
          "output_type": "stream",
          "text": [
            "Using TensorFlow backend.\n"
          ],
          "name": "stderr"
        }
      ]
    },
    {
      "cell_type": "code",
      "metadata": {
        "id": "NphmfwqhkpTq",
        "colab_type": "code",
        "colab": {}
      },
      "source": [
        "# load pima indians dataset \n",
        "dataset = np.loadtxt(\"pima-indians-diabetes.csv\", delimiter=\",\") \n",
        "# split into input (X) and output (Y) variables \n",
        "X = dataset[:,0:8] \n",
        "Y = dataset[:,8]"
      ],
      "execution_count": 0,
      "outputs": []
    },
    {
      "cell_type": "code",
      "metadata": {
        "id": "3H39mtChk8Dv",
        "colab_type": "code",
        "colab": {
          "base_uri": "https://localhost:8080/",
          "height": 35
        },
        "outputId": "09516724-79b3-45df-9783-b217f8d403de"
      },
      "source": [
        "X.shape"
      ],
      "execution_count": 3,
      "outputs": [
        {
          "output_type": "execute_result",
          "data": {
            "text/plain": [
              "(768, 8)"
            ]
          },
          "metadata": {
            "tags": []
          },
          "execution_count": 3
        }
      ]
    },
    {
      "cell_type": "code",
      "metadata": {
        "id": "Tc6Nxpalk_S7",
        "colab_type": "code",
        "colab": {
          "base_uri": "https://localhost:8080/",
          "height": 35
        },
        "outputId": "e774924c-19ce-44dd-f4bb-b742a5209728"
      },
      "source": [
        "Y.shape"
      ],
      "execution_count": 4,
      "outputs": [
        {
          "output_type": "execute_result",
          "data": {
            "text/plain": [
              "(768,)"
            ]
          },
          "metadata": {
            "tags": []
          },
          "execution_count": 4
        }
      ]
    },
    {
      "cell_type": "markdown",
      "metadata": {
        "id": "9S3XtyealLv5",
        "colab_type": "text"
      },
      "source": [
        "# Deﬁning the Model\n",
        "In this example we will use a fully-connected network structure with three layers.\n",
        "\n",
        "Fully connected layers are deﬁned using the Dense class. We can specify the number of neurons in the layer as the ﬁrst argument, the initialization method as the second argument as init and specify the activation function using the activation argument. In this case we initialize the network weights to a small random number generated from a uniform distribution (uniform), in this case between 0 and 0.05 because that is the default uniform weight initialization in Keras. Another traditional alternative would be normal for small random numbers generated from a Gaussian distribution.\n",
        "\n",
        "We will use the rectiﬁer (relu) activation function on the ﬁrst two layers and thesigmoid activation function in the output layer. It used to be the case that sigmoid and tanh activation functions were preferred for all layers. These days, better performance is seen using the rectiﬁer activation function. We use a sigmoid activation function on the output layer to ensure our network output is between 0 and 1 and easy to map to either a probability of class 1 or snap to a hard classiﬁcation of either class with a default threshold of 0.5. We can piece it all together by adding each layer. The ﬁrst hidden layer has 12 neurons and expects 8 input variables. The second hidden layer has 8 neurons and ﬁnally the output layer has 1 neuron to predict the class (onset of diabetes or not)."
      ]
    },
    {
      "cell_type": "code",
      "metadata": {
        "id": "spamllKxlGHI",
        "colab_type": "code",
        "colab": {}
      },
      "source": [
        "# create model \n",
        "model = Sequential() \n",
        "model.add(Dense(12, input_dim=8, kernel_initializer= 'uniform' , activation= 'relu' )) \n",
        "model.add(Dense(8, kernel_initializer= 'uniform' , activation= 'relu' )) \n",
        "model.add(Dense(1, kernel_initializer= 'uniform' , activation= 'sigmoid' ))"
      ],
      "execution_count": 0,
      "outputs": []
    },
    {
      "cell_type": "markdown",
      "metadata": {
        "id": "-6cpa2dTm-N3",
        "colab_type": "text"
      },
      "source": [
        "# Compiling the Model\n",
        "Now that the model is deﬁned, we can compile it. Compiling the model uses the ecient numerical libraries under the covers (the so-called backend) such as Theano or TensorFlow. The backend automatically chooses the best way to represent the network for training and making predictions to run on your hardware. When compiling, we must specify some additional properties required when training the network. Remember training a network means ﬁnding the best set of weights to make predictions for this problem.\n",
        "\n",
        "We must specify the loss function to use to evaluate a set of weights, the optimizer used to search through di↵erent weights for the network and any optional metrics we would like to collect and report during training. In this case we will use logarithmic loss, which for a binary classiﬁcation problem is deﬁned in Keras as binary crossentropy. We will also use the ecient gradient descent algorithm adam for no other reason that it is an ecient default. Learn more about the Adam optimization algorithm in the paper Adam: A Method for Stochastic Optimization (http://arxiv.org/abs/1412.6980). Finally, because it is a classiﬁcation problem, we will collect and report the classiﬁcation accuracy as the metric"
      ]
    },
    {
      "cell_type": "code",
      "metadata": {
        "id": "ll6gDRvHl1Gi",
        "colab_type": "code",
        "colab": {}
      },
      "source": [
        "# Compile model \n",
        "model.compile(loss= 'binary_crossentropy' , optimizer= 'adam' , metrics=[ 'accuracy' ])"
      ],
      "execution_count": 0,
      "outputs": []
    },
    {
      "cell_type": "markdown",
      "metadata": {
        "id": "-dJhsHlOoA0I",
        "colab_type": "text"
      },
      "source": [
        "# Fiting the Model\n",
        "We have deﬁned our model and compiled it ready for ecient computation. Now it is time to execute the model on some data. We can train or ﬁt our model on our loaded data by calling the fit( ) function on the model. \n",
        "\n",
        "The training process will run for a ﬁxed number of iterations through the dataset called epochs, that we must specify using the nb epoch argument. We can also set the number of instances that are evaluated before a weight update in the network is performed called the batch size and set using the batch size argument. For this problem we will run for a small number of epochs (150) and use a relatively small batch size of 10. Again, these can be chosen experimentally by trial and error."
      ]
    },
    {
      "cell_type": "code",
      "metadata": {
        "id": "aR4pJkefnZ-H",
        "colab_type": "code",
        "colab": {
          "base_uri": "https://localhost:8080/",
          "height": 1000
        },
        "outputId": "85bf3f84-f12c-458f-8502-7399f3c0c474"
      },
      "source": [
        "#Model fit\n",
        "epochs_hist = model.fit(X, Y, epochs=300, batch_size=15)"
      ],
      "execution_count": 7,
      "outputs": [
        {
          "output_type": "stream",
          "text": [
            "Epoch 1/300\n",
            "768/768 [==============================] - 0s 237us/step - loss: 0.6782 - accuracy: 0.6510\n",
            "Epoch 2/300\n",
            "768/768 [==============================] - 0s 86us/step - loss: 0.6625 - accuracy: 0.6510\n",
            "Epoch 3/300\n",
            "768/768 [==============================] - 0s 90us/step - loss: 0.6565 - accuracy: 0.6510\n",
            "Epoch 4/300\n",
            "768/768 [==============================] - 0s 89us/step - loss: 0.6503 - accuracy: 0.6510\n",
            "Epoch 5/300\n",
            "768/768 [==============================] - 0s 92us/step - loss: 0.6402 - accuracy: 0.6510\n",
            "Epoch 6/300\n",
            "768/768 [==============================] - 0s 88us/step - loss: 0.6301 - accuracy: 0.6510\n",
            "Epoch 7/300\n",
            "768/768 [==============================] - 0s 99us/step - loss: 0.6244 - accuracy: 0.6510\n",
            "Epoch 8/300\n",
            "768/768 [==============================] - 0s 87us/step - loss: 0.6158 - accuracy: 0.6510\n",
            "Epoch 9/300\n",
            "768/768 [==============================] - 0s 86us/step - loss: 0.6109 - accuracy: 0.6510\n",
            "Epoch 10/300\n",
            "768/768 [==============================] - 0s 90us/step - loss: 0.6174 - accuracy: 0.6510\n",
            "Epoch 11/300\n",
            "768/768 [==============================] - 0s 90us/step - loss: 0.6099 - accuracy: 0.6510\n",
            "Epoch 12/300\n",
            "768/768 [==============================] - 0s 87us/step - loss: 0.6028 - accuracy: 0.6510\n",
            "Epoch 13/300\n",
            "768/768 [==============================] - 0s 104us/step - loss: 0.6040 - accuracy: 0.6510\n",
            "Epoch 14/300\n",
            "768/768 [==============================] - 0s 92us/step - loss: 0.5992 - accuracy: 0.6510\n",
            "Epoch 15/300\n",
            "768/768 [==============================] - 0s 93us/step - loss: 0.5992 - accuracy: 0.6510\n",
            "Epoch 16/300\n",
            "768/768 [==============================] - 0s 92us/step - loss: 0.5998 - accuracy: 0.6510\n",
            "Epoch 17/300\n",
            "768/768 [==============================] - 0s 91us/step - loss: 0.5997 - accuracy: 0.6510\n",
            "Epoch 18/300\n",
            "768/768 [==============================] - 0s 100us/step - loss: 0.5994 - accuracy: 0.6510\n",
            "Epoch 19/300\n",
            "768/768 [==============================] - 0s 118us/step - loss: 0.5998 - accuracy: 0.6510\n",
            "Epoch 20/300\n",
            "768/768 [==============================] - 0s 93us/step - loss: 0.5958 - accuracy: 0.6510\n",
            "Epoch 21/300\n",
            "768/768 [==============================] - 0s 89us/step - loss: 0.5966 - accuracy: 0.6510\n",
            "Epoch 22/300\n",
            "768/768 [==============================] - 0s 94us/step - loss: 0.5956 - accuracy: 0.6510\n",
            "Epoch 23/300\n",
            "768/768 [==============================] - 0s 89us/step - loss: 0.5919 - accuracy: 0.6510\n",
            "Epoch 24/300\n",
            "768/768 [==============================] - 0s 94us/step - loss: 0.6057 - accuracy: 0.6510\n",
            "Epoch 25/300\n",
            "768/768 [==============================] - 0s 89us/step - loss: 0.5938 - accuracy: 0.6510\n",
            "Epoch 26/300\n",
            "768/768 [==============================] - 0s 86us/step - loss: 0.5962 - accuracy: 0.6510\n",
            "Epoch 27/300\n",
            "768/768 [==============================] - 0s 89us/step - loss: 0.5947 - accuracy: 0.6510\n",
            "Epoch 28/300\n",
            "768/768 [==============================] - 0s 87us/step - loss: 0.5878 - accuracy: 0.6510\n",
            "Epoch 29/300\n",
            "768/768 [==============================] - 0s 91us/step - loss: 0.5944 - accuracy: 0.6510\n",
            "Epoch 30/300\n",
            "768/768 [==============================] - 0s 96us/step - loss: 0.5902 - accuracy: 0.6510\n",
            "Epoch 31/300\n",
            "768/768 [==============================] - 0s 85us/step - loss: 0.5894 - accuracy: 0.6510\n",
            "Epoch 32/300\n",
            "768/768 [==============================] - 0s 86us/step - loss: 0.5882 - accuracy: 0.6510\n",
            "Epoch 33/300\n",
            "768/768 [==============================] - 0s 87us/step - loss: 0.5846 - accuracy: 0.6510\n",
            "Epoch 34/300\n",
            "768/768 [==============================] - 0s 85us/step - loss: 0.5893 - accuracy: 0.6510\n",
            "Epoch 35/300\n",
            "768/768 [==============================] - 0s 96us/step - loss: 0.5904 - accuracy: 0.6510\n",
            "Epoch 36/300\n",
            "768/768 [==============================] - 0s 94us/step - loss: 0.5847 - accuracy: 0.6510\n",
            "Epoch 37/300\n",
            "768/768 [==============================] - 0s 88us/step - loss: 0.5810 - accuracy: 0.6510\n",
            "Epoch 38/300\n",
            "768/768 [==============================] - 0s 85us/step - loss: 0.5930 - accuracy: 0.6510\n",
            "Epoch 39/300\n",
            "768/768 [==============================] - 0s 84us/step - loss: 0.5835 - accuracy: 0.6510\n",
            "Epoch 40/300\n",
            "768/768 [==============================] - 0s 86us/step - loss: 0.5884 - accuracy: 0.6510\n",
            "Epoch 41/300\n",
            "768/768 [==============================] - 0s 89us/step - loss: 0.5799 - accuracy: 0.7122\n",
            "Epoch 42/300\n",
            "768/768 [==============================] - 0s 87us/step - loss: 0.5808 - accuracy: 0.7070\n",
            "Epoch 43/300\n",
            "768/768 [==============================] - 0s 86us/step - loss: 0.5797 - accuracy: 0.7161\n",
            "Epoch 44/300\n",
            "768/768 [==============================] - 0s 86us/step - loss: 0.5874 - accuracy: 0.6992\n",
            "Epoch 45/300\n",
            "768/768 [==============================] - 0s 89us/step - loss: 0.5799 - accuracy: 0.7109\n",
            "Epoch 46/300\n",
            "768/768 [==============================] - 0s 87us/step - loss: 0.5775 - accuracy: 0.7083\n",
            "Epoch 47/300\n",
            "768/768 [==============================] - 0s 86us/step - loss: 0.5783 - accuracy: 0.7109\n",
            "Epoch 48/300\n",
            "768/768 [==============================] - 0s 81us/step - loss: 0.5768 - accuracy: 0.6914\n",
            "Epoch 49/300\n",
            "768/768 [==============================] - 0s 90us/step - loss: 0.5775 - accuracy: 0.7083\n",
            "Epoch 50/300\n",
            "768/768 [==============================] - 0s 90us/step - loss: 0.5739 - accuracy: 0.7135\n",
            "Epoch 51/300\n",
            "768/768 [==============================] - 0s 87us/step - loss: 0.5772 - accuracy: 0.7122\n",
            "Epoch 52/300\n",
            "768/768 [==============================] - 0s 84us/step - loss: 0.5744 - accuracy: 0.7174\n",
            "Epoch 53/300\n",
            "768/768 [==============================] - 0s 85us/step - loss: 0.5811 - accuracy: 0.6979\n",
            "Epoch 54/300\n",
            "768/768 [==============================] - 0s 86us/step - loss: 0.5737 - accuracy: 0.7135\n",
            "Epoch 55/300\n",
            "768/768 [==============================] - 0s 86us/step - loss: 0.5755 - accuracy: 0.7188\n",
            "Epoch 56/300\n",
            "768/768 [==============================] - 0s 91us/step - loss: 0.5773 - accuracy: 0.7135\n",
            "Epoch 57/300\n",
            "768/768 [==============================] - 0s 84us/step - loss: 0.5742 - accuracy: 0.7070\n",
            "Epoch 58/300\n",
            "768/768 [==============================] - 0s 82us/step - loss: 0.5779 - accuracy: 0.7031\n",
            "Epoch 59/300\n",
            "768/768 [==============================] - 0s 87us/step - loss: 0.5714 - accuracy: 0.7122\n",
            "Epoch 60/300\n",
            "768/768 [==============================] - 0s 85us/step - loss: 0.5745 - accuracy: 0.7057\n",
            "Epoch 61/300\n",
            "768/768 [==============================] - 0s 84us/step - loss: 0.5702 - accuracy: 0.7135\n",
            "Epoch 62/300\n",
            "768/768 [==============================] - 0s 99us/step - loss: 0.5726 - accuracy: 0.7174\n",
            "Epoch 63/300\n",
            "768/768 [==============================] - 0s 88us/step - loss: 0.5761 - accuracy: 0.7070\n",
            "Epoch 64/300\n",
            "768/768 [==============================] - 0s 90us/step - loss: 0.5734 - accuracy: 0.7018\n",
            "Epoch 65/300\n",
            "768/768 [==============================] - 0s 85us/step - loss: 0.5688 - accuracy: 0.7201\n",
            "Epoch 66/300\n",
            "768/768 [==============================] - 0s 84us/step - loss: 0.5679 - accuracy: 0.7161\n",
            "Epoch 67/300\n",
            "768/768 [==============================] - 0s 87us/step - loss: 0.5662 - accuracy: 0.7227\n",
            "Epoch 68/300\n",
            "768/768 [==============================] - 0s 92us/step - loss: 0.5746 - accuracy: 0.7096\n",
            "Epoch 69/300\n",
            "768/768 [==============================] - 0s 85us/step - loss: 0.5667 - accuracy: 0.7227\n",
            "Epoch 70/300\n",
            "768/768 [==============================] - 0s 83us/step - loss: 0.5774 - accuracy: 0.7109\n",
            "Epoch 71/300\n",
            "768/768 [==============================] - 0s 88us/step - loss: 0.5650 - accuracy: 0.7148\n",
            "Epoch 72/300\n",
            "768/768 [==============================] - 0s 87us/step - loss: 0.5647 - accuracy: 0.7201\n",
            "Epoch 73/300\n",
            "768/768 [==============================] - 0s 92us/step - loss: 0.5609 - accuracy: 0.7188\n",
            "Epoch 74/300\n",
            "768/768 [==============================] - 0s 85us/step - loss: 0.5584 - accuracy: 0.7070\n",
            "Epoch 75/300\n",
            "768/768 [==============================] - 0s 84us/step - loss: 0.5533 - accuracy: 0.7188\n",
            "Epoch 76/300\n",
            "768/768 [==============================] - 0s 86us/step - loss: 0.5533 - accuracy: 0.7227\n",
            "Epoch 77/300\n",
            "768/768 [==============================] - 0s 93us/step - loss: 0.5535 - accuracy: 0.7188\n",
            "Epoch 78/300\n",
            "768/768 [==============================] - 0s 90us/step - loss: 0.5501 - accuracy: 0.7174\n",
            "Epoch 79/300\n",
            "768/768 [==============================] - 0s 98us/step - loss: 0.5572 - accuracy: 0.7188\n",
            "Epoch 80/300\n",
            "768/768 [==============================] - 0s 84us/step - loss: 0.5522 - accuracy: 0.7188\n",
            "Epoch 81/300\n",
            "768/768 [==============================] - 0s 81us/step - loss: 0.5521 - accuracy: 0.7096\n",
            "Epoch 82/300\n",
            "768/768 [==============================] - 0s 74us/step - loss: 0.5548 - accuracy: 0.7148\n",
            "Epoch 83/300\n",
            "768/768 [==============================] - 0s 77us/step - loss: 0.5453 - accuracy: 0.7227\n",
            "Epoch 84/300\n",
            "768/768 [==============================] - 0s 80us/step - loss: 0.5452 - accuracy: 0.7161\n",
            "Epoch 85/300\n",
            "768/768 [==============================] - 0s 81us/step - loss: 0.5468 - accuracy: 0.7214\n",
            "Epoch 86/300\n",
            "768/768 [==============================] - 0s 81us/step - loss: 0.5477 - accuracy: 0.7174\n",
            "Epoch 87/300\n",
            "768/768 [==============================] - 0s 81us/step - loss: 0.5426 - accuracy: 0.7174\n",
            "Epoch 88/300\n",
            "768/768 [==============================] - 0s 81us/step - loss: 0.5403 - accuracy: 0.7266\n",
            "Epoch 89/300\n",
            "768/768 [==============================] - 0s 87us/step - loss: 0.5467 - accuracy: 0.7214\n",
            "Epoch 90/300\n",
            "768/768 [==============================] - 0s 77us/step - loss: 0.5405 - accuracy: 0.7201\n",
            "Epoch 91/300\n",
            "768/768 [==============================] - 0s 78us/step - loss: 0.5378 - accuracy: 0.7331\n",
            "Epoch 92/300\n",
            "768/768 [==============================] - 0s 80us/step - loss: 0.5364 - accuracy: 0.7266\n",
            "Epoch 93/300\n",
            "768/768 [==============================] - 0s 78us/step - loss: 0.5351 - accuracy: 0.7201\n",
            "Epoch 94/300\n",
            "768/768 [==============================] - 0s 77us/step - loss: 0.5352 - accuracy: 0.7240\n",
            "Epoch 95/300\n",
            "768/768 [==============================] - 0s 82us/step - loss: 0.5350 - accuracy: 0.7148\n",
            "Epoch 96/300\n",
            "768/768 [==============================] - 0s 76us/step - loss: 0.5347 - accuracy: 0.7292\n",
            "Epoch 97/300\n",
            "768/768 [==============================] - 0s 85us/step - loss: 0.5330 - accuracy: 0.7188\n",
            "Epoch 98/300\n",
            "768/768 [==============================] - 0s 86us/step - loss: 0.5332 - accuracy: 0.7292\n",
            "Epoch 99/300\n",
            "768/768 [==============================] - 0s 83us/step - loss: 0.5236 - accuracy: 0.7266\n",
            "Epoch 100/300\n",
            "768/768 [==============================] - 0s 78us/step - loss: 0.5381 - accuracy: 0.7279\n",
            "Epoch 101/300\n",
            "768/768 [==============================] - 0s 77us/step - loss: 0.5300 - accuracy: 0.7266\n",
            "Epoch 102/300\n",
            "768/768 [==============================] - 0s 77us/step - loss: 0.5250 - accuracy: 0.7227\n",
            "Epoch 103/300\n",
            "768/768 [==============================] - 0s 91us/step - loss: 0.5338 - accuracy: 0.7279\n",
            "Epoch 104/300\n",
            "768/768 [==============================] - 0s 90us/step - loss: 0.5340 - accuracy: 0.7357\n",
            "Epoch 105/300\n",
            "768/768 [==============================] - 0s 82us/step - loss: 0.5355 - accuracy: 0.7305\n",
            "Epoch 106/300\n",
            "768/768 [==============================] - 0s 80us/step - loss: 0.5251 - accuracy: 0.7318\n",
            "Epoch 107/300\n",
            "768/768 [==============================] - 0s 84us/step - loss: 0.5335 - accuracy: 0.7318\n",
            "Epoch 108/300\n",
            "768/768 [==============================] - 0s 78us/step - loss: 0.5236 - accuracy: 0.7344\n",
            "Epoch 109/300\n",
            "768/768 [==============================] - 0s 80us/step - loss: 0.5206 - accuracy: 0.7253\n",
            "Epoch 110/300\n",
            "768/768 [==============================] - 0s 80us/step - loss: 0.5197 - accuracy: 0.7318\n",
            "Epoch 111/300\n",
            "768/768 [==============================] - 0s 91us/step - loss: 0.5184 - accuracy: 0.7331\n",
            "Epoch 112/300\n",
            "768/768 [==============================] - 0s 80us/step - loss: 0.5220 - accuracy: 0.7305\n",
            "Epoch 113/300\n",
            "768/768 [==============================] - 0s 80us/step - loss: 0.5195 - accuracy: 0.7435\n",
            "Epoch 114/300\n",
            "768/768 [==============================] - 0s 80us/step - loss: 0.5147 - accuracy: 0.7357\n",
            "Epoch 115/300\n",
            "768/768 [==============================] - 0s 81us/step - loss: 0.5151 - accuracy: 0.7461\n",
            "Epoch 116/300\n",
            "768/768 [==============================] - 0s 77us/step - loss: 0.5159 - accuracy: 0.7474\n",
            "Epoch 117/300\n",
            "768/768 [==============================] - 0s 82us/step - loss: 0.5066 - accuracy: 0.7500\n",
            "Epoch 118/300\n",
            "768/768 [==============================] - 0s 80us/step - loss: 0.5211 - accuracy: 0.7396\n",
            "Epoch 119/300\n",
            "768/768 [==============================] - 0s 79us/step - loss: 0.5072 - accuracy: 0.7513\n",
            "Epoch 120/300\n",
            "768/768 [==============================] - 0s 83us/step - loss: 0.5066 - accuracy: 0.7461\n",
            "Epoch 121/300\n",
            "768/768 [==============================] - 0s 79us/step - loss: 0.5283 - accuracy: 0.7539\n",
            "Epoch 122/300\n",
            "768/768 [==============================] - 0s 78us/step - loss: 0.5168 - accuracy: 0.7513\n",
            "Epoch 123/300\n",
            "768/768 [==============================] - 0s 77us/step - loss: 0.5013 - accuracy: 0.7565\n",
            "Epoch 124/300\n",
            "768/768 [==============================] - 0s 77us/step - loss: 0.5031 - accuracy: 0.7539\n",
            "Epoch 125/300\n",
            "768/768 [==============================] - 0s 86us/step - loss: 0.4947 - accuracy: 0.7617\n",
            "Epoch 126/300\n",
            "768/768 [==============================] - 0s 80us/step - loss: 0.5002 - accuracy: 0.7552\n",
            "Epoch 127/300\n",
            "768/768 [==============================] - 0s 97us/step - loss: 0.5009 - accuracy: 0.7630\n",
            "Epoch 128/300\n",
            "768/768 [==============================] - 0s 83us/step - loss: 0.4918 - accuracy: 0.7630\n",
            "Epoch 129/300\n",
            "768/768 [==============================] - 0s 80us/step - loss: 0.4952 - accuracy: 0.7630\n",
            "Epoch 130/300\n",
            "768/768 [==============================] - 0s 82us/step - loss: 0.4914 - accuracy: 0.7786\n",
            "Epoch 131/300\n",
            "768/768 [==============================] - 0s 82us/step - loss: 0.4939 - accuracy: 0.7682\n",
            "Epoch 132/300\n",
            "768/768 [==============================] - 0s 84us/step - loss: 0.4901 - accuracy: 0.7682\n",
            "Epoch 133/300\n",
            "768/768 [==============================] - 0s 84us/step - loss: 0.4931 - accuracy: 0.7669\n",
            "Epoch 134/300\n",
            "768/768 [==============================] - 0s 85us/step - loss: 0.4920 - accuracy: 0.7526\n",
            "Epoch 135/300\n",
            "768/768 [==============================] - 0s 76us/step - loss: 0.4894 - accuracy: 0.7591\n",
            "Epoch 136/300\n",
            "768/768 [==============================] - 0s 81us/step - loss: 0.4850 - accuracy: 0.7526\n",
            "Epoch 137/300\n",
            "768/768 [==============================] - 0s 79us/step - loss: 0.5112 - accuracy: 0.7591\n",
            "Epoch 138/300\n",
            "768/768 [==============================] - 0s 81us/step - loss: 0.4918 - accuracy: 0.7734\n",
            "Epoch 139/300\n",
            "768/768 [==============================] - 0s 79us/step - loss: 0.4782 - accuracy: 0.7812\n",
            "Epoch 140/300\n",
            "768/768 [==============================] - 0s 82us/step - loss: 0.4875 - accuracy: 0.7799\n",
            "Epoch 141/300\n",
            "768/768 [==============================] - 0s 83us/step - loss: 0.4801 - accuracy: 0.7721\n",
            "Epoch 142/300\n",
            "768/768 [==============================] - 0s 86us/step - loss: 0.4829 - accuracy: 0.7786\n",
            "Epoch 143/300\n",
            "768/768 [==============================] - 0s 83us/step - loss: 0.4935 - accuracy: 0.7591\n",
            "Epoch 144/300\n",
            "768/768 [==============================] - 0s 88us/step - loss: 0.4839 - accuracy: 0.7604\n",
            "Epoch 145/300\n",
            "768/768 [==============================] - 0s 83us/step - loss: 0.4856 - accuracy: 0.7747\n",
            "Epoch 146/300\n",
            "768/768 [==============================] - 0s 83us/step - loss: 0.4865 - accuracy: 0.7682\n",
            "Epoch 147/300\n",
            "768/768 [==============================] - 0s 91us/step - loss: 0.4771 - accuracy: 0.7799\n",
            "Epoch 148/300\n",
            "768/768 [==============================] - 0s 85us/step - loss: 0.4831 - accuracy: 0.7721\n",
            "Epoch 149/300\n",
            "768/768 [==============================] - 0s 81us/step - loss: 0.4734 - accuracy: 0.7786\n",
            "Epoch 150/300\n",
            "768/768 [==============================] - 0s 81us/step - loss: 0.4748 - accuracy: 0.7708\n",
            "Epoch 151/300\n",
            "768/768 [==============================] - 0s 80us/step - loss: 0.4770 - accuracy: 0.7865\n",
            "Epoch 152/300\n",
            "768/768 [==============================] - 0s 80us/step - loss: 0.4734 - accuracy: 0.7721\n",
            "Epoch 153/300\n",
            "768/768 [==============================] - 0s 81us/step - loss: 0.4849 - accuracy: 0.7812\n",
            "Epoch 154/300\n",
            "768/768 [==============================] - 0s 97us/step - loss: 0.4734 - accuracy: 0.7799\n",
            "Epoch 155/300\n",
            "768/768 [==============================] - 0s 83us/step - loss: 0.4805 - accuracy: 0.7656\n",
            "Epoch 156/300\n",
            "768/768 [==============================] - 0s 78us/step - loss: 0.4749 - accuracy: 0.7826\n",
            "Epoch 157/300\n",
            "768/768 [==============================] - 0s 82us/step - loss: 0.4746 - accuracy: 0.7669\n",
            "Epoch 158/300\n",
            "768/768 [==============================] - 0s 85us/step - loss: 0.4722 - accuracy: 0.7747\n",
            "Epoch 159/300\n",
            "768/768 [==============================] - 0s 77us/step - loss: 0.4723 - accuracy: 0.7747\n",
            "Epoch 160/300\n",
            "768/768 [==============================] - 0s 80us/step - loss: 0.4690 - accuracy: 0.7917\n",
            "Epoch 161/300\n",
            "768/768 [==============================] - 0s 80us/step - loss: 0.4683 - accuracy: 0.7799\n",
            "Epoch 162/300\n",
            "768/768 [==============================] - 0s 78us/step - loss: 0.4681 - accuracy: 0.7747\n",
            "Epoch 163/300\n",
            "768/768 [==============================] - 0s 76us/step - loss: 0.4701 - accuracy: 0.7708\n",
            "Epoch 164/300\n",
            "768/768 [==============================] - 0s 79us/step - loss: 0.4699 - accuracy: 0.7852\n",
            "Epoch 165/300\n",
            "768/768 [==============================] - 0s 80us/step - loss: 0.4751 - accuracy: 0.7760\n",
            "Epoch 166/300\n",
            "768/768 [==============================] - 0s 78us/step - loss: 0.4650 - accuracy: 0.7878\n",
            "Epoch 167/300\n",
            "768/768 [==============================] - 0s 79us/step - loss: 0.4638 - accuracy: 0.7839\n",
            "Epoch 168/300\n",
            "768/768 [==============================] - 0s 84us/step - loss: 0.4688 - accuracy: 0.7708\n",
            "Epoch 169/300\n",
            "768/768 [==============================] - 0s 85us/step - loss: 0.4665 - accuracy: 0.7760\n",
            "Epoch 170/300\n",
            "768/768 [==============================] - 0s 77us/step - loss: 0.4635 - accuracy: 0.7878\n",
            "Epoch 171/300\n",
            "768/768 [==============================] - 0s 78us/step - loss: 0.4720 - accuracy: 0.7604\n",
            "Epoch 172/300\n",
            "768/768 [==============================] - 0s 78us/step - loss: 0.4624 - accuracy: 0.7812\n",
            "Epoch 173/300\n",
            "768/768 [==============================] - 0s 78us/step - loss: 0.4631 - accuracy: 0.7826\n",
            "Epoch 174/300\n",
            "768/768 [==============================] - 0s 84us/step - loss: 0.4766 - accuracy: 0.7786\n",
            "Epoch 175/300\n",
            "768/768 [==============================] - 0s 81us/step - loss: 0.4634 - accuracy: 0.7786\n",
            "Epoch 176/300\n",
            "768/768 [==============================] - 0s 82us/step - loss: 0.4623 - accuracy: 0.7865\n",
            "Epoch 177/300\n",
            "768/768 [==============================] - 0s 77us/step - loss: 0.4761 - accuracy: 0.7760\n",
            "Epoch 178/300\n",
            "768/768 [==============================] - 0s 79us/step - loss: 0.4614 - accuracy: 0.7969\n",
            "Epoch 179/300\n",
            "768/768 [==============================] - 0s 81us/step - loss: 0.4619 - accuracy: 0.7904\n",
            "Epoch 180/300\n",
            "768/768 [==============================] - 0s 81us/step - loss: 0.4606 - accuracy: 0.7943\n",
            "Epoch 181/300\n",
            "768/768 [==============================] - 0s 82us/step - loss: 0.4614 - accuracy: 0.7891\n",
            "Epoch 182/300\n",
            "768/768 [==============================] - 0s 80us/step - loss: 0.4721 - accuracy: 0.7799\n",
            "Epoch 183/300\n",
            "768/768 [==============================] - 0s 92us/step - loss: 0.4621 - accuracy: 0.7839\n",
            "Epoch 184/300\n",
            "768/768 [==============================] - 0s 79us/step - loss: 0.4692 - accuracy: 0.7865\n",
            "Epoch 185/300\n",
            "768/768 [==============================] - 0s 78us/step - loss: 0.4646 - accuracy: 0.7852\n",
            "Epoch 186/300\n",
            "768/768 [==============================] - 0s 78us/step - loss: 0.4551 - accuracy: 0.7904\n",
            "Epoch 187/300\n",
            "768/768 [==============================] - 0s 75us/step - loss: 0.4667 - accuracy: 0.7878\n",
            "Epoch 188/300\n",
            "768/768 [==============================] - 0s 79us/step - loss: 0.4669 - accuracy: 0.7760\n",
            "Epoch 189/300\n",
            "768/768 [==============================] - 0s 77us/step - loss: 0.4583 - accuracy: 0.7747\n",
            "Epoch 190/300\n",
            "768/768 [==============================] - 0s 82us/step - loss: 0.4569 - accuracy: 0.7904\n",
            "Epoch 191/300\n",
            "768/768 [==============================] - 0s 77us/step - loss: 0.4520 - accuracy: 0.7956\n",
            "Epoch 192/300\n",
            "768/768 [==============================] - 0s 80us/step - loss: 0.4655 - accuracy: 0.7773\n",
            "Epoch 193/300\n",
            "768/768 [==============================] - 0s 81us/step - loss: 0.4517 - accuracy: 0.7930\n",
            "Epoch 194/300\n",
            "768/768 [==============================] - 0s 79us/step - loss: 0.4544 - accuracy: 0.8008\n",
            "Epoch 195/300\n",
            "768/768 [==============================] - 0s 79us/step - loss: 0.4662 - accuracy: 0.7734\n",
            "Epoch 196/300\n",
            "768/768 [==============================] - 0s 80us/step - loss: 0.4505 - accuracy: 0.7878\n",
            "Epoch 197/300\n",
            "768/768 [==============================] - 0s 79us/step - loss: 0.4492 - accuracy: 0.7917\n",
            "Epoch 198/300\n",
            "768/768 [==============================] - 0s 88us/step - loss: 0.4706 - accuracy: 0.7852\n",
            "Epoch 199/300\n",
            "768/768 [==============================] - 0s 83us/step - loss: 0.4607 - accuracy: 0.7865\n",
            "Epoch 200/300\n",
            "768/768 [==============================] - 0s 82us/step - loss: 0.4881 - accuracy: 0.7591\n",
            "Epoch 201/300\n",
            "768/768 [==============================] - 0s 82us/step - loss: 0.4534 - accuracy: 0.7747\n",
            "Epoch 202/300\n",
            "768/768 [==============================] - 0s 77us/step - loss: 0.4602 - accuracy: 0.7839\n",
            "Epoch 203/300\n",
            "768/768 [==============================] - 0s 80us/step - loss: 0.4614 - accuracy: 0.7904\n",
            "Epoch 204/300\n",
            "768/768 [==============================] - 0s 85us/step - loss: 0.4615 - accuracy: 0.7826\n",
            "Epoch 205/300\n",
            "768/768 [==============================] - 0s 76us/step - loss: 0.4478 - accuracy: 0.8034\n",
            "Epoch 206/300\n",
            "768/768 [==============================] - 0s 86us/step - loss: 0.4479 - accuracy: 0.8008\n",
            "Epoch 207/300\n",
            "768/768 [==============================] - 0s 82us/step - loss: 0.4584 - accuracy: 0.7904\n",
            "Epoch 208/300\n",
            "768/768 [==============================] - 0s 78us/step - loss: 0.4519 - accuracy: 0.7943\n",
            "Epoch 209/300\n",
            "768/768 [==============================] - 0s 81us/step - loss: 0.4552 - accuracy: 0.7812\n",
            "Epoch 210/300\n",
            "768/768 [==============================] - 0s 78us/step - loss: 0.4494 - accuracy: 0.8008\n",
            "Epoch 211/300\n",
            "768/768 [==============================] - 0s 90us/step - loss: 0.4438 - accuracy: 0.8112\n",
            "Epoch 212/300\n",
            "768/768 [==============================] - 0s 94us/step - loss: 0.4450 - accuracy: 0.7917\n",
            "Epoch 213/300\n",
            "768/768 [==============================] - 0s 80us/step - loss: 0.4451 - accuracy: 0.7956\n",
            "Epoch 214/300\n",
            "768/768 [==============================] - 0s 77us/step - loss: 0.4558 - accuracy: 0.7826\n",
            "Epoch 215/300\n",
            "768/768 [==============================] - 0s 79us/step - loss: 0.4507 - accuracy: 0.8008\n",
            "Epoch 216/300\n",
            "768/768 [==============================] - 0s 79us/step - loss: 0.4558 - accuracy: 0.7930\n",
            "Epoch 217/300\n",
            "768/768 [==============================] - 0s 81us/step - loss: 0.4478 - accuracy: 0.7956\n",
            "Epoch 218/300\n",
            "768/768 [==============================] - 0s 77us/step - loss: 0.4554 - accuracy: 0.7943\n",
            "Epoch 219/300\n",
            "768/768 [==============================] - 0s 76us/step - loss: 0.4562 - accuracy: 0.7943\n",
            "Epoch 220/300\n",
            "768/768 [==============================] - 0s 80us/step - loss: 0.4559 - accuracy: 0.7826\n",
            "Epoch 221/300\n",
            "768/768 [==============================] - 0s 81us/step - loss: 0.4513 - accuracy: 0.8021\n",
            "Epoch 222/300\n",
            "768/768 [==============================] - 0s 85us/step - loss: 0.4568 - accuracy: 0.7969\n",
            "Epoch 223/300\n",
            "768/768 [==============================] - 0s 82us/step - loss: 0.4473 - accuracy: 0.7878\n",
            "Epoch 224/300\n",
            "768/768 [==============================] - 0s 76us/step - loss: 0.4454 - accuracy: 0.7982\n",
            "Epoch 225/300\n",
            "768/768 [==============================] - 0s 78us/step - loss: 0.4544 - accuracy: 0.7839\n",
            "Epoch 226/300\n",
            "768/768 [==============================] - 0s 83us/step - loss: 0.4426 - accuracy: 0.7891\n",
            "Epoch 227/300\n",
            "768/768 [==============================] - 0s 80us/step - loss: 0.4442 - accuracy: 0.7943\n",
            "Epoch 228/300\n",
            "768/768 [==============================] - 0s 79us/step - loss: 0.4423 - accuracy: 0.8047\n",
            "Epoch 229/300\n",
            "768/768 [==============================] - 0s 79us/step - loss: 0.4492 - accuracy: 0.7982\n",
            "Epoch 230/300\n",
            "768/768 [==============================] - 0s 80us/step - loss: 0.4391 - accuracy: 0.7969\n",
            "Epoch 231/300\n",
            "768/768 [==============================] - 0s 80us/step - loss: 0.4454 - accuracy: 0.8034\n",
            "Epoch 232/300\n",
            "768/768 [==============================] - 0s 80us/step - loss: 0.4527 - accuracy: 0.7878\n",
            "Epoch 233/300\n",
            "768/768 [==============================] - 0s 85us/step - loss: 0.4464 - accuracy: 0.7839\n",
            "Epoch 234/300\n",
            "768/768 [==============================] - 0s 83us/step - loss: 0.4598 - accuracy: 0.7891\n",
            "Epoch 235/300\n",
            "768/768 [==============================] - 0s 76us/step - loss: 0.4542 - accuracy: 0.7917\n",
            "Epoch 236/300\n",
            "768/768 [==============================] - 0s 73us/step - loss: 0.4471 - accuracy: 0.7865\n",
            "Epoch 237/300\n",
            "768/768 [==============================] - 0s 76us/step - loss: 0.4567 - accuracy: 0.7812\n",
            "Epoch 238/300\n",
            "768/768 [==============================] - 0s 85us/step - loss: 0.4376 - accuracy: 0.7982\n",
            "Epoch 239/300\n",
            "768/768 [==============================] - 0s 78us/step - loss: 0.4386 - accuracy: 0.7969\n",
            "Epoch 240/300\n",
            "768/768 [==============================] - 0s 81us/step - loss: 0.4394 - accuracy: 0.7904\n",
            "Epoch 241/300\n",
            "768/768 [==============================] - 0s 91us/step - loss: 0.4417 - accuracy: 0.7982\n",
            "Epoch 242/300\n",
            "768/768 [==============================] - 0s 86us/step - loss: 0.4476 - accuracy: 0.7917\n",
            "Epoch 243/300\n",
            "768/768 [==============================] - 0s 80us/step - loss: 0.4391 - accuracy: 0.8034\n",
            "Epoch 244/300\n",
            "768/768 [==============================] - 0s 79us/step - loss: 0.4338 - accuracy: 0.8125\n",
            "Epoch 245/300\n",
            "768/768 [==============================] - 0s 76us/step - loss: 0.4468 - accuracy: 0.8099\n",
            "Epoch 246/300\n",
            "768/768 [==============================] - 0s 80us/step - loss: 0.4526 - accuracy: 0.7943\n",
            "Epoch 247/300\n",
            "768/768 [==============================] - 0s 79us/step - loss: 0.4455 - accuracy: 0.7982\n",
            "Epoch 248/300\n",
            "768/768 [==============================] - 0s 77us/step - loss: 0.4431 - accuracy: 0.7865\n",
            "Epoch 249/300\n",
            "768/768 [==============================] - 0s 81us/step - loss: 0.4373 - accuracy: 0.8203\n",
            "Epoch 250/300\n",
            "768/768 [==============================] - 0s 77us/step - loss: 0.4446 - accuracy: 0.7995\n",
            "Epoch 251/300\n",
            "768/768 [==============================] - 0s 76us/step - loss: 0.4418 - accuracy: 0.8021\n",
            "Epoch 252/300\n",
            "768/768 [==============================] - 0s 77us/step - loss: 0.4477 - accuracy: 0.7891\n",
            "Epoch 253/300\n",
            "768/768 [==============================] - 0s 82us/step - loss: 0.4331 - accuracy: 0.7917\n",
            "Epoch 254/300\n",
            "768/768 [==============================] - 0s 89us/step - loss: 0.4290 - accuracy: 0.8099\n",
            "Epoch 255/300\n",
            "768/768 [==============================] - 0s 80us/step - loss: 0.4483 - accuracy: 0.7878\n",
            "Epoch 256/300\n",
            "768/768 [==============================] - 0s 76us/step - loss: 0.4477 - accuracy: 0.7917\n",
            "Epoch 257/300\n",
            "768/768 [==============================] - 0s 78us/step - loss: 0.4347 - accuracy: 0.8190\n",
            "Epoch 258/300\n",
            "768/768 [==============================] - 0s 79us/step - loss: 0.4301 - accuracy: 0.8099\n",
            "Epoch 259/300\n",
            "768/768 [==============================] - 0s 79us/step - loss: 0.4406 - accuracy: 0.7982\n",
            "Epoch 260/300\n",
            "768/768 [==============================] - 0s 80us/step - loss: 0.4340 - accuracy: 0.8047\n",
            "Epoch 261/300\n",
            "768/768 [==============================] - 0s 82us/step - loss: 0.4365 - accuracy: 0.8034\n",
            "Epoch 262/300\n",
            "768/768 [==============================] - 0s 79us/step - loss: 0.4422 - accuracy: 0.7943\n",
            "Epoch 263/300\n",
            "768/768 [==============================] - 0s 80us/step - loss: 0.4302 - accuracy: 0.8047\n",
            "Epoch 264/300\n",
            "768/768 [==============================] - 0s 77us/step - loss: 0.4418 - accuracy: 0.7891\n",
            "Epoch 265/300\n",
            "768/768 [==============================] - 0s 81us/step - loss: 0.4342 - accuracy: 0.8008\n",
            "Epoch 266/300\n",
            "768/768 [==============================] - 0s 79us/step - loss: 0.4293 - accuracy: 0.8047\n",
            "Epoch 267/300\n",
            "768/768 [==============================] - 0s 77us/step - loss: 0.4313 - accuracy: 0.8138\n",
            "Epoch 268/300\n",
            "768/768 [==============================] - 0s 77us/step - loss: 0.4356 - accuracy: 0.8151\n",
            "Epoch 269/300\n",
            "768/768 [==============================] - 0s 75us/step - loss: 0.4318 - accuracy: 0.7969\n",
            "Epoch 270/300\n",
            "768/768 [==============================] - 0s 86us/step - loss: 0.4410 - accuracy: 0.8073\n",
            "Epoch 271/300\n",
            "768/768 [==============================] - 0s 76us/step - loss: 0.4316 - accuracy: 0.8112\n",
            "Epoch 272/300\n",
            "768/768 [==============================] - 0s 81us/step - loss: 0.4426 - accuracy: 0.8021\n",
            "Epoch 273/300\n",
            "768/768 [==============================] - 0s 78us/step - loss: 0.4450 - accuracy: 0.7865\n",
            "Epoch 274/300\n",
            "768/768 [==============================] - 0s 82us/step - loss: 0.4389 - accuracy: 0.8073\n",
            "Epoch 275/300\n",
            "768/768 [==============================] - 0s 78us/step - loss: 0.4271 - accuracy: 0.8112\n",
            "Epoch 276/300\n",
            "768/768 [==============================] - 0s 78us/step - loss: 0.4314 - accuracy: 0.8021\n",
            "Epoch 277/300\n",
            "768/768 [==============================] - 0s 77us/step - loss: 0.4332 - accuracy: 0.8034\n",
            "Epoch 278/300\n",
            "768/768 [==============================] - 0s 77us/step - loss: 0.4467 - accuracy: 0.8008\n",
            "Epoch 279/300\n",
            "768/768 [==============================] - 0s 86us/step - loss: 0.4371 - accuracy: 0.7943\n",
            "Epoch 280/300\n",
            "768/768 [==============================] - 0s 75us/step - loss: 0.4387 - accuracy: 0.7930\n",
            "Epoch 281/300\n",
            "768/768 [==============================] - 0s 77us/step - loss: 0.4379 - accuracy: 0.7982\n",
            "Epoch 282/300\n",
            "768/768 [==============================] - 0s 78us/step - loss: 0.4310 - accuracy: 0.7956\n",
            "Epoch 283/300\n",
            "768/768 [==============================] - 0s 80us/step - loss: 0.4276 - accuracy: 0.8021\n",
            "Epoch 284/300\n",
            "768/768 [==============================] - 0s 77us/step - loss: 0.4261 - accuracy: 0.8125\n",
            "Epoch 285/300\n",
            "768/768 [==============================] - 0s 77us/step - loss: 0.4370 - accuracy: 0.8008\n",
            "Epoch 286/300\n",
            "768/768 [==============================] - 0s 87us/step - loss: 0.4317 - accuracy: 0.8099\n",
            "Epoch 287/300\n",
            "768/768 [==============================] - 0s 79us/step - loss: 0.4247 - accuracy: 0.8138\n",
            "Epoch 288/300\n",
            "768/768 [==============================] - 0s 86us/step - loss: 0.4262 - accuracy: 0.8021\n",
            "Epoch 289/300\n",
            "768/768 [==============================] - 0s 82us/step - loss: 0.4255 - accuracy: 0.8086\n",
            "Epoch 290/300\n",
            "768/768 [==============================] - 0s 78us/step - loss: 0.4342 - accuracy: 0.8047\n",
            "Epoch 291/300\n",
            "768/768 [==============================] - 0s 79us/step - loss: 0.4339 - accuracy: 0.8008\n",
            "Epoch 292/300\n",
            "768/768 [==============================] - 0s 80us/step - loss: 0.4295 - accuracy: 0.7995\n",
            "Epoch 293/300\n",
            "768/768 [==============================] - 0s 84us/step - loss: 0.4293 - accuracy: 0.8008\n",
            "Epoch 294/300\n",
            "768/768 [==============================] - 0s 81us/step - loss: 0.4280 - accuracy: 0.8099\n",
            "Epoch 295/300\n",
            "768/768 [==============================] - 0s 85us/step - loss: 0.4370 - accuracy: 0.8099\n",
            "Epoch 296/300\n",
            "768/768 [==============================] - 0s 84us/step - loss: 0.4389 - accuracy: 0.8008\n",
            "Epoch 297/300\n",
            "768/768 [==============================] - 0s 86us/step - loss: 0.4308 - accuracy: 0.8047\n",
            "Epoch 298/300\n",
            "768/768 [==============================] - 0s 83us/step - loss: 0.4288 - accuracy: 0.8008\n",
            "Epoch 299/300\n",
            "768/768 [==============================] - 0s 80us/step - loss: 0.4280 - accuracy: 0.8086\n",
            "Epoch 300/300\n",
            "768/768 [==============================] - 0s 79us/step - loss: 0.4250 - accuracy: 0.8086\n"
          ],
          "name": "stdout"
        }
      ]
    },
    {
      "cell_type": "markdown",
      "metadata": {
        "id": "tnTEwt-0posr",
        "colab_type": "text"
      },
      "source": [
        "# Evaluate Model\n"
      ]
    },
    {
      "cell_type": "code",
      "metadata": {
        "id": "VaSqfwJKogX5",
        "colab_type": "code",
        "colab": {
          "base_uri": "https://localhost:8080/",
          "height": 52
        },
        "outputId": "666ac6ec-6ea1-423a-dae1-3e0bc625fb48"
      },
      "source": [
        "# evaluate the model \n",
        "scores = model.evaluate(X, Y) \n",
        "model.metrics_names[1], scores[1]*100"
      ],
      "execution_count": 8,
      "outputs": [
        {
          "output_type": "stream",
          "text": [
            "768/768 [==============================] - 0s 40us/step\n"
          ],
          "name": "stdout"
        },
        {
          "output_type": "execute_result",
          "data": {
            "text/plain": [
              "('accuracy', 78.90625)"
            ]
          },
          "metadata": {
            "tags": []
          },
          "execution_count": 8
        }
      ]
    },
    {
      "cell_type": "markdown",
      "metadata": {
        "id": "J0sKVeB6qbv4",
        "colab_type": "text"
      },
      "source": [
        "#Plotting it all"
      ]
    },
    {
      "cell_type": "code",
      "metadata": {
        "id": "tDD7cSlAp9jz",
        "colab_type": "code",
        "colab": {
          "base_uri": "https://localhost:8080/",
          "height": 72
        },
        "outputId": "b72da212-9f02-4e04-c537-a45aabf185e2"
      },
      "source": [
        "import pandas as pd\n",
        "import seaborn as sns\n",
        "import matplotlib.pyplot as plt"
      ],
      "execution_count": 9,
      "outputs": [
        {
          "output_type": "stream",
          "text": [
            "/usr/local/lib/python3.6/dist-packages/statsmodels/tools/_testing.py:19: FutureWarning: pandas.util.testing is deprecated. Use the functions in the public API at pandas.testing instead.\n",
            "  import pandas.util.testing as tm\n"
          ],
          "name": "stderr"
        }
      ]
    },
    {
      "cell_type": "code",
      "metadata": {
        "id": "C05uiHXHqfOq",
        "colab_type": "code",
        "colab": {
          "base_uri": "https://localhost:8080/",
          "height": 35
        },
        "outputId": "534bad68-c1c9-42f7-f84c-12902f177367"
      },
      "source": [
        "epochs_hist.history.keys()"
      ],
      "execution_count": 10,
      "outputs": [
        {
          "output_type": "execute_result",
          "data": {
            "text/plain": [
              "dict_keys(['loss', 'accuracy'])"
            ]
          },
          "metadata": {
            "tags": []
          },
          "execution_count": 10
        }
      ]
    },
    {
      "cell_type": "code",
      "metadata": {
        "id": "OvG9trx9qooY",
        "colab_type": "code",
        "colab": {
          "base_uri": "https://localhost:8080/",
          "height": 295
        },
        "outputId": "85f69b0b-8d6e-4cf4-e624-c3b0ccf5cdb4"
      },
      "source": [
        "plt.plot(epochs_hist.history['loss'])\n",
        "plt.title('Model Loss Progress During Training')\n",
        "plt.xlabel('Epoch')\n",
        "plt.ylabel('Training and Validation Loss')\n",
        "plt.legend(['Training Loss']);"
      ],
      "execution_count": 11,
      "outputs": [
        {
          "output_type": "display_data",
          "data": {
            "image/png": "[encoded data removed]",
            "text/plain": [
              "<Figure size 432x288 with 1 Axes>"
            ]
          },
          "metadata": {
            "tags": [],
            "needs_background": "light"
          }
        }
      ]
    }
  ]
}