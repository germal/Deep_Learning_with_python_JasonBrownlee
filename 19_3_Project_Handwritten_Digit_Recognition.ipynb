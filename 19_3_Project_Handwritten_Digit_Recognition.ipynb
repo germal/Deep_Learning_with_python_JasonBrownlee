{
  "nbformat": 4,
  "nbformat_minor": 0,
  "metadata": {
    "colab": {
      "name": "19.3 Project: Handwritten Digit Recognition.ipynb",
      "provenance": [],
      "authorship_tag": "ABX9TyOaIxyk7+sZN+Tag0jkCjEr",
      "include_colab_link": true
    },
    "kernelspec": {
      "name": "python3",
      "display_name": "Python 3"
    }
  },
  "cells": [
    {
      "cell_type": "markdown",
      "metadata": {
        "id": "view-in-github",
        "colab_type": "text"
      },
      "source": [
        "<a href=\"https://colab.research.google.com/github/marcelounb/Deep_Learning_with_python_JasonBrownlee/blob/master/19_3_Project_Handwritten_Digit_Recognition.ipynb\" target=\"_parent\"><img src=\"https://colab.research.google.com/assets/colab-badge.svg\" alt=\"Open In Colab\"/></a>"
      ]
    },
    {
      "cell_type": "markdown",
      "metadata": {
        "id": "PDLGcaBY287S",
        "colab_type": "text"
      },
      "source": [
        "A popular demonstration of the capability of deep learning techniques is object recognition in image data. The hello world of object recognition for machine learning and deep learning is the MNIST dataset for handwritten digit recognition. In this project you will discover how to develop a deep learning model to achieve near state-of-the-art performance on the MNIST handwritten digit recognition task in Python using the Keras deep learning library."
      ]
    },
    {
      "cell_type": "markdown",
      "metadata": {
        "id": "4Owi6-w73KDj",
        "colab_type": "text"
      },
      "source": [
        "**19.1 Handwritten Digit Recognition Dataset**\n",
        "\n",
        "The MNIST problem is a dataset developed by Yann LeCun, Corinna Cortes and Christopher Burges for evaluating machine learning models on the handwritten digit classiﬁcation problem. The dataset was constructed from a number of scanned document datasets available from the National Institute of Standards and Technology (NIST). This is where the name for the dataset comes from, as the Modiﬁed NIST or MNIST dataset. \n",
        "\n",
        "Images of digits were taken from a variety of scanned documents, normalized in size and centered. This makes it an excellent dataset for evaluating models, allowing the developer to focus on the machine learning with very little data cleaning or preparation required. Each image is a 28 X 28 pixel square (784 pixels total). A standard split of the dataset is used to evaluate and compare models, where 60,000 images are used to train a model and a separate set of 10,000 images are used to test it. \n",
        "\n",
        "It is a digit recognition task. As such there are 10 digits (0 to 9) or 10 classes to predict. Results are reported using prediction error, which is nothing more than the inverted classiﬁcation accuracy. Excellent results achieve a prediction error of less than 1%. State-of-the-art prediction error of approximately 0.2% can be achieved with large Convolutional Neural Networks. There is a listing of the state-of-the-art results and links to the relevant papers on the MNIST and other datasets on Rodrigo Benenson’s webpage"
      ]
    },
    {
      "cell_type": "markdown",
      "metadata": {
        "id": "aRpb-H-PYkZw",
        "colab_type": "text"
      },
      "source": [
        "# 19.2 Loading the MNIST dataset in Keras\n",
        "The Keras deep learning library provides a convenience method for loading the MNIST dataset. The dataset is downloaded automatically the ﬁrst time this function is called and is stored in your home directory in ~/.keras/datasets/mnist.pkl.gz as a 15 megabyte ﬁle. This is very handy for developing and testing deep learning models. To demonstrate how easy it is to load the MNIST dataset, we will ﬁrst write a little script to download and visualize the ﬁrst 4 images in the training dataset.\n"
      ]
    },
    {
      "cell_type": "code",
      "metadata": {
        "id": "t-AN62xL0YEG",
        "colab_type": "code",
        "colab": {
          "base_uri": "https://localhost:8080/",
          "height": 35
        },
        "outputId": "4c90fec1-2447-4d26-9c3d-cc7467f2ce33"
      },
      "source": [
        "# Plot ad hoc mnist instances \n",
        "from keras.datasets import mnist \n",
        "import matplotlib.pyplot as plt \n",
        "import numpy as np\n",
        "from keras.datasets import mnist \n",
        "from keras.models import Sequential \n",
        "from keras.layers import Dense \n",
        "from keras.layers import Dropout \n",
        "from keras.utils import np_utils"
      ],
      "execution_count": 1,
      "outputs": [
        {
          "output_type": "stream",
          "text": [
            "Using TensorFlow backend.\n"
          ],
          "name": "stderr"
        }
      ]
    },
    {
      "cell_type": "code",
      "metadata": {
        "id": "Bfa8guU3-ib8",
        "colab_type": "code",
        "colab": {}
      },
      "source": [
        "# load (downloaded if needed) the MNIST dataset \n",
        "(X_train, y_train), (X_test, y_test) = mnist.load_data() "
      ],
      "execution_count": 2,
      "outputs": []
    },
    {
      "cell_type": "code",
      "metadata": {
        "id": "6U-w1X16ZMT0",
        "colab_type": "code",
        "colab": {
          "base_uri": "https://localhost:8080/",
          "height": 35
        },
        "outputId": "2dc9115f-83ec-425f-d64b-a887f4b388b8"
      },
      "source": [
        "X_train.shape, y_train.shape ,X_test.shape, y_test.shape"
      ],
      "execution_count": 3,
      "outputs": [
        {
          "output_type": "execute_result",
          "data": {
            "text/plain": [
              "((60000, 28, 28), (60000,), (10000, 28, 28), (10000,))"
            ]
          },
          "metadata": {
            "tags": []
          },
          "execution_count": 3
        }
      ]
    },
    {
      "cell_type": "code",
      "metadata": {
        "id": "tNKHPiBnZFFV",
        "colab_type": "code",
        "colab": {
          "base_uri": "https://localhost:8080/",
          "height": 268
        },
        "outputId": "fdbb481e-0b84-40b1-b5e2-f86be70ef646"
      },
      "source": [
        "# plot 4 images as gray scale \n",
        "plt.subplot(221) \n",
        "plt.imshow(X_train[0], cmap=plt.get_cmap( 'gray' )) \n",
        "plt.subplot(222) \n",
        "plt.imshow(X_train[1], cmap=plt.get_cmap( 'gray' )) \n",
        "plt.subplot(223) \n",
        "plt.imshow(X_train[2], cmap=plt.get_cmap( 'gray' )) \n",
        "plt.subplot(224) \n",
        "plt.imshow(X_train[3], cmap=plt.get_cmap( 'gray' ))\n",
        "# show the plot \n",
        "plt.show() "
      ],
      "execution_count": 4,
      "outputs": [
        {
          "output_type": "display_data",
          "data": {
            "image/png": "[encoded data removed]",
            "text/plain": [
              "<Figure size 432x288 with 4 Axes>"
            ]
          },
          "metadata": {
            "tags": [],
            "needs_background": "light"
          }
        }
      ]
    },
    {
      "cell_type": "markdown",
      "metadata": {
        "id": "Bcs6jtz3-m-N",
        "colab_type": "text"
      },
      "source": [
        "# 19.3 Baseline Model with Multilayer Perceptrons\n",
        "Do we really need a complex model like a convolutional neural network to get the best results with MNIST? You can get good results using a very simple neural network model with a single hidden layer. In this section we will create a simple Multilayer Perceptron model that achieves an error rate of 1.74%. We will use this as a baseline for comparison to more complex convolutional neural network models."
      ]
    },
    {
      "cell_type": "code",
      "metadata": {
        "id": "m3J5sigX-nso",
        "colab_type": "code",
        "colab": {}
      },
      "source": [
        "# fix random seed for reproducibility \n",
        "seed = 7 \n",
        "np.random.seed(seed)"
      ],
      "execution_count": 5,
      "outputs": []
    },
    {
      "cell_type": "markdown",
      "metadata": {
        "id": "oRAABxSu-5UB",
        "colab_type": "text"
      },
      "source": [
        "The training dataset is structured as a 3-dimensional array of instance, image width and image height. For a Multilayer Perceptron model we must reduce the images down into a vector of pixels. In this case the 28 X 28 sized images will be 784 pixel input vectors. We can do this transform easily using the reshape( ) function on the NumPy array. The pixel values are integers, so we cast them to ﬂoating point values so that we can normalize them easily in the next step.\n"
      ]
    },
    {
      "cell_type": "code",
      "metadata": {
        "id": "M0eLjUL7-xOT",
        "colab_type": "code",
        "colab": {}
      },
      "source": [
        "# flatten 28*28 images to a 784 vector for each image \n",
        "num_pixels = X_train.shape[1] * X_train.shape[2] \n",
        "X_train = X_train.reshape(X_train.shape[0], num_pixels).astype( 'float32' ) \n",
        "X_test = X_test.reshape(X_test.shape[0], num_pixels).astype( 'float32' )"
      ],
      "execution_count": 6,
      "outputs": []
    },
    {
      "cell_type": "markdown",
      "metadata": {
        "id": "wypZQrPR_iuI",
        "colab_type": "text"
      },
      "source": [
        "The pixel values are gray scale between 0 and 255. It is almost always a good idea to perform some scaling of input values when using neural network models. Because the scale is well known and well behaved, we can very quickly normalize the pixel values to the range 0 and 1 by dividing each value by the maximum of 255"
      ]
    },
    {
      "cell_type": "code",
      "metadata": {
        "id": "Qrepz_RN_Hk5",
        "colab_type": "code",
        "colab": {}
      },
      "source": [
        "# normalize inputs from 0-255 to 0-1 \n",
        "X_train = X_train / 255 \n",
        "X_test = X_test / 255"
      ],
      "execution_count": 7,
      "outputs": []
    },
    {
      "cell_type": "markdown",
      "metadata": {
        "id": "ZA6Mw9lt_qgS",
        "colab_type": "text"
      },
      "source": [
        "Finally, the output variable is an integer from 0 to 9. This is a multiclass classiﬁcation problem. As such, it is good practice to use a one hot encoding of the class values, transforming the vector of class integers into a binary matrix. We can easily do this using the built-in np utils.to categorical() helper function in Keras.\n"
      ]
    },
    {
      "cell_type": "code",
      "metadata": {
        "id": "B6GSzRMxASyA",
        "colab_type": "code",
        "colab": {
          "base_uri": "https://localhost:8080/",
          "height": 35
        },
        "outputId": "a56e7761-06a2-4b29-da89-60c8c702afae"
      },
      "source": [
        "y_test[0]"
      ],
      "execution_count": 8,
      "outputs": [
        {
          "output_type": "execute_result",
          "data": {
            "text/plain": [
              "7"
            ]
          },
          "metadata": {
            "tags": []
          },
          "execution_count": 8
        }
      ]
    },
    {
      "cell_type": "code",
      "metadata": {
        "id": "0MWTcGSN_m89",
        "colab_type": "code",
        "colab": {}
      },
      "source": [
        "# one hot encode outputs \n",
        "y_train = np_utils.to_categorical(y_train) \n",
        "y_test = np_utils.to_categorical(y_test) \n",
        "num_classes = y_test.shape[1]"
      ],
      "execution_count": 9,
      "outputs": []
    },
    {
      "cell_type": "code",
      "metadata": {
        "id": "yx6MUWcCAIY6",
        "colab_type": "code",
        "colab": {
          "base_uri": "https://localhost:8080/",
          "height": 35
        },
        "outputId": "b3e7d8dd-869b-44a9-9c88-4769318ebe90"
      },
      "source": [
        "y_test[0]"
      ],
      "execution_count": 10,
      "outputs": [
        {
          "output_type": "execute_result",
          "data": {
            "text/plain": [
              "array([0., 0., 0., 0., 0., 0., 0., 1., 0., 0.], dtype=float32)"
            ]
          },
          "metadata": {
            "tags": []
          },
          "execution_count": 10
        }
      ]
    },
    {
      "cell_type": "markdown",
      "metadata": {
        "id": "zlTTmIOFAiOc",
        "colab_type": "text"
      },
      "source": [
        "# Creating the baseline model\n",
        "\n",
        "We are now ready to create our simple neural network model. We will deﬁne our model in a function. This is handy if you want to extend the example later and try and get a better score.\n"
      ]
    },
    {
      "cell_type": "code",
      "metadata": {
        "id": "9ZhFnM3CBNrY",
        "colab_type": "code",
        "colab": {
          "base_uri": "https://localhost:8080/",
          "height": 35
        },
        "outputId": "07039a1f-486a-4f02-a642-f799b456038c"
      },
      "source": [
        "num_pixels"
      ],
      "execution_count": 12,
      "outputs": [
        {
          "output_type": "execute_result",
          "data": {
            "text/plain": [
              "784"
            ]
          },
          "metadata": {
            "tags": []
          },
          "execution_count": 12
        }
      ]
    },
    {
      "cell_type": "code",
      "metadata": {
        "id": "ut0KOWODAqnH",
        "colab_type": "code",
        "colab": {}
      },
      "source": [
        "# define baseline model \n",
        "def baseline_model(): \n",
        "  # create model \n",
        "  model = Sequential() \n",
        "  model.add(Dense(num_pixels, input_dim=num_pixels, kernel_initializer= 'normal' , activation= 'relu' )) \n",
        "  model.add(Dense(num_classes, kernel_initializer= 'normal' , activation= 'softmax' )) \n",
        "  # Compile model \n",
        "  model.compile(loss= 'categorical_crossentropy' , optimizer= 'adam' , metrics=[ 'accuracy' ]) \n",
        "  return model"
      ],
      "execution_count": 11,
      "outputs": []
    },
    {
      "cell_type": "markdown",
      "metadata": {
        "id": "haqjcGnFBJsn",
        "colab_type": "text"
      },
      "source": [
        "The model is a simple neural network with one hidden layer with the same number of neurons as there are inputs (784). A rectiﬁer activation function is used for the neurons in the hidden layer. A softmax activation function is used on the output layer to turn the outputs into probability-like values and allow one class of the 10 to be selected as the model’s output prediction. Logarithmic loss is used as the loss function (called categorical crossentropy in Keras) and the ecient ADAM gradient descent algorithm is used to learn the weights. A summary of the network structure is provided below:\n",
        "\n",
        "      Input Layer    -->    Hidden Layer    -->    Output Layer\n",
        "       784(inputs)    X      784(neurons)    X       10(outputs)"
      ]
    },
    {
      "cell_type": "markdown",
      "metadata": {
        "id": "lnanyFkMBxg6",
        "colab_type": "text"
      },
      "source": [
        "We can now ﬁt and evaluate the model. The model is ﬁt over 10 epochs with updates every 200 images. The test data is used as the validation dataset, allowing you to see the skill of the model as it trains. A verbose value of 2 is used to amplify the output to one line for each training epoch. Finally, the test dataset is used to evaluate the model and a classiﬁcation error rate is printed.\n"
      ]
    },
    {
      "cell_type": "code",
      "metadata": {
        "id": "6EHwvwMHBAgT",
        "colab_type": "code",
        "colab": {
          "base_uri": "https://localhost:8080/",
          "height": 408
        },
        "outputId": "30b7876d-ba07-468d-d59f-6ce5f31989c8"
      },
      "source": [
        "# build the model \n",
        "model = baseline_model() \n",
        "# Fit the model \n",
        "model.fit(X_train, y_train, validation_data=(X_test, y_test), epochs=10, batch_size=200, verbose=2) "
      ],
      "execution_count": 13,
      "outputs": [
        {
          "output_type": "stream",
          "text": [
            "Train on 60000 samples, validate on 10000 samples\n",
            "Epoch 1/10\n",
            " - 5s - loss: 0.2782 - accuracy: 0.9210 - val_loss: 0.1412 - val_accuracy: 0.9576\n",
            "Epoch 2/10\n",
            " - 5s - loss: 0.1114 - accuracy: 0.9677 - val_loss: 0.0922 - val_accuracy: 0.9716\n",
            "Epoch 3/10\n",
            " - 5s - loss: 0.0718 - accuracy: 0.9797 - val_loss: 0.0788 - val_accuracy: 0.9765\n",
            "Epoch 4/10\n",
            " - 5s - loss: 0.0505 - accuracy: 0.9857 - val_loss: 0.0751 - val_accuracy: 0.9772\n",
            "Epoch 5/10\n",
            " - 5s - loss: 0.0372 - accuracy: 0.9893 - val_loss: 0.0668 - val_accuracy: 0.9793\n",
            "Epoch 6/10\n",
            " - 5s - loss: 0.0271 - accuracy: 0.9927 - val_loss: 0.0633 - val_accuracy: 0.9805\n",
            "Epoch 7/10\n",
            " - 5s - loss: 0.0209 - accuracy: 0.9948 - val_loss: 0.0639 - val_accuracy: 0.9804\n",
            "Epoch 8/10\n",
            " - 5s - loss: 0.0140 - accuracy: 0.9969 - val_loss: 0.0621 - val_accuracy: 0.9807\n",
            "Epoch 9/10\n",
            " - 5s - loss: 0.0109 - accuracy: 0.9979 - val_loss: 0.0582 - val_accuracy: 0.9813\n",
            "Epoch 10/10\n",
            " - 5s - loss: 0.0077 - accuracy: 0.9986 - val_loss: 0.0582 - val_accuracy: 0.9819\n"
          ],
          "name": "stdout"
        },
        {
          "output_type": "execute_result",
          "data": {
            "text/plain": [
              "<keras.callbacks.callbacks.History at 0x7f20980b6e48>"
            ]
          },
          "metadata": {
            "tags": []
          },
          "execution_count": 13
        }
      ]
    },
    {
      "cell_type": "code",
      "metadata": {
        "id": "zK0NHmCgCktA",
        "colab_type": "code",
        "colab": {
          "base_uri": "https://localhost:8080/",
          "height": 35
        },
        "outputId": "b22a71cd-c143-4732-c02c-6a9a5d5c1242"
      },
      "source": [
        "# Final evaluation of the model \n",
        "scores = model.evaluate(X_test, y_test, verbose=0) \n",
        "print(\"Baseline Error: %.2f%%\" % (100-scores[1]*100))"
      ],
      "execution_count": 14,
      "outputs": [
        {
          "output_type": "stream",
          "text": [
            "Baseline Error: 1.81%\n"
          ],
          "name": "stdout"
        }
      ]
    }
  ]
}