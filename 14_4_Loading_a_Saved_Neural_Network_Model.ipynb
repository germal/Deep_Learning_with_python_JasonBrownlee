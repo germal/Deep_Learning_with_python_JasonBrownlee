{
  "nbformat": 4,
  "nbformat_minor": 0,
  "metadata": {
    "colab": {
      "name": "14.4 Loading a Saved Neural Network Model.ipynb",
      "provenance": [],
      "toc_visible": true,
      "authorship_tag": "ABX9TyNbS2SWignN2NLiTy9NNr5e",
      "include_colab_link": true
    },
    "kernelspec": {
      "name": "python3",
      "display_name": "Python 3"
    }
  },
  "cells": [
    {
      "cell_type": "markdown",
      "metadata": {
        "id": "view-in-github",
        "colab_type": "text"
      },
      "source": [
        "<a href=\"https://colab.research.google.com/github/marcelounb/Deep_Learning_with_python_JasonBrownlee/blob/master/14_4_Loading_a_Saved_Neural_Network_Model.ipynb\" target=\"_parent\"><img src=\"https://colab.research.google.com/assets/colab-badge.svg\" alt=\"Open In Colab\"/></a>"
      ]
    },
    {
      "cell_type": "markdown",
      "metadata": {
        "id": "34E7IJpLDkY-",
        "colab_type": "text"
      },
      "source": [
        "# Checkpoint Best Neural Network Model Only\n",
        "\n",
        "A simpler checkpoint strategy is to save the model weights to the same ﬁle, if and only if the validation accuracy improves. This can be done easily using the same code from above and changing the output ﬁlename to be ﬁxed (not include score or epoch information). In this case, model weights are written to the ﬁle weights.best.hdf5 only if the classiﬁcation accuracy of the model on the validation dataset improves over the best seen so far.\n"
      ]
    },
    {
      "cell_type": "markdown",
      "metadata": {
        "id": "0_ctnJ3qJQko",
        "colab_type": "text"
      },
      "source": [
        "**Checkpoint Neural Network Model Improvements**\n",
        "\n",
        "A good use of checkpointing is to output the model weights each time an improvement is observed during training. The example below creates a small neural network for the Pima Indians onset of diabetes binary classiﬁcation problem (see Section 7.2). \n",
        "\n",
        "The example uses 33% of the data for validation. Checkpointing is setup to save the network weights only when there is an improvement in classiﬁcation accuracy on the validation dataset (monitor=’val acc’ and mode=’max’). The weights are stored in a ﬁle that includes the score in the ﬁlename "
      ]
    },
    {
      "cell_type": "code",
      "metadata": {
        "id": "COQNbG1A5oOm",
        "colab_type": "code",
        "colab": {
          "base_uri": "https://localhost:8080/",
          "height": 35
        },
        "outputId": "51498125-b48f-42bf-f2a6-aebd8672b97e"
      },
      "source": [
        "# Checkpoint the weights when validation accuracy improves \n",
        "from keras.models import Sequential \n",
        "from keras.layers import Dense \n",
        "from keras.callbacks import ModelCheckpoint \n",
        "import matplotlib.pyplot as plt \n",
        "import numpy as np"
      ],
      "execution_count": 1,
      "outputs": [
        {
          "output_type": "stream",
          "text": [
            "Using TensorFlow backend.\n"
          ],
          "name": "stderr"
        }
      ]
    },
    {
      "cell_type": "code",
      "metadata": {
        "id": "8vVXMBP5JnoW",
        "colab_type": "code",
        "colab": {}
      },
      "source": [
        "dataset = np.loadtxt(\"pima-indians-diabetes.csv\", delimiter=\",\") \n",
        "# split into input (X) and output (Y) variables \n",
        "X = dataset[:,0:8] \n",
        "Y = dataset[:,8] "
      ],
      "execution_count": 0,
      "outputs": []
    },
    {
      "cell_type": "code",
      "metadata": {
        "id": "tE-DrWyJJvE4",
        "colab_type": "code",
        "colab": {}
      },
      "source": [
        "# fix random seed for reproducibility \n",
        "seed = 7 \n",
        "np.random.seed(seed)"
      ],
      "execution_count": 0,
      "outputs": []
    },
    {
      "cell_type": "code",
      "metadata": {
        "id": "J6Qpw3EQJ0PL",
        "colab_type": "code",
        "colab": {}
      },
      "source": [
        "# create model \n",
        "model = Sequential() \n",
        "model.add(Dense(12, input_dim=8, kernel_initializer= 'uniform' , activation= 'relu' )) \n",
        "model.add(Dense(8, kernel_initializer= 'uniform' , activation= 'relu' )) \n",
        "model.add(Dense(1, kernel_initializer= 'uniform' , activation= 'sigmoid' )) "
      ],
      "execution_count": 0,
      "outputs": []
    },
    {
      "cell_type": "markdown",
      "metadata": {
        "id": "zdrlxrhxkTCx",
        "colab_type": "text"
      },
      "source": [
        "************************************************************************\n",
        "\n",
        "Now that you have seen how to checkpoint your deep learning models during training, you need to review how to load and use a checkpointed model. The checkpoint only includes the model weights. It assumes you know the network structure. This too can be serialize to ﬁle in JSON or YAML format. In the example below, the model structure is known and the best weights are loaded from the previous experiment, stored in the working directory in the weights.best.hdf5 ﬁle. The model is then used to make predictions on the entire dataset.\n"
      ]
    },
    {
      "cell_type": "code",
      "metadata": {
        "id": "ifRUc2ALkRsh",
        "colab_type": "code",
        "colab": {}
      },
      "source": [
        "# load weights \n",
        "model.load_weights(\"weights.best.hdf5\")"
      ],
      "execution_count": 0,
      "outputs": []
    },
    {
      "cell_type": "code",
      "metadata": {
        "id": "lXVnb_g6KEHx",
        "colab_type": "code",
        "colab": {}
      },
      "source": [
        "# Compile model \n",
        "model.compile(loss= 'binary_crossentropy' , optimizer= 'adam' , metrics=[ 'accuracy' ])"
      ],
      "execution_count": 0,
      "outputs": []
    },
    {
      "cell_type": "code",
      "metadata": {
        "id": "7LzeK5uaKK_O",
        "colab_type": "code",
        "colab": {}
      },
      "source": [
        "# checkpoint \n",
        "# filepath=\"weights-improvement-{epoch:02d}-{val_accuracy:.2f}.hdf5\" \n",
        "# filepath=\"weights.best.hdf5\" \n",
        "# checkpoint = ModelCheckpoint(filepath, monitor= 'val_accuracy' , verbose=1, save_best_only=True, mode= 'max' ) \n",
        "\n",
        "# callbacks_list = [checkpoint] "
      ],
      "execution_count": 0,
      "outputs": []
    },
    {
      "cell_type": "code",
      "metadata": {
        "id": "PC4am4I9KXlm",
        "colab_type": "code",
        "colab": {}
      },
      "source": [
        "# Fit the model \n",
        "# history = model.fit(X, Y, validation_split=0.33, epochs=150, batch_size=10, callbacks=callbacks_list, verbose=0)"
      ],
      "execution_count": 0,
      "outputs": []
    },
    {
      "cell_type": "code",
      "metadata": {
        "id": "vlnQ5qDzqa0i",
        "colab_type": "code",
        "colab": {
          "base_uri": "https://localhost:8080/",
          "height": 35
        },
        "outputId": "1e9874ba-190d-4976-b7b0-3218954b14ed"
      },
      "source": [
        "# estimate accuracy on whole dataset using loaded weights \n",
        "scores = model.evaluate(X, Y, verbose=0) \n",
        "print(\"%s: %.2f%%\" % (model.metrics_names[1], scores[1]*100))"
      ],
      "execution_count": 9,
      "outputs": [
        {
          "output_type": "stream",
          "text": [
            "accuracy: 77.60%\n"
          ],
          "name": "stdout"
        }
      ]
    },
    {
      "cell_type": "markdown",
      "metadata": {
        "id": "Z6DANqRaTqMc",
        "colab_type": "text"
      },
      "source": [
        "Running the example produces the output below, truncated for brevity. In the output you can see cases where an improvement in the model accuracy on the validation dataset resulted in a new weight ﬁle being written to disk.\n",
        "\n",
        "You will also see a number of ﬁles in your working directory containing the network weights in HDF5 format.\n",
        "\n",
        "This is a very simple checkpointing strategy. It may create a lot of unnecessary checkpoint ﬁles if the validation accuracy moves up and down over training epochs. Nevertheless, it will ensure that you have a snapshot of the best model discovered during your run."
      ]
    }
  ]
}