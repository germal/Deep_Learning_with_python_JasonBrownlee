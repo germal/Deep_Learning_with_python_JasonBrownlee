{
  "nbformat": 4,
  "nbformat_minor": 0,
  "metadata": {
    "colab": {
      "name": "16.2 Reduce Overﬁtting With Dropout Regularization.ipynb",
      "provenance": [],
      "authorship_tag": "ABX9TyNjwnvG9BEdbNNXHFDhSlaM",
      "include_colab_link": true
    },
    "kernelspec": {
      "name": "python3",
      "display_name": "Python 3"
    }
  },
  "cells": [
    {
      "cell_type": "markdown",
      "metadata": {
        "id": "view-in-github",
        "colab_type": "text"
      },
      "source": [
        "<a href=\"https://colab.research.google.com/github/marcelounb/Deep_Learning_with_python_JasonBrownlee/blob/master/16_2_Reduce_Over%EF%AC%81tting_With_Dropout_Regularization.ipynb\" target=\"_parent\"><img src=\"https://colab.research.google.com/assets/colab-badge.svg\" alt=\"Open In Colab\"/></a>"
      ]
    },
    {
      "cell_type": "markdown",
      "metadata": {
        "id": "SwlCKIeB1Xf5",
        "colab_type": "text"
      },
      "source": [
        "A simple and powerful regularization technique for neural networks and deep learning models is dropout. In this lesson you will discover the dropout regularization technique and how to apply it to your models in Python with Keras. After completing this lesson you will know:\n",
        "1. How the dropout regularization technique works.\n",
        "2. How to use dropout on your input and hidden layers.\n",
        "3. How to use dropout on your hidden layers"
      ]
    },
    {
      "cell_type": "markdown",
      "metadata": {
        "id": "vVrtH-W01ivH",
        "colab_type": "text"
      },
      "source": [
        "#Dropout Regularization For Neural Networks\n",
        "Dropout is a regularization technique for neural network models proposed by Srivastava, et al. in their 2014 paper Dropout: A Simple Way to Prevent Neural Networks from Overﬁtting. \n",
        "\n",
        "Dropout is a technique where randomly selected neurons are ignored during training. They are dropped-out randomly. This means that their contribution to the activation of downstream neurons is temporally removed on the forward pass and any weight updates are not applied to the neuron on the backward pass. \n",
        "\n",
        "As a neural network learns, neuron weights settle into their context within the network. Weights of neurons are tuned for speciﬁc features providing some specialization. Neighboring neurons become to rely on this specialization, which if taken too far can result in a fragile model too specialized to the training data. \n",
        "\n",
        "This reliant on context for a neuron during training is referred to as complex co-adaptations. You can imagine that if neurons are randomly dropped out of the network during training, that other neurons will have to step in and handle the representation required to make predictions for the missing neurons. This is believed to result in multiple independent internal representations being learned by the network. \n",
        "\n",
        "The effect is that the network becomes less sensitive to the speciﬁc weights of neurons. This in turn results in a network that is capable of better generalization and is less likely to overﬁt the training data.\n"
      ]
    },
    {
      "cell_type": "markdown",
      "metadata": {
        "id": "wiWASMYV2vBL",
        "colab_type": "text"
      },
      "source": [
        "# Dropout Regularization in Keras\n",
        "\n",
        "Dropout is easily implemented by randomly selecting nodes to be dropped-out with a given probability (e.g. 20%) each weight update cycle. This is how Dropout is implemented in Keras. \n",
        "\n",
        "Dropout is only used during the training of a model and is not used when evaluating the skill of the model. Next we will explore a few different ways of using Dropout in Keras. \n",
        "\n",
        "The examples will use the **Sonar dataset** binary classiﬁcation dataset (learn more in Section 11.1). We will evaluate the developed models using scikit-learn with 10-fold cross validation, in order to better tease out differences in the results. \n",
        "\n",
        "There are 60 input values and a single output value and the input values are standardized before being used in the network. The baseline neural network model has two hidden layers, the ﬁrst with 60 units and the second with 30. Stochastic gradient descent is used to train the model with a relatively low learning rate and momentum."
      ]
    },
    {
      "cell_type": "code",
      "metadata": {
        "id": "qnd0niwI1OvD",
        "colab_type": "code",
        "colab": {}
      },
      "source": [
        ""
      ],
      "execution_count": null,
      "outputs": []
    }
  ]
}