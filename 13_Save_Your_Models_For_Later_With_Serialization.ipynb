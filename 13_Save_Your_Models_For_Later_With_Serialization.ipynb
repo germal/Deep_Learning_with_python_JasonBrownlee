{
  "nbformat": 4,
  "nbformat_minor": 0,
  "metadata": {
    "colab": {
      "name": "13 Save Your Models For Later With Serialization.ipynb",
      "provenance": [],
      "authorship_tag": "ABX9TyNl0mFrOr7T1Ww1w/nV+Ecy",
      "include_colab_link": true
    },
    "kernelspec": {
      "name": "python3",
      "display_name": "Python 3"
    }
  },
  "cells": [
    {
      "cell_type": "markdown",
      "metadata": {
        "id": "view-in-github",
        "colab_type": "text"
      },
      "source": [
        "<a href=\"https://colab.research.google.com/github/marcelounb/Deep_Learning_with_python_JasonBrownlee/blob/master/13_Save_Your_Models_For_Later_With_Serialization.ipynb\" target=\"_parent\"><img src=\"https://colab.research.google.com/assets/colab-badge.svg\" alt=\"Open In Colab\"/></a>"
      ]
    },
    {
      "cell_type": "markdown",
      "metadata": {
        "id": "4QYVbE0g342x",
        "colab_type": "text"
      },
      "source": [
        "# Save Your Models For Later With Serialization\n",
        "\n",
        "Given that deep learning models can take hours, days and even weeks to train, it is important to know how to save and load them from disk. In this lesson you will discover how you can save your Keras models to ﬁle and load them up again to make predictions. After completing this lesson you will know:\n",
        "1. How to save and load Keras model weights to HDF5 formatted ﬁles.\n",
        "2. How to save and load Keras model structure to JSON ﬁles.\n",
        "3. How to save and load Keras model structure to YAML ﬁles."
      ]
    },
    {
      "cell_type": "markdown",
      "metadata": {
        "id": "Og1fTKGp4FIW",
        "colab_type": "text"
      },
      "source": [
        "# Tutorial Overview\n",
        "Keras separates the concerns of saving your model architecture and saving your model weights. Model weights are saved to HDF5 format. This is a grid format that is ideal for storing multi-dimensional arrays of numbers. The model structure can be described and saved (and loaded) using two different formats: JSON and YAML. Each example will also demonstrate saving and loading your model weights to HDF5 formatted ﬁles. The examples will use the same simple network trained on the Pima Indians onset of diabetes binary classiﬁcation dataset"
      ]
    },
    {
      "cell_type": "markdown",
      "metadata": {
        "id": "ygpXd5Hq4iRL",
        "colab_type": "text"
      },
      "source": [
        "# HDF5 Format\n",
        "\n",
        " The Hierarchical Data Format or HDF5 for short is a ﬂexible data storage format and is convenient for storing large arrays of real values, as we have in the weights of neural networks. You may need to install Python support for the HDF5 ﬁle format. You can do this using your preferred Python package management system such as Pip\n",
        "\n",
        " sudo pip install h5py"
      ]
    },
    {
      "cell_type": "code",
      "metadata": {
        "id": "2XbMKzCN57FG",
        "colab_type": "code",
        "colab": {}
      },
      "source": [
        "# MLP for Pima Indians Dataset Serialize to (JSON or YAML) and HDF5 \n",
        "from keras.models import Sequential \n",
        "from keras.layers import Dense \n",
        "from keras.models import model_from_json \n",
        "from keras.models import model_from_yaml\n",
        "import numpy as np\n",
        "import os"
      ],
      "execution_count": 0,
      "outputs": []
    },
    {
      "cell_type": "code",
      "metadata": {
        "id": "XcpUR-Kl6PiZ",
        "colab_type": "code",
        "colab": {}
      },
      "source": [
        "# load pima indians dataset \n",
        "dataset = np.loadtxt(\"/content/pima-indians-diabetes.csv\", delimiter=\",\") \n",
        "# split into input (X) and output (Y) variables \n",
        "X = dataset[:,0:8] \n",
        "Y = dataset[:,8]"
      ],
      "execution_count": 0,
      "outputs": []
    },
    {
      "cell_type": "code",
      "metadata": {
        "id": "Bbgmi3AD6a4j",
        "colab_type": "code",
        "colab": {}
      },
      "source": [
        "# fix random seed for reproducibility \n",
        "seed = 7\n",
        "np.random.seed(seed)"
      ],
      "execution_count": 0,
      "outputs": []
    },
    {
      "cell_type": "code",
      "metadata": {
        "id": "czoRpLth6jcF",
        "colab_type": "code",
        "colab": {}
      },
      "source": [
        "# create model \n",
        "model = Sequential() \n",
        "model.add(Dense(12, input_dim=8, kernel_initializer= 'uniform' , activation= 'relu' )) \n",
        "model.add(Dense(8, kernel_initializer= 'uniform' , activation= 'relu' )) \n",
        "model.add(Dense(8, kernel_initializer= 'uniform' , activation= 'relu' )) \n",
        "model.add(Dense(1, kernel_initializer= 'uniform' , activation= 'sigmoid' ))"
      ],
      "execution_count": 0,
      "outputs": []
    },
    {
      "cell_type": "code",
      "metadata": {
        "id": "W4JR4C1m6smN",
        "colab_type": "code",
        "colab": {}
      },
      "source": [
        "# Compile model \n",
        "model.compile(loss= 'binary_crossentropy' , optimizer= 'adam' , metrics=[ 'accuracy' ]) "
      ],
      "execution_count": 0,
      "outputs": []
    },
    {
      "cell_type": "code",
      "metadata": {
        "id": "om7AZfTi7Jcb",
        "colab_type": "code",
        "colab": {
          "base_uri": "https://localhost:8080/",
          "height": 1000
        },
        "outputId": "e4e83c13-b1b7-45cc-ecbe-b1f903d462f1"
      },
      "source": [
        "# Fit the model \n",
        "model.fit(X, Y, epochs=120, batch_size=10, verbose=1)"
      ],
      "execution_count": 14,
      "outputs": [
        {
          "output_type": "stream",
          "text": [
            "Epoch 1/120\n",
            "768/768 [==============================] - 0s 288us/step - loss: 0.6894 - accuracy: 0.6432\n",
            "Epoch 2/120\n",
            "768/768 [==============================] - 0s 146us/step - loss: 0.6731 - accuracy: 0.6510\n",
            "Epoch 3/120\n",
            "768/768 [==============================] - 0s 126us/step - loss: 0.6582 - accuracy: 0.6510\n",
            "Epoch 4/120\n",
            "768/768 [==============================] - 0s 128us/step - loss: 0.6407 - accuracy: 0.6549\n",
            "Epoch 5/120\n",
            "768/768 [==============================] - 0s 123us/step - loss: 0.6235 - accuracy: 0.6771\n",
            "Epoch 6/120\n",
            "768/768 [==============================] - 0s 129us/step - loss: 0.6071 - accuracy: 0.6693\n",
            "Epoch 7/120\n",
            "768/768 [==============================] - 0s 131us/step - loss: 0.5992 - accuracy: 0.6745\n",
            "Epoch 8/120\n",
            "768/768 [==============================] - 0s 122us/step - loss: 0.5932 - accuracy: 0.6823\n",
            "Epoch 9/120\n",
            "768/768 [==============================] - 0s 156us/step - loss: 0.5861 - accuracy: 0.6862\n",
            "Epoch 10/120\n",
            "768/768 [==============================] - 0s 173us/step - loss: 0.5844 - accuracy: 0.6940\n",
            "Epoch 11/120\n",
            "768/768 [==============================] - 0s 155us/step - loss: 0.5854 - accuracy: 0.7031\n",
            "Epoch 12/120\n",
            "768/768 [==============================] - 0s 126us/step - loss: 0.5875 - accuracy: 0.6797\n",
            "Epoch 13/120\n",
            "768/768 [==============================] - 0s 136us/step - loss: 0.5851 - accuracy: 0.6992\n",
            "Epoch 14/120\n",
            "768/768 [==============================] - 0s 123us/step - loss: 0.5784 - accuracy: 0.6940\n",
            "Epoch 15/120\n",
            "768/768 [==============================] - 0s 124us/step - loss: 0.5843 - accuracy: 0.6901\n",
            "Epoch 16/120\n",
            "768/768 [==============================] - 0s 121us/step - loss: 0.5707 - accuracy: 0.7044\n",
            "Epoch 17/120\n",
            "768/768 [==============================] - 0s 119us/step - loss: 0.5753 - accuracy: 0.6927\n",
            "Epoch 18/120\n",
            "768/768 [==============================] - 0s 124us/step - loss: 0.5657 - accuracy: 0.7122\n",
            "Epoch 19/120\n",
            "768/768 [==============================] - 0s 123us/step - loss: 0.5670 - accuracy: 0.7109\n",
            "Epoch 20/120\n",
            "768/768 [==============================] - 0s 123us/step - loss: 0.5631 - accuracy: 0.7174\n",
            "Epoch 21/120\n",
            "768/768 [==============================] - 0s 122us/step - loss: 0.5638 - accuracy: 0.6992\n",
            "Epoch 22/120\n",
            "768/768 [==============================] - 0s 127us/step - loss: 0.5611 - accuracy: 0.7005\n",
            "Epoch 23/120\n",
            "768/768 [==============================] - 0s 155us/step - loss: 0.5588 - accuracy: 0.7148\n",
            "Epoch 24/120\n",
            "768/768 [==============================] - 0s 127us/step - loss: 0.5608 - accuracy: 0.7253\n",
            "Epoch 25/120\n",
            "768/768 [==============================] - 0s 127us/step - loss: 0.5660 - accuracy: 0.7044\n",
            "Epoch 26/120\n",
            "768/768 [==============================] - 0s 131us/step - loss: 0.5544 - accuracy: 0.7188\n",
            "Epoch 27/120\n",
            "768/768 [==============================] - 0s 133us/step - loss: 0.5523 - accuracy: 0.7148\n",
            "Epoch 28/120\n",
            "768/768 [==============================] - 0s 153us/step - loss: 0.5557 - accuracy: 0.7148\n",
            "Epoch 29/120\n",
            "768/768 [==============================] - 0s 150us/step - loss: 0.5470 - accuracy: 0.7174\n",
            "Epoch 30/120\n",
            "768/768 [==============================] - 0s 151us/step - loss: 0.5463 - accuracy: 0.7253\n",
            "Epoch 31/120\n",
            "768/768 [==============================] - 0s 135us/step - loss: 0.5419 - accuracy: 0.7331\n",
            "Epoch 32/120\n",
            "768/768 [==============================] - 0s 123us/step - loss: 0.5402 - accuracy: 0.7266\n",
            "Epoch 33/120\n",
            "768/768 [==============================] - 0s 128us/step - loss: 0.5437 - accuracy: 0.7174\n",
            "Epoch 34/120\n",
            "768/768 [==============================] - 0s 127us/step - loss: 0.5525 - accuracy: 0.7331\n",
            "Epoch 35/120\n",
            "768/768 [==============================] - 0s 130us/step - loss: 0.5356 - accuracy: 0.7292\n",
            "Epoch 36/120\n",
            "768/768 [==============================] - 0s 123us/step - loss: 0.5346 - accuracy: 0.7331\n",
            "Epoch 37/120\n",
            "768/768 [==============================] - 0s 122us/step - loss: 0.5310 - accuracy: 0.7396\n",
            "Epoch 38/120\n",
            "768/768 [==============================] - 0s 122us/step - loss: 0.5311 - accuracy: 0.7331\n",
            "Epoch 39/120\n",
            "768/768 [==============================] - 0s 119us/step - loss: 0.5356 - accuracy: 0.7357\n",
            "Epoch 40/120\n",
            "768/768 [==============================] - 0s 116us/step - loss: 0.5268 - accuracy: 0.7448\n",
            "Epoch 41/120\n",
            "768/768 [==============================] - 0s 116us/step - loss: 0.5290 - accuracy: 0.7487\n",
            "Epoch 42/120\n",
            "768/768 [==============================] - 0s 115us/step - loss: 0.5285 - accuracy: 0.7526\n",
            "Epoch 43/120\n",
            "768/768 [==============================] - 0s 115us/step - loss: 0.5255 - accuracy: 0.7474\n",
            "Epoch 44/120\n",
            "768/768 [==============================] - 0s 123us/step - loss: 0.5149 - accuracy: 0.7513\n",
            "Epoch 45/120\n",
            "768/768 [==============================] - 0s 116us/step - loss: 0.5225 - accuracy: 0.7565\n",
            "Epoch 46/120\n",
            "768/768 [==============================] - 0s 120us/step - loss: 0.5144 - accuracy: 0.7513\n",
            "Epoch 47/120\n",
            "768/768 [==============================] - 0s 119us/step - loss: 0.5101 - accuracy: 0.7474\n",
            "Epoch 48/120\n",
            "768/768 [==============================] - 0s 116us/step - loss: 0.5075 - accuracy: 0.7513\n",
            "Epoch 49/120\n",
            "768/768 [==============================] - 0s 118us/step - loss: 0.5085 - accuracy: 0.7526\n",
            "Epoch 50/120\n",
            "768/768 [==============================] - 0s 114us/step - loss: 0.5041 - accuracy: 0.7604\n",
            "Epoch 51/120\n",
            "768/768 [==============================] - 0s 118us/step - loss: 0.5066 - accuracy: 0.7487\n",
            "Epoch 52/120\n",
            "768/768 [==============================] - 0s 116us/step - loss: 0.5088 - accuracy: 0.7578\n",
            "Epoch 53/120\n",
            "768/768 [==============================] - 0s 121us/step - loss: 0.5025 - accuracy: 0.7604\n",
            "Epoch 54/120\n",
            "768/768 [==============================] - 0s 116us/step - loss: 0.5003 - accuracy: 0.7630\n",
            "Epoch 55/120\n",
            "768/768 [==============================] - 0s 118us/step - loss: 0.4982 - accuracy: 0.7591\n",
            "Epoch 56/120\n",
            "768/768 [==============================] - 0s 115us/step - loss: 0.5017 - accuracy: 0.7604\n",
            "Epoch 57/120\n",
            "768/768 [==============================] - 0s 118us/step - loss: 0.4995 - accuracy: 0.7656\n",
            "Epoch 58/120\n",
            "768/768 [==============================] - 0s 117us/step - loss: 0.4974 - accuracy: 0.7604\n",
            "Epoch 59/120\n",
            "768/768 [==============================] - 0s 117us/step - loss: 0.4924 - accuracy: 0.7526\n",
            "Epoch 60/120\n",
            "768/768 [==============================] - 0s 116us/step - loss: 0.4938 - accuracy: 0.7604\n",
            "Epoch 61/120\n",
            "768/768 [==============================] - 0s 111us/step - loss: 0.4946 - accuracy: 0.7682\n",
            "Epoch 62/120\n",
            "768/768 [==============================] - 0s 113us/step - loss: 0.4892 - accuracy: 0.7604\n",
            "Epoch 63/120\n",
            "768/768 [==============================] - 0s 113us/step - loss: 0.4796 - accuracy: 0.7630\n",
            "Epoch 64/120\n",
            "768/768 [==============================] - 0s 118us/step - loss: 0.4850 - accuracy: 0.7617\n",
            "Epoch 65/120\n",
            "768/768 [==============================] - 0s 129us/step - loss: 0.4844 - accuracy: 0.7604\n",
            "Epoch 66/120\n",
            "768/768 [==============================] - 0s 123us/step - loss: 0.4829 - accuracy: 0.7604\n",
            "Epoch 67/120\n",
            "768/768 [==============================] - 0s 121us/step - loss: 0.4754 - accuracy: 0.7630\n",
            "Epoch 68/120\n",
            "768/768 [==============================] - 0s 125us/step - loss: 0.4875 - accuracy: 0.7604\n",
            "Epoch 69/120\n",
            "768/768 [==============================] - 0s 118us/step - loss: 0.4794 - accuracy: 0.7760\n",
            "Epoch 70/120\n",
            "768/768 [==============================] - 0s 115us/step - loss: 0.4756 - accuracy: 0.7617\n",
            "Epoch 71/120\n",
            "768/768 [==============================] - 0s 115us/step - loss: 0.4744 - accuracy: 0.7734\n",
            "Epoch 72/120\n",
            "768/768 [==============================] - 0s 116us/step - loss: 0.4767 - accuracy: 0.7474\n",
            "Epoch 73/120\n",
            "768/768 [==============================] - 0s 118us/step - loss: 0.4700 - accuracy: 0.7695\n",
            "Epoch 74/120\n",
            "768/768 [==============================] - 0s 115us/step - loss: 0.4740 - accuracy: 0.7708\n",
            "Epoch 75/120\n",
            "768/768 [==============================] - 0s 116us/step - loss: 0.4668 - accuracy: 0.7695\n",
            "Epoch 76/120\n",
            "768/768 [==============================] - 0s 113us/step - loss: 0.4676 - accuracy: 0.7682\n",
            "Epoch 77/120\n",
            "768/768 [==============================] - 0s 114us/step - loss: 0.4745 - accuracy: 0.7773\n",
            "Epoch 78/120\n",
            "768/768 [==============================] - 0s 117us/step - loss: 0.4713 - accuracy: 0.7786\n",
            "Epoch 79/120\n",
            "768/768 [==============================] - 0s 139us/step - loss: 0.4689 - accuracy: 0.7773\n",
            "Epoch 80/120\n",
            "768/768 [==============================] - 0s 111us/step - loss: 0.4699 - accuracy: 0.7708\n",
            "Epoch 81/120\n",
            "768/768 [==============================] - 0s 112us/step - loss: 0.4652 - accuracy: 0.7656\n",
            "Epoch 82/120\n",
            "768/768 [==============================] - 0s 116us/step - loss: 0.4724 - accuracy: 0.7734\n",
            "Epoch 83/120\n",
            "768/768 [==============================] - 0s 117us/step - loss: 0.4628 - accuracy: 0.7773\n",
            "Epoch 84/120\n",
            "768/768 [==============================] - 0s 117us/step - loss: 0.4639 - accuracy: 0.7695\n",
            "Epoch 85/120\n",
            "768/768 [==============================] - 0s 115us/step - loss: 0.4583 - accuracy: 0.7656\n",
            "Epoch 86/120\n",
            "768/768 [==============================] - 0s 117us/step - loss: 0.4693 - accuracy: 0.7643\n",
            "Epoch 87/120\n",
            "768/768 [==============================] - 0s 113us/step - loss: 0.4623 - accuracy: 0.7799\n",
            "Epoch 88/120\n",
            "768/768 [==============================] - 0s 115us/step - loss: 0.4674 - accuracy: 0.7760\n",
            "Epoch 89/120\n",
            "768/768 [==============================] - 0s 113us/step - loss: 0.4689 - accuracy: 0.7786\n",
            "Epoch 90/120\n",
            "768/768 [==============================] - 0s 122us/step - loss: 0.4596 - accuracy: 0.7773\n",
            "Epoch 91/120\n",
            "768/768 [==============================] - 0s 114us/step - loss: 0.4633 - accuracy: 0.7812\n",
            "Epoch 92/120\n",
            "768/768 [==============================] - 0s 117us/step - loss: 0.4570 - accuracy: 0.7708\n",
            "Epoch 93/120\n",
            "768/768 [==============================] - 0s 114us/step - loss: 0.4615 - accuracy: 0.7852\n",
            "Epoch 94/120\n",
            "768/768 [==============================] - 0s 115us/step - loss: 0.4538 - accuracy: 0.7812\n",
            "Epoch 95/120\n",
            "768/768 [==============================] - 0s 114us/step - loss: 0.4601 - accuracy: 0.7734\n",
            "Epoch 96/120\n",
            "768/768 [==============================] - 0s 116us/step - loss: 0.4575 - accuracy: 0.7852\n",
            "Epoch 97/120\n",
            "768/768 [==============================] - 0s 114us/step - loss: 0.4664 - accuracy: 0.7656\n",
            "Epoch 98/120\n",
            "768/768 [==============================] - 0s 113us/step - loss: 0.4568 - accuracy: 0.7747\n",
            "Epoch 99/120\n",
            "768/768 [==============================] - 0s 118us/step - loss: 0.4555 - accuracy: 0.7891\n",
            "Epoch 100/120\n",
            "768/768 [==============================] - 0s 115us/step - loss: 0.4539 - accuracy: 0.7891\n",
            "Epoch 101/120\n",
            "768/768 [==============================] - 0s 114us/step - loss: 0.4612 - accuracy: 0.7799\n",
            "Epoch 102/120\n",
            "768/768 [==============================] - 0s 118us/step - loss: 0.4659 - accuracy: 0.7760\n",
            "Epoch 103/120\n",
            "768/768 [==============================] - 0s 115us/step - loss: 0.4563 - accuracy: 0.7747\n",
            "Epoch 104/120\n",
            "768/768 [==============================] - 0s 114us/step - loss: 0.4514 - accuracy: 0.7878\n",
            "Epoch 105/120\n",
            "768/768 [==============================] - 0s 114us/step - loss: 0.4554 - accuracy: 0.7747\n",
            "Epoch 106/120\n",
            "768/768 [==============================] - 0s 114us/step - loss: 0.4613 - accuracy: 0.7852\n",
            "Epoch 107/120\n",
            "768/768 [==============================] - 0s 119us/step - loss: 0.4568 - accuracy: 0.7943\n",
            "Epoch 108/120\n",
            "768/768 [==============================] - 0s 115us/step - loss: 0.4567 - accuracy: 0.7786\n",
            "Epoch 109/120\n",
            "768/768 [==============================] - 0s 114us/step - loss: 0.4485 - accuracy: 0.7760\n",
            "Epoch 110/120\n",
            "768/768 [==============================] - 0s 129us/step - loss: 0.4537 - accuracy: 0.7826\n",
            "Epoch 111/120\n",
            "768/768 [==============================] - 0s 115us/step - loss: 0.4590 - accuracy: 0.7799\n",
            "Epoch 112/120\n",
            "768/768 [==============================] - 0s 121us/step - loss: 0.4460 - accuracy: 0.7982\n",
            "Epoch 113/120\n",
            "768/768 [==============================] - 0s 120us/step - loss: 0.4540 - accuracy: 0.7760\n",
            "Epoch 114/120\n",
            "768/768 [==============================] - 0s 114us/step - loss: 0.4582 - accuracy: 0.7721\n",
            "Epoch 115/120\n",
            "768/768 [==============================] - 0s 116us/step - loss: 0.4624 - accuracy: 0.7747\n",
            "Epoch 116/120\n",
            "768/768 [==============================] - 0s 111us/step - loss: 0.4457 - accuracy: 0.7799\n",
            "Epoch 117/120\n",
            "768/768 [==============================] - 0s 117us/step - loss: 0.4501 - accuracy: 0.7786\n",
            "Epoch 118/120\n",
            "768/768 [==============================] - 0s 116us/step - loss: 0.4468 - accuracy: 0.8008\n",
            "Epoch 119/120\n",
            "768/768 [==============================] - 0s 112us/step - loss: 0.4432 - accuracy: 0.7982\n",
            "Epoch 120/120\n",
            "768/768 [==============================] - 0s 117us/step - loss: 0.4493 - accuracy: 0.7904\n"
          ],
          "name": "stdout"
        },
        {
          "output_type": "execute_result",
          "data": {
            "text/plain": [
              "<keras.callbacks.callbacks.History at 0x7f29ccac2668>"
            ]
          },
          "metadata": {
            "tags": []
          },
          "execution_count": 14
        }
      ]
    },
    {
      "cell_type": "code",
      "metadata": {
        "id": "pLrQGG317Vj1",
        "colab_type": "code",
        "colab": {
          "base_uri": "https://localhost:8080/",
          "height": 35
        },
        "outputId": "b4ee8675-1448-4f27-aa40-7d3b812ee1d4"
      },
      "source": [
        "# evaluate the model \n",
        "scores = model.evaluate(X, Y, verbose=0) \n",
        "print(\"%s: %.2f%%\" % (model.metrics_names[1], scores[1]*100))"
      ],
      "execution_count": 15,
      "outputs": [
        {
          "output_type": "stream",
          "text": [
            "accuracy: 79.30%\n"
          ],
          "name": "stdout"
        }
      ]
    },
    {
      "cell_type": "markdown",
      "metadata": {
        "id": "prFwgdOV5FRI",
        "colab_type": "text"
      },
      "source": [
        "# Save Your Neural Network Model to JSON\n",
        "\n",
        "JSON is a simple ﬁle format for describing data hierarchically. Keras provides the ability to describe any model using JSON format with a to_json() function.\n",
        "\n",
        "This can be saved to ﬁle and later loaded via the model_from_json() function that will create a new model from the JSON speciﬁcation. The weights are saved directly from the model using the save_weights() function and later loaded using the symmetrical load_weights() function. \n",
        "\n",
        "The example below trains and evaluates a simple model on the Pima Indians dataset. The model structure is then converted to JSON format and written to model.json in the local directory. \n",
        "\n",
        "The network weights are written to model.h5 in the local directory. The model and weight data is loaded from the saved ﬁles and a new model is created. \n",
        "\n",
        "It is important to compile the loaded model before it is used. This is so that predictions made using the model can use the appropriate efficient computation from the Keras backend. The model is evaluated in the same way printing the same evaluation score.\n"
      ]
    },
    {
      "cell_type": "code",
      "metadata": {
        "id": "zIp1I2J4mrTA",
        "colab_type": "code",
        "colab": {
          "base_uri": "https://localhost:8080/",
          "height": 35
        },
        "outputId": "ce7cd759-d4fb-4ea9-fc1f-500b72159286"
      },
      "source": [
        "# serialize model to JSON \n",
        "model_json = model.to_json() \n",
        "with open(\"model.json\", \"w\") as json_file: \n",
        "  json_file.write(model_json) \n",
        "  # serialize weights to HDF5 \n",
        "  model.save_weights(\"model.h5\") \n",
        "  print(\"Saved model to disk\")"
      ],
      "execution_count": 16,
      "outputs": [
        {
          "output_type": "stream",
          "text": [
            "Saved model to disk\n"
          ],
          "name": "stdout"
        }
      ]
    },
    {
      "cell_type": "markdown",
      "metadata": {
        "id": "6UKws0Oj_82o",
        "colab_type": "text"
      },
      "source": [
        "Load from Json"
      ]
    },
    {
      "cell_type": "code",
      "metadata": {
        "id": "BlG-XjID_rJE",
        "colab_type": "code",
        "colab": {
          "base_uri": "https://localhost:8080/",
          "height": 35
        },
        "outputId": "8c4b5f28-2996-492d-8b68-6e34914c996e"
      },
      "source": [
        "# later...\n",
        "\n",
        "# load json and create model\n",
        "json_file = open( 'model.json' , 'r' ) \n",
        "loaded_model_json = json_file.read() \n",
        "json_file.close() \n",
        "loaded_model = model_from_json(loaded_model_json) \n",
        "# load weights into new model \n",
        "loaded_model.load_weights(\"model.h5\") \n",
        "print(\"Loaded model from disk\")"
      ],
      "execution_count": 18,
      "outputs": [
        {
          "output_type": "stream",
          "text": [
            "Loaded model from disk\n"
          ],
          "name": "stdout"
        }
      ]
    },
    {
      "cell_type": "code",
      "metadata": {
        "id": "MgCfq1tvAXfu",
        "colab_type": "code",
        "colab": {
          "base_uri": "https://localhost:8080/",
          "height": 35
        },
        "outputId": "abe00429-6386-4b68-c4de-65a36786fea4"
      },
      "source": [
        "# evaluate loaded model on test data \n",
        "loaded_model.compile(loss= 'binary_crossentropy' , optimizer= 'rmsprop' , metrics=[ 'accuracy' ]) \n",
        "score = loaded_model.evaluate(X, Y, verbose=0) \n",
        "print (\"%s: %.2f%%\" % (loaded_model.metrics_names[1], score[1]*100))"
      ],
      "execution_count": 20,
      "outputs": [
        {
          "output_type": "stream",
          "text": [
            "accuracy: 79.30%\n"
          ],
          "name": "stdout"
        }
      ]
    },
    {
      "cell_type": "markdown",
      "metadata": {
        "id": "3_0V9tsoBWSc",
        "colab_type": "text"
      },
      "source": [
        "Running this example provides the output below. It shows ﬁrst the accuracy of the trained model, the saving of the model to disk in JSON format, the loading of the model and ﬁnally the re-evaluation of the loaded model achieving the same accuracy."
      ]
    },
    {
      "cell_type": "markdown",
      "metadata": {
        "id": "rJqClhZfF7iV",
        "colab_type": "text"
      },
      "source": [
        "# Save Your Neural Network Model to YAML\n",
        "\n",
        "This example is much the same as the above JSON example, except the YAML format is used for the model speciﬁcation. The model is described using YAML, saved to ﬁle model.yaml and later loaded into a new model via the model_from_yaml() function. Weights are handled in the same way as above in HDF5 format as model.h5"
      ]
    },
    {
      "cell_type": "code",
      "metadata": {
        "id": "lxGheuxKGDs9",
        "colab_type": "code",
        "colab": {
          "base_uri": "https://localhost:8080/",
          "height": 35
        },
        "outputId": "32dc639c-45d1-4556-9e2a-0b23988cfc1e"
      },
      "source": [
        "# serialize model to YAML \n",
        "model_yaml = model.to_yaml() \n",
        "with open(\"model.yaml\", \"w\") as yaml_file: \n",
        "  yaml_file.write(model_yaml) \n",
        "  # serialize weights to HDF5 \n",
        "  model.save_weights(\"model.h5\") \n",
        "  print(\"Saved model to disk\")"
      ],
      "execution_count": 21,
      "outputs": [
        {
          "output_type": "stream",
          "text": [
            "Saved model to disk\n"
          ],
          "name": "stdout"
        }
      ]
    },
    {
      "cell_type": "markdown",
      "metadata": {
        "id": "5kwsifsZGfeh",
        "colab_type": "text"
      },
      "source": [
        "Load from YAML"
      ]
    },
    {
      "cell_type": "code",
      "metadata": {
        "id": "TfkkC9rgGOlU",
        "colab_type": "code",
        "colab": {
          "base_uri": "https://localhost:8080/",
          "height": 35
        },
        "outputId": "e103b303-a1ea-42d0-c37f-bd04dbae083a"
      },
      "source": [
        "# later...\n",
        "\n",
        "\n",
        "# load YAML and create model \n",
        "yaml_file = open( 'model.yaml' , 'r' ) \n",
        "loaded_model_yaml = yaml_file.read() \n",
        "yaml_file.close() \n",
        "loaded_model2 = model_from_yaml(loaded_model_yaml) \n",
        "# load weights into new model \n",
        "loaded_model2.load_weights(\"model.h5\") \n",
        "print(\"Loaded model from disk\")"
      ],
      "execution_count": 25,
      "outputs": [
        {
          "output_type": "stream",
          "text": [
            "Loaded model from disk\n"
          ],
          "name": "stdout"
        }
      ]
    },
    {
      "cell_type": "code",
      "metadata": {
        "id": "voAz9QDjHGo1",
        "colab_type": "code",
        "colab": {
          "base_uri": "https://localhost:8080/",
          "height": 35
        },
        "outputId": "522dd72d-a283-416a-c054-bbe4f9e9093b"
      },
      "source": [
        "# evaluate loaded model on test data \n",
        "loaded_model2.compile(loss= 'binary_crossentropy' , optimizer= 'rmsprop' , metrics=[ 'accuracy' ]) \n",
        "score = loaded_model2.evaluate(X, Y, verbose=0) \n",
        "print (\"%s: %.2f%%\" % (loaded_model.metrics_names[1], score[1]*100))"
      ],
      "execution_count": 27,
      "outputs": [
        {
          "output_type": "stream",
          "text": [
            "accuracy: 79.30%\n"
          ],
          "name": "stdout"
        }
      ]
    },
    {
      "cell_type": "markdown",
      "metadata": {
        "id": "hORCwRN2IA84",
        "colab_type": "text"
      },
      "source": [
        "Saving and loading models is an important capability for transplanting a deep learning model from research and development to operations. In this lesson you discovered how to serialize your Keras deep learning models."
      ]
    }
  ]
}