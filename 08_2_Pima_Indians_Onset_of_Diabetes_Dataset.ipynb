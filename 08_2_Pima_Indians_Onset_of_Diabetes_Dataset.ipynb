{
  "nbformat": 4,
  "nbformat_minor": 0,
  "metadata": {
    "colab": {
      "name": "08.2 Pima Indians Onset of Diabetes Dataset.ipynb",
      "provenance": [],
      "toc_visible": true,
      "authorship_tag": "ABX9TyMdCGFbAy//jb2KiJn1EZPy",
      "include_colab_link": true
    },
    "kernelspec": {
      "name": "python3",
      "display_name": "Python 3"
    }
  },
  "cells": [
    {
      "cell_type": "markdown",
      "metadata": {
        "id": "view-in-github",
        "colab_type": "text"
      },
      "source": [
        "<a href=\"https://colab.research.google.com/github/marcelounb/Deep_Learning_with_python_JasonBrownlee/blob/master/08_2_Pima_Indians_Onset_of_Diabetes_Dataset.ipynb\" target=\"_parent\"><img src=\"https://colab.research.google.com/assets/colab-badge.svg\" alt=\"Open In Colab\"/></a>"
      ]
    },
    {
      "cell_type": "markdown",
      "metadata": {
        "id": "nvKOhxrOhpmC",
        "colab_type": "text"
      },
      "source": [
        "# 8.1 & 8.2 Pima Indians Onset of Diabetes Dataset\n",
        " patient medical record data for Pima Indians and whether they had an onset of diabetes within ﬁve years. It is a binary classiﬁcation problem (onset of diabetes as 1 or not as 0). The input variables that describe each patient are numerical and have varying scales. Below lists the eight attributes for the dataset:\n",
        "1. Number of times pregnant.\n",
        "2. Plasma glucose concentration a 2 hours in an oral glucose tolerance test.\n",
        "3. Diastolic blood pressure (mm Hg).\n",
        "4. Triceps skin fold thickness (mm).\n",
        "5. 2-Hour serum insulin (mu U/ml).\n",
        "6. Body mass index.\n",
        "7. Diabetes pedigree function.\n",
        "8. Age (years).\n",
        "9. Class, onset of diabetes within ﬁve years.\n",
        "\n",
        "Given that all attributes are numerical makes it easy to use directly with neural networks that expect numerical inputs and output values, and ideal for our ﬁrst neural network in Keras. This dataset will also be used for a number of additional lessons coming up in this book, so keep it handy. below is a sample of the dataset showing the ﬁrst 5 rows of the 768 instances:\n",
        "\n",
        "6,148,72,35,0,33.6,0.627,50,1 \n",
        "\n",
        "1,85,66,29,0,26.6,0.351,31,0 \n",
        "\n",
        "8,183,64,0,0,23.3,0.672,32,1 \n",
        "\n",
        "1,89,66,23,94,28.1,0.167,21,0 \n",
        "\n",
        "0,137,40,35,168,43.1,2.288,33,1\n"
      ]
    },
    {
      "cell_type": "markdown",
      "metadata": {
        "id": "GAX8Zec9kc-K",
        "colab_type": "text"
      },
      "source": [
        "# Loading Data"
      ]
    },
    {
      "cell_type": "code",
      "metadata": {
        "id": "5CPE29t-Bfaf",
        "colab_type": "code",
        "outputId": "a525cdd1-3b7e-4325-c46f-3f378d3b8ff3",
        "colab": {
          "base_uri": "https://localhost:8080/",
          "height": 35
        }
      },
      "source": [
        "from keras.models import Sequential \n",
        "from keras.layers import Dense \n",
        "import numpy as np\n",
        "# fix random seed for reproducibility \n",
        "seed = 7 \n",
        "np.random.seed(seed)"
      ],
      "execution_count": 1,
      "outputs": [
        {
          "output_type": "stream",
          "text": [
            "Using TensorFlow backend.\n"
          ],
          "name": "stderr"
        }
      ]
    },
    {
      "cell_type": "code",
      "metadata": {
        "id": "NphmfwqhkpTq",
        "colab_type": "code",
        "colab": {}
      },
      "source": [
        "# load pima indians dataset \n",
        "dataset = np.loadtxt(\"pima-indians-diabetes.csv\", delimiter=\",\") \n",
        "# split into input (X) and output (Y) variables \n",
        "X = dataset[:,0:8] \n",
        "Y = dataset[:,8]\n",
        "\n",
        "# split into 67% for train and 33% for test MANUAL VERSION\n",
        "# X_train, X_test, y_train, y_test = train_test_split(X, Y, test_size=0.33, random_state=seed\n",
        "# Then on fitting\n",
        "# model.fit(X_train, y_train, validation_data=(X_test,y_test), nb_epoch=150, batch_size=10)"
      ],
      "execution_count": 0,
      "outputs": []
    },
    {
      "cell_type": "code",
      "metadata": {
        "id": "3H39mtChk8Dv",
        "colab_type": "code",
        "outputId": "b516015e-92c8-43c7-99a0-c6676834e912",
        "colab": {
          "base_uri": "https://localhost:8080/",
          "height": 35
        }
      },
      "source": [
        "X.shape"
      ],
      "execution_count": 3,
      "outputs": [
        {
          "output_type": "execute_result",
          "data": {
            "text/plain": [
              "(768, 8)"
            ]
          },
          "metadata": {
            "tags": []
          },
          "execution_count": 3
        }
      ]
    },
    {
      "cell_type": "code",
      "metadata": {
        "id": "Tc6Nxpalk_S7",
        "colab_type": "code",
        "outputId": "e1c0a5a3-073d-456f-a290-48ecd2bf863b",
        "colab": {
          "base_uri": "https://localhost:8080/",
          "height": 35
        }
      },
      "source": [
        "Y.shape"
      ],
      "execution_count": 4,
      "outputs": [
        {
          "output_type": "execute_result",
          "data": {
            "text/plain": [
              "(768,)"
            ]
          },
          "metadata": {
            "tags": []
          },
          "execution_count": 4
        }
      ]
    },
    {
      "cell_type": "markdown",
      "metadata": {
        "id": "9S3XtyealLv5",
        "colab_type": "text"
      },
      "source": [
        "# Deﬁning the Model\n",
        "In this example we will use a fully-connected network structure with three layers.\n",
        "\n",
        "Fully connected layers are deﬁned using the Dense class. We can specify the number of neurons in the layer as the ﬁrst argument, the initialization method as the second argument as init and specify the activation function using the activation argument. In this case we initialize the network weights to a small random number generated from a uniform distribution (uniform), in this case between 0 and 0.05 because that is the default uniform weight initialization in Keras. Another traditional alternative would be normal for small random numbers generated from a Gaussian distribution.\n",
        "\n",
        "We will use the rectiﬁer (relu) activation function on the ﬁrst two layers and thesigmoid activation function in the output layer. It used to be the case that sigmoid and tanh activation functions were preferred for all layers. These days, better performance is seen using the rectiﬁer activation function. We use a sigmoid activation function on the output layer to ensure our network output is between 0 and 1 and easy to map to either a probability of class 1 or snap to a hard classiﬁcation of either class with a default threshold of 0.5. We can piece it all together by adding each layer. The ﬁrst hidden layer has 12 neurons and expects 8 input variables. The second hidden layer has 8 neurons and ﬁnally the output layer has 1 neuron to predict the class (onset of diabetes or not)."
      ]
    },
    {
      "cell_type": "code",
      "metadata": {
        "id": "spamllKxlGHI",
        "colab_type": "code",
        "colab": {}
      },
      "source": [
        "# create model \n",
        "model = Sequential() \n",
        "model.add(Dense(12, input_dim=8, kernel_initializer= 'uniform' , activation= 'relu' )) \n",
        "model.add(Dense(8, kernel_initializer= 'uniform' , activation= 'relu' )) \n",
        "model.add(Dense(1, kernel_initializer= 'uniform' , activation= 'sigmoid' ))"
      ],
      "execution_count": 0,
      "outputs": []
    },
    {
      "cell_type": "markdown",
      "metadata": {
        "id": "-6cpa2dTm-N3",
        "colab_type": "text"
      },
      "source": [
        "# Compiling the Model\n",
        "Now that the model is deﬁned, we can compile it. Compiling the model uses the ecient numerical libraries under the covers (the so-called backend) such as Theano or TensorFlow. The backend automatically chooses the best way to represent the network for training and making predictions to run on your hardware. When compiling, we must specify some additional properties required when training the network. Remember training a network means ﬁnding the best set of weights to make predictions for this problem.\n",
        "\n",
        "We must specify the loss function to use to evaluate a set of weights, the optimizer used to search through di↵erent weights for the network and any optional metrics we would like to collect and report during training. In this case we will use logarithmic loss, which for a binary classiﬁcation problem is deﬁned in Keras as binary crossentropy. We will also use the ecient gradient descent algorithm adam for no other reason that it is an ecient default. Learn more about the Adam optimization algorithm in the paper Adam: A Method for Stochastic Optimization (http://arxiv.org/abs/1412.6980). Finally, because it is a classiﬁcation problem, we will collect and report the classiﬁcation accuracy as the metric"
      ]
    },
    {
      "cell_type": "code",
      "metadata": {
        "id": "ll6gDRvHl1Gi",
        "colab_type": "code",
        "colab": {}
      },
      "source": [
        "# Compile model \n",
        "model.compile(loss= 'binary_crossentropy' , optimizer= 'adam' , metrics=[ 'accuracy' ])"
      ],
      "execution_count": 0,
      "outputs": []
    },
    {
      "cell_type": "markdown",
      "metadata": {
        "id": "-dJhsHlOoA0I",
        "colab_type": "text"
      },
      "source": [
        "# Fiting the Model\n",
        "We have deﬁned our model and compiled it ready for ecient computation. Now it is time to execute the model on some data. We can train or ﬁt our model on our loaded data by calling the fit( ) function on the model. \n",
        "\n",
        "The training process will run for a ﬁxed number of iterations through the dataset called epochs, that we must specify using the nb epoch argument. We can also set the number of instances that are evaluated before a weight update in the network is performed called the batch size and set using the batch size argument. For this problem we will run for a small number of epochs (150) and use a relatively small batch size of 10. Again, these can be chosen experimentally by trial and error."
      ]
    },
    {
      "cell_type": "code",
      "metadata": {
        "id": "aR4pJkefnZ-H",
        "colab_type": "code",
        "outputId": "d282113f-2ad1-4c92-9dc9-6f39ce5b8084",
        "colab": {
          "base_uri": "https://localhost:8080/",
          "height": 1000
        }
      },
      "source": [
        "#Model fit\n",
        "# epochs_hist = model.fit(X, Y, epochs=300, batch_size=15)\n",
        "\n",
        "# split into 67% for train and 33% for test AUTOMATIC VERSION\n",
        "\n",
        "epochs_hist = model.fit(X, Y, validation_split=0.33, nb_epoch=150, batch_size=10)"
      ],
      "execution_count": 7,
      "outputs": [
        {
          "output_type": "stream",
          "text": [
            "/usr/local/lib/python3.6/dist-packages/ipykernel_launcher.py:6: UserWarning: The `nb_epoch` argument in `fit` has been renamed `epochs`.\n",
            "  \n"
          ],
          "name": "stderr"
        },
        {
          "output_type": "stream",
          "text": [
            "Train on 514 samples, validate on 254 samples\n",
            "Epoch 1/150\n",
            "514/514 [==============================] - 0s 433us/step - loss: 0.6800 - accuracy: 0.6401 - val_loss: 0.6588 - val_accuracy: 0.6732\n",
            "Epoch 2/150\n",
            "514/514 [==============================] - 0s 153us/step - loss: 0.6688 - accuracy: 0.6401 - val_loss: 0.6535 - val_accuracy: 0.6732\n",
            "Epoch 3/150\n",
            "514/514 [==============================] - 0s 166us/step - loss: 0.6614 - accuracy: 0.6401 - val_loss: 0.6510 - val_accuracy: 0.6732\n",
            "Epoch 4/150\n",
            "514/514 [==============================] - 0s 155us/step - loss: 0.6515 - accuracy: 0.6420 - val_loss: 0.6436 - val_accuracy: 0.6811\n",
            "Epoch 5/150\n",
            "514/514 [==============================] - 0s 162us/step - loss: 0.6390 - accuracy: 0.6576 - val_loss: 0.6308 - val_accuracy: 0.6614\n",
            "Epoch 6/150\n",
            "514/514 [==============================] - 0s 156us/step - loss: 0.6309 - accuracy: 0.6479 - val_loss: 0.6173 - val_accuracy: 0.6850\n",
            "Epoch 7/150\n",
            "514/514 [==============================] - 0s 174us/step - loss: 0.6180 - accuracy: 0.6673 - val_loss: 0.6113 - val_accuracy: 0.7126\n",
            "Epoch 8/150\n",
            "514/514 [==============================] - 0s 166us/step - loss: 0.6139 - accuracy: 0.6634 - val_loss: 0.6048 - val_accuracy: 0.7126\n",
            "Epoch 9/150\n",
            "514/514 [==============================] - 0s 160us/step - loss: 0.6031 - accuracy: 0.6673 - val_loss: 0.6014 - val_accuracy: 0.7126\n",
            "Epoch 10/150\n",
            "514/514 [==============================] - 0s 161us/step - loss: 0.5987 - accuracy: 0.6946 - val_loss: 0.5956 - val_accuracy: 0.6614\n",
            "Epoch 11/150\n",
            "514/514 [==============================] - 0s 175us/step - loss: 0.5954 - accuracy: 0.6868 - val_loss: 0.6036 - val_accuracy: 0.7008\n",
            "Epoch 12/150\n",
            "514/514 [==============================] - 0s 154us/step - loss: 0.5984 - accuracy: 0.6790 - val_loss: 0.5900 - val_accuracy: 0.7008\n",
            "Epoch 13/150\n",
            "514/514 [==============================] - 0s 158us/step - loss: 0.5980 - accuracy: 0.6809 - val_loss: 0.5894 - val_accuracy: 0.6732\n",
            "Epoch 14/150\n",
            "514/514 [==============================] - 0s 155us/step - loss: 0.5875 - accuracy: 0.6984 - val_loss: 0.5863 - val_accuracy: 0.7047\n",
            "Epoch 15/150\n",
            "514/514 [==============================] - 0s 153us/step - loss: 0.5891 - accuracy: 0.6926 - val_loss: 0.5851 - val_accuracy: 0.6614\n",
            "Epoch 16/150\n",
            "514/514 [==============================] - 0s 157us/step - loss: 0.5951 - accuracy: 0.6751 - val_loss: 0.5819 - val_accuracy: 0.7047\n",
            "Epoch 17/150\n",
            "514/514 [==============================] - 0s 154us/step - loss: 0.5869 - accuracy: 0.6907 - val_loss: 0.5804 - val_accuracy: 0.7047\n",
            "Epoch 18/150\n",
            "514/514 [==============================] - 0s 176us/step - loss: 0.5816 - accuracy: 0.7004 - val_loss: 0.5770 - val_accuracy: 0.7047\n",
            "Epoch 19/150\n",
            "514/514 [==============================] - 0s 173us/step - loss: 0.5836 - accuracy: 0.7101 - val_loss: 0.5769 - val_accuracy: 0.7126\n",
            "Epoch 20/150\n",
            "514/514 [==============================] - 0s 161us/step - loss: 0.5822 - accuracy: 0.7218 - val_loss: 0.5787 - val_accuracy: 0.6969\n",
            "Epoch 21/150\n",
            "514/514 [==============================] - 0s 166us/step - loss: 0.5823 - accuracy: 0.7082 - val_loss: 0.5793 - val_accuracy: 0.6890\n",
            "Epoch 22/150\n",
            "514/514 [==============================] - 0s 169us/step - loss: 0.5760 - accuracy: 0.7335 - val_loss: 0.5816 - val_accuracy: 0.6890\n",
            "Epoch 23/150\n",
            "514/514 [==============================] - 0s 176us/step - loss: 0.5759 - accuracy: 0.7101 - val_loss: 0.5756 - val_accuracy: 0.6890\n",
            "Epoch 24/150\n",
            "514/514 [==============================] - 0s 160us/step - loss: 0.5637 - accuracy: 0.7374 - val_loss: 0.5808 - val_accuracy: 0.6890\n",
            "Epoch 25/150\n",
            "514/514 [==============================] - 0s 172us/step - loss: 0.5751 - accuracy: 0.7140 - val_loss: 0.5697 - val_accuracy: 0.7047\n",
            "Epoch 26/150\n",
            "514/514 [==============================] - 0s 161us/step - loss: 0.5686 - accuracy: 0.7374 - val_loss: 0.5719 - val_accuracy: 0.7087\n",
            "Epoch 27/150\n",
            "514/514 [==============================] - 0s 160us/step - loss: 0.5687 - accuracy: 0.7296 - val_loss: 0.5680 - val_accuracy: 0.6772\n",
            "Epoch 28/150\n",
            "514/514 [==============================] - 0s 165us/step - loss: 0.5713 - accuracy: 0.7121 - val_loss: 0.6255 - val_accuracy: 0.6102\n",
            "Epoch 29/150\n",
            "514/514 [==============================] - 0s 165us/step - loss: 0.5679 - accuracy: 0.7237 - val_loss: 0.5823 - val_accuracy: 0.7087\n",
            "Epoch 30/150\n",
            "514/514 [==============================] - 0s 179us/step - loss: 0.5616 - accuracy: 0.7296 - val_loss: 0.5747 - val_accuracy: 0.7126\n",
            "Epoch 31/150\n",
            "514/514 [==============================] - 0s 162us/step - loss: 0.5553 - accuracy: 0.7276 - val_loss: 0.5674 - val_accuracy: 0.7008\n",
            "Epoch 32/150\n",
            "514/514 [==============================] - 0s 157us/step - loss: 0.5660 - accuracy: 0.7198 - val_loss: 0.5978 - val_accuracy: 0.6850\n",
            "Epoch 33/150\n",
            "514/514 [==============================] - 0s 157us/step - loss: 0.5716 - accuracy: 0.7335 - val_loss: 0.5919 - val_accuracy: 0.7126\n",
            "Epoch 34/150\n",
            "514/514 [==============================] - 0s 167us/step - loss: 0.5554 - accuracy: 0.7374 - val_loss: 0.5658 - val_accuracy: 0.7126\n",
            "Epoch 35/150\n",
            "514/514 [==============================] - 0s 169us/step - loss: 0.5503 - accuracy: 0.7257 - val_loss: 0.5631 - val_accuracy: 0.6811\n",
            "Epoch 36/150\n",
            "514/514 [==============================] - 0s 169us/step - loss: 0.5596 - accuracy: 0.7315 - val_loss: 0.5758 - val_accuracy: 0.7008\n",
            "Epoch 37/150\n",
            "514/514 [==============================] - 0s 164us/step - loss: 0.5488 - accuracy: 0.7374 - val_loss: 0.5675 - val_accuracy: 0.7165\n",
            "Epoch 38/150\n",
            "514/514 [==============================] - 0s 154us/step - loss: 0.5476 - accuracy: 0.7412 - val_loss: 0.5528 - val_accuracy: 0.6969\n",
            "Epoch 39/150\n",
            "514/514 [==============================] - 0s 159us/step - loss: 0.5565 - accuracy: 0.7140 - val_loss: 0.5537 - val_accuracy: 0.7205\n",
            "Epoch 40/150\n",
            "514/514 [==============================] - 0s 175us/step - loss: 0.5529 - accuracy: 0.7393 - val_loss: 0.5546 - val_accuracy: 0.7047\n",
            "Epoch 41/150\n",
            "514/514 [==============================] - 0s 161us/step - loss: 0.5471 - accuracy: 0.7432 - val_loss: 0.5530 - val_accuracy: 0.7047\n",
            "Epoch 42/150\n",
            "514/514 [==============================] - 0s 151us/step - loss: 0.5499 - accuracy: 0.7374 - val_loss: 0.5712 - val_accuracy: 0.7283\n",
            "Epoch 43/150\n",
            "514/514 [==============================] - 0s 158us/step - loss: 0.5499 - accuracy: 0.7412 - val_loss: 0.5653 - val_accuracy: 0.7008\n",
            "Epoch 44/150\n",
            "514/514 [==============================] - 0s 166us/step - loss: 0.5474 - accuracy: 0.7354 - val_loss: 0.5563 - val_accuracy: 0.7047\n",
            "Epoch 45/150\n",
            "514/514 [==============================] - 0s 162us/step - loss: 0.5389 - accuracy: 0.7432 - val_loss: 0.5813 - val_accuracy: 0.6654\n",
            "Epoch 46/150\n",
            "514/514 [==============================] - 0s 174us/step - loss: 0.5508 - accuracy: 0.7257 - val_loss: 0.5657 - val_accuracy: 0.7165\n",
            "Epoch 47/150\n",
            "514/514 [==============================] - 0s 155us/step - loss: 0.5433 - accuracy: 0.7335 - val_loss: 0.5518 - val_accuracy: 0.7323\n",
            "Epoch 48/150\n",
            "514/514 [==============================] - 0s 166us/step - loss: 0.5460 - accuracy: 0.7296 - val_loss: 0.5506 - val_accuracy: 0.7323\n",
            "Epoch 49/150\n",
            "514/514 [==============================] - 0s 160us/step - loss: 0.5425 - accuracy: 0.7432 - val_loss: 0.5499 - val_accuracy: 0.6969\n",
            "Epoch 50/150\n",
            "514/514 [==============================] - 0s 158us/step - loss: 0.5413 - accuracy: 0.7451 - val_loss: 0.5723 - val_accuracy: 0.6890\n",
            "Epoch 51/150\n",
            "514/514 [==============================] - 0s 163us/step - loss: 0.5358 - accuracy: 0.7510 - val_loss: 0.5452 - val_accuracy: 0.7323\n",
            "Epoch 52/150\n",
            "514/514 [==============================] - 0s 170us/step - loss: 0.5413 - accuracy: 0.7335 - val_loss: 0.5573 - val_accuracy: 0.7126\n",
            "Epoch 53/150\n",
            "514/514 [==============================] - 0s 166us/step - loss: 0.5351 - accuracy: 0.7490 - val_loss: 0.5496 - val_accuracy: 0.7205\n",
            "Epoch 54/150\n",
            "514/514 [==============================] - 0s 161us/step - loss: 0.5371 - accuracy: 0.7393 - val_loss: 0.5484 - val_accuracy: 0.7323\n",
            "Epoch 55/150\n",
            "514/514 [==============================] - 0s 164us/step - loss: 0.5322 - accuracy: 0.7393 - val_loss: 0.5524 - val_accuracy: 0.7323\n",
            "Epoch 56/150\n",
            "514/514 [==============================] - 0s 165us/step - loss: 0.5408 - accuracy: 0.7257 - val_loss: 0.5590 - val_accuracy: 0.7008\n",
            "Epoch 57/150\n",
            "514/514 [==============================] - 0s 152us/step - loss: 0.5385 - accuracy: 0.7451 - val_loss: 0.5653 - val_accuracy: 0.7205\n",
            "Epoch 58/150\n",
            "514/514 [==============================] - 0s 166us/step - loss: 0.5328 - accuracy: 0.7335 - val_loss: 0.5638 - val_accuracy: 0.6929\n",
            "Epoch 59/150\n",
            "514/514 [==============================] - 0s 167us/step - loss: 0.5398 - accuracy: 0.7393 - val_loss: 0.5458 - val_accuracy: 0.7244\n",
            "Epoch 60/150\n",
            "514/514 [==============================] - 0s 155us/step - loss: 0.5353 - accuracy: 0.7354 - val_loss: 0.5474 - val_accuracy: 0.7283\n",
            "Epoch 61/150\n",
            "514/514 [==============================] - 0s 157us/step - loss: 0.5411 - accuracy: 0.7315 - val_loss: 0.5509 - val_accuracy: 0.7362\n",
            "Epoch 62/150\n",
            "514/514 [==============================] - 0s 165us/step - loss: 0.5364 - accuracy: 0.7374 - val_loss: 0.5566 - val_accuracy: 0.7362\n",
            "Epoch 63/150\n",
            "514/514 [==============================] - 0s 182us/step - loss: 0.5292 - accuracy: 0.7432 - val_loss: 0.5463 - val_accuracy: 0.7323\n",
            "Epoch 64/150\n",
            "514/514 [==============================] - 0s 160us/step - loss: 0.5319 - accuracy: 0.7393 - val_loss: 0.5471 - val_accuracy: 0.7441\n",
            "Epoch 65/150\n",
            "514/514 [==============================] - 0s 151us/step - loss: 0.5350 - accuracy: 0.7374 - val_loss: 0.5570 - val_accuracy: 0.7126\n",
            "Epoch 66/150\n",
            "514/514 [==============================] - 0s 162us/step - loss: 0.5387 - accuracy: 0.7335 - val_loss: 0.5331 - val_accuracy: 0.7598\n",
            "Epoch 67/150\n",
            "514/514 [==============================] - 0s 150us/step - loss: 0.5268 - accuracy: 0.7412 - val_loss: 0.5529 - val_accuracy: 0.7441\n",
            "Epoch 68/150\n",
            "514/514 [==============================] - 0s 160us/step - loss: 0.5348 - accuracy: 0.7335 - val_loss: 0.5612 - val_accuracy: 0.7441\n",
            "Epoch 69/150\n",
            "514/514 [==============================] - 0s 160us/step - loss: 0.5303 - accuracy: 0.7354 - val_loss: 0.5461 - val_accuracy: 0.7362\n",
            "Epoch 70/150\n",
            "514/514 [==============================] - 0s 176us/step - loss: 0.5345 - accuracy: 0.7471 - val_loss: 0.5483 - val_accuracy: 0.7283\n",
            "Epoch 71/150\n",
            "514/514 [==============================] - 0s 158us/step - loss: 0.5342 - accuracy: 0.7451 - val_loss: 0.5468 - val_accuracy: 0.7402\n",
            "Epoch 72/150\n",
            "514/514 [==============================] - 0s 156us/step - loss: 0.5276 - accuracy: 0.7510 - val_loss: 0.5291 - val_accuracy: 0.7756\n",
            "Epoch 73/150\n",
            "514/514 [==============================] - 0s 160us/step - loss: 0.5352 - accuracy: 0.7237 - val_loss: 0.5324 - val_accuracy: 0.7559\n",
            "Epoch 74/150\n",
            "514/514 [==============================] - 0s 162us/step - loss: 0.5255 - accuracy: 0.7471 - val_loss: 0.5419 - val_accuracy: 0.7402\n",
            "Epoch 75/150\n",
            "514/514 [==============================] - 0s 157us/step - loss: 0.5282 - accuracy: 0.7412 - val_loss: 0.5375 - val_accuracy: 0.7559\n",
            "Epoch 76/150\n",
            "514/514 [==============================] - 0s 163us/step - loss: 0.5240 - accuracy: 0.7412 - val_loss: 0.5311 - val_accuracy: 0.7362\n",
            "Epoch 77/150\n",
            "514/514 [==============================] - 0s 173us/step - loss: 0.5250 - accuracy: 0.7510 - val_loss: 0.5344 - val_accuracy: 0.7559\n",
            "Epoch 78/150\n",
            "514/514 [==============================] - 0s 163us/step - loss: 0.5242 - accuracy: 0.7490 - val_loss: 0.5294 - val_accuracy: 0.7598\n",
            "Epoch 79/150\n",
            "514/514 [==============================] - 0s 160us/step - loss: 0.5328 - accuracy: 0.7549 - val_loss: 0.5453 - val_accuracy: 0.7441\n",
            "Epoch 80/150\n",
            "514/514 [==============================] - 0s 157us/step - loss: 0.5262 - accuracy: 0.7412 - val_loss: 0.5316 - val_accuracy: 0.7520\n",
            "Epoch 81/150\n",
            "514/514 [==============================] - 0s 163us/step - loss: 0.5325 - accuracy: 0.7451 - val_loss: 0.5290 - val_accuracy: 0.7638\n",
            "Epoch 82/150\n",
            "514/514 [==============================] - 0s 168us/step - loss: 0.5252 - accuracy: 0.7296 - val_loss: 0.5285 - val_accuracy: 0.7598\n",
            "Epoch 83/150\n",
            "514/514 [==============================] - 0s 161us/step - loss: 0.5197 - accuracy: 0.7296 - val_loss: 0.5336 - val_accuracy: 0.7283\n",
            "Epoch 84/150\n",
            "514/514 [==============================] - 0s 169us/step - loss: 0.5272 - accuracy: 0.7451 - val_loss: 0.5286 - val_accuracy: 0.7638\n",
            "Epoch 85/150\n",
            "514/514 [==============================] - 0s 156us/step - loss: 0.5233 - accuracy: 0.7490 - val_loss: 0.5345 - val_accuracy: 0.7362\n",
            "Epoch 86/150\n",
            "514/514 [==============================] - 0s 173us/step - loss: 0.5210 - accuracy: 0.7393 - val_loss: 0.5311 - val_accuracy: 0.7638\n",
            "Epoch 87/150\n",
            "514/514 [==============================] - 0s 160us/step - loss: 0.5179 - accuracy: 0.7471 - val_loss: 0.5250 - val_accuracy: 0.7520\n",
            "Epoch 88/150\n",
            "514/514 [==============================] - 0s 161us/step - loss: 0.5185 - accuracy: 0.7529 - val_loss: 0.5323 - val_accuracy: 0.7480\n",
            "Epoch 89/150\n",
            "514/514 [==============================] - 0s 157us/step - loss: 0.5190 - accuracy: 0.7432 - val_loss: 0.5287 - val_accuracy: 0.7559\n",
            "Epoch 90/150\n",
            "514/514 [==============================] - 0s 207us/step - loss: 0.5207 - accuracy: 0.7393 - val_loss: 0.5353 - val_accuracy: 0.7283\n",
            "Epoch 91/150\n",
            "514/514 [==============================] - 0s 164us/step - loss: 0.5236 - accuracy: 0.7315 - val_loss: 0.5306 - val_accuracy: 0.7480\n",
            "Epoch 92/150\n",
            "514/514 [==============================] - 0s 158us/step - loss: 0.5266 - accuracy: 0.7374 - val_loss: 0.5212 - val_accuracy: 0.7559\n",
            "Epoch 93/150\n",
            "514/514 [==============================] - 0s 162us/step - loss: 0.5177 - accuracy: 0.7529 - val_loss: 0.5259 - val_accuracy: 0.7559\n",
            "Epoch 94/150\n",
            "514/514 [==============================] - 0s 175us/step - loss: 0.5232 - accuracy: 0.7335 - val_loss: 0.5208 - val_accuracy: 0.7717\n",
            "Epoch 95/150\n",
            "514/514 [==============================] - 0s 158us/step - loss: 0.5217 - accuracy: 0.7607 - val_loss: 0.5436 - val_accuracy: 0.7283\n",
            "Epoch 96/150\n",
            "514/514 [==============================] - 0s 157us/step - loss: 0.5234 - accuracy: 0.7393 - val_loss: 0.5252 - val_accuracy: 0.7559\n",
            "Epoch 97/150\n",
            "514/514 [==============================] - 0s 173us/step - loss: 0.5190 - accuracy: 0.7432 - val_loss: 0.5186 - val_accuracy: 0.7480\n",
            "Epoch 98/150\n",
            "514/514 [==============================] - 0s 167us/step - loss: 0.5254 - accuracy: 0.7374 - val_loss: 0.5257 - val_accuracy: 0.7441\n",
            "Epoch 99/150\n",
            "514/514 [==============================] - 0s 206us/step - loss: 0.5262 - accuracy: 0.7393 - val_loss: 0.5313 - val_accuracy: 0.7480\n",
            "Epoch 100/150\n",
            "514/514 [==============================] - 0s 165us/step - loss: 0.5199 - accuracy: 0.7412 - val_loss: 0.5146 - val_accuracy: 0.7795\n",
            "Epoch 101/150\n",
            "514/514 [==============================] - 0s 158us/step - loss: 0.5168 - accuracy: 0.7510 - val_loss: 0.5206 - val_accuracy: 0.7441\n",
            "Epoch 102/150\n",
            "514/514 [==============================] - 0s 157us/step - loss: 0.5136 - accuracy: 0.7549 - val_loss: 0.5134 - val_accuracy: 0.7835\n",
            "Epoch 103/150\n",
            "514/514 [==============================] - 0s 164us/step - loss: 0.5207 - accuracy: 0.7529 - val_loss: 0.5298 - val_accuracy: 0.7441\n",
            "Epoch 104/150\n",
            "514/514 [==============================] - 0s 167us/step - loss: 0.5161 - accuracy: 0.7549 - val_loss: 0.5101 - val_accuracy: 0.7913\n",
            "Epoch 105/150\n",
            "514/514 [==============================] - 0s 196us/step - loss: 0.5131 - accuracy: 0.7529 - val_loss: 0.5163 - val_accuracy: 0.7717\n",
            "Epoch 106/150\n",
            "514/514 [==============================] - 0s 160us/step - loss: 0.5172 - accuracy: 0.7432 - val_loss: 0.5163 - val_accuracy: 0.7480\n",
            "Epoch 107/150\n",
            "514/514 [==============================] - 0s 159us/step - loss: 0.5159 - accuracy: 0.7393 - val_loss: 0.5322 - val_accuracy: 0.7441\n",
            "Epoch 108/150\n",
            "514/514 [==============================] - 0s 164us/step - loss: 0.5248 - accuracy: 0.7646 - val_loss: 0.5162 - val_accuracy: 0.7638\n",
            "Epoch 109/150\n",
            "514/514 [==============================] - 0s 163us/step - loss: 0.5158 - accuracy: 0.7646 - val_loss: 0.5101 - val_accuracy: 0.7835\n",
            "Epoch 110/150\n",
            "514/514 [==============================] - 0s 165us/step - loss: 0.5093 - accuracy: 0.7568 - val_loss: 0.5518 - val_accuracy: 0.7323\n",
            "Epoch 111/150\n",
            "514/514 [==============================] - 0s 159us/step - loss: 0.5254 - accuracy: 0.7529 - val_loss: 0.5145 - val_accuracy: 0.7795\n",
            "Epoch 112/150\n",
            "514/514 [==============================] - 0s 175us/step - loss: 0.5066 - accuracy: 0.7588 - val_loss: 0.5153 - val_accuracy: 0.7756\n",
            "Epoch 113/150\n",
            "514/514 [==============================] - 0s 171us/step - loss: 0.5137 - accuracy: 0.7490 - val_loss: 0.5114 - val_accuracy: 0.7756\n",
            "Epoch 114/150\n",
            "514/514 [==============================] - 0s 160us/step - loss: 0.5078 - accuracy: 0.7510 - val_loss: 0.5151 - val_accuracy: 0.7835\n",
            "Epoch 115/150\n",
            "514/514 [==============================] - 0s 164us/step - loss: 0.5144 - accuracy: 0.7393 - val_loss: 0.5092 - val_accuracy: 0.7835\n",
            "Epoch 116/150\n",
            "514/514 [==============================] - 0s 168us/step - loss: 0.5105 - accuracy: 0.7588 - val_loss: 0.5078 - val_accuracy: 0.7795\n",
            "Epoch 117/150\n",
            "514/514 [==============================] - 0s 171us/step - loss: 0.5198 - accuracy: 0.7412 - val_loss: 0.5397 - val_accuracy: 0.7441\n",
            "Epoch 118/150\n",
            "514/514 [==============================] - 0s 161us/step - loss: 0.5092 - accuracy: 0.7510 - val_loss: 0.5089 - val_accuracy: 0.7913\n",
            "Epoch 119/150\n",
            "514/514 [==============================] - 0s 158us/step - loss: 0.5106 - accuracy: 0.7529 - val_loss: 0.5223 - val_accuracy: 0.7677\n",
            "Epoch 120/150\n",
            "514/514 [==============================] - 0s 166us/step - loss: 0.5060 - accuracy: 0.7451 - val_loss: 0.5173 - val_accuracy: 0.7795\n",
            "Epoch 121/150\n",
            "514/514 [==============================] - 0s 164us/step - loss: 0.5096 - accuracy: 0.7451 - val_loss: 0.5264 - val_accuracy: 0.7441\n",
            "Epoch 122/150\n",
            "514/514 [==============================] - 0s 165us/step - loss: 0.5138 - accuracy: 0.7471 - val_loss: 0.5102 - val_accuracy: 0.7874\n",
            "Epoch 123/150\n",
            "514/514 [==============================] - 0s 159us/step - loss: 0.5116 - accuracy: 0.7451 - val_loss: 0.5214 - val_accuracy: 0.7598\n",
            "Epoch 124/150\n",
            "514/514 [==============================] - 0s 176us/step - loss: 0.5086 - accuracy: 0.7588 - val_loss: 0.5146 - val_accuracy: 0.7598\n",
            "Epoch 125/150\n",
            "514/514 [==============================] - 0s 153us/step - loss: 0.5173 - accuracy: 0.7646 - val_loss: 0.5184 - val_accuracy: 0.7441\n",
            "Epoch 126/150\n",
            "514/514 [==============================] - 0s 172us/step - loss: 0.5082 - accuracy: 0.7374 - val_loss: 0.5171 - val_accuracy: 0.7480\n",
            "Epoch 127/150\n",
            "514/514 [==============================] - 0s 158us/step - loss: 0.5062 - accuracy: 0.7510 - val_loss: 0.5050 - val_accuracy: 0.7835\n",
            "Epoch 128/150\n",
            "514/514 [==============================] - 0s 162us/step - loss: 0.5009 - accuracy: 0.7763 - val_loss: 0.5160 - val_accuracy: 0.7874\n",
            "Epoch 129/150\n",
            "514/514 [==============================] - 0s 180us/step - loss: 0.5123 - accuracy: 0.7393 - val_loss: 0.5044 - val_accuracy: 0.7717\n",
            "Epoch 130/150\n",
            "514/514 [==============================] - 0s 159us/step - loss: 0.5061 - accuracy: 0.7471 - val_loss: 0.5030 - val_accuracy: 0.7992\n",
            "Epoch 131/150\n",
            "514/514 [==============================] - 0s 153us/step - loss: 0.5020 - accuracy: 0.7568 - val_loss: 0.5248 - val_accuracy: 0.7598\n",
            "Epoch 132/150\n",
            "514/514 [==============================] - 0s 173us/step - loss: 0.5081 - accuracy: 0.7451 - val_loss: 0.5008 - val_accuracy: 0.7913\n",
            "Epoch 133/150\n",
            "514/514 [==============================] - 0s 174us/step - loss: 0.5033 - accuracy: 0.7665 - val_loss: 0.5037 - val_accuracy: 0.7835\n",
            "Epoch 134/150\n",
            "514/514 [==============================] - 0s 161us/step - loss: 0.4995 - accuracy: 0.7588 - val_loss: 0.5052 - val_accuracy: 0.7598\n",
            "Epoch 135/150\n",
            "514/514 [==============================] - 0s 162us/step - loss: 0.5030 - accuracy: 0.7471 - val_loss: 0.5031 - val_accuracy: 0.7953\n",
            "Epoch 136/150\n",
            "514/514 [==============================] - 0s 184us/step - loss: 0.5044 - accuracy: 0.7510 - val_loss: 0.5007 - val_accuracy: 0.7874\n",
            "Epoch 137/150\n",
            "514/514 [==============================] - 0s 158us/step - loss: 0.5105 - accuracy: 0.7432 - val_loss: 0.5020 - val_accuracy: 0.7795\n",
            "Epoch 138/150\n",
            "514/514 [==============================] - 0s 161us/step - loss: 0.5019 - accuracy: 0.7412 - val_loss: 0.5013 - val_accuracy: 0.7756\n",
            "Epoch 139/150\n",
            "514/514 [==============================] - 0s 163us/step - loss: 0.5017 - accuracy: 0.7490 - val_loss: 0.4946 - val_accuracy: 0.7717\n",
            "Epoch 140/150\n",
            "514/514 [==============================] - 0s 179us/step - loss: 0.4958 - accuracy: 0.7432 - val_loss: 0.4970 - val_accuracy: 0.7953\n",
            "Epoch 141/150\n",
            "514/514 [==============================] - 0s 158us/step - loss: 0.5038 - accuracy: 0.7626 - val_loss: 0.4933 - val_accuracy: 0.7992\n",
            "Epoch 142/150\n",
            "514/514 [==============================] - 0s 164us/step - loss: 0.4990 - accuracy: 0.7549 - val_loss: 0.5004 - val_accuracy: 0.7677\n",
            "Epoch 143/150\n",
            "514/514 [==============================] - 0s 169us/step - loss: 0.5118 - accuracy: 0.7665 - val_loss: 0.4964 - val_accuracy: 0.7717\n",
            "Epoch 144/150\n",
            "514/514 [==============================] - 0s 164us/step - loss: 0.5105 - accuracy: 0.7471 - val_loss: 0.5010 - val_accuracy: 0.7913\n",
            "Epoch 145/150\n",
            "514/514 [==============================] - 0s 162us/step - loss: 0.5080 - accuracy: 0.7490 - val_loss: 0.4932 - val_accuracy: 0.7913\n",
            "Epoch 146/150\n",
            "514/514 [==============================] - 0s 162us/step - loss: 0.4991 - accuracy: 0.7432 - val_loss: 0.5098 - val_accuracy: 0.7756\n",
            "Epoch 147/150\n",
            "514/514 [==============================] - 0s 167us/step - loss: 0.5006 - accuracy: 0.7549 - val_loss: 0.4924 - val_accuracy: 0.7874\n",
            "Epoch 148/150\n",
            "514/514 [==============================] - 0s 162us/step - loss: 0.4998 - accuracy: 0.7549 - val_loss: 0.4970 - val_accuracy: 0.7913\n",
            "Epoch 149/150\n",
            "514/514 [==============================] - 0s 158us/step - loss: 0.4974 - accuracy: 0.7685 - val_loss: 0.4951 - val_accuracy: 0.7835\n",
            "Epoch 150/150\n",
            "514/514 [==============================] - 0s 167us/step - loss: 0.4943 - accuracy: 0.7588 - val_loss: 0.4931 - val_accuracy: 0.7835\n"
          ],
          "name": "stdout"
        }
      ]
    },
    {
      "cell_type": "markdown",
      "metadata": {
        "id": "tnTEwt-0posr",
        "colab_type": "text"
      },
      "source": [
        "# Evaluate Model\n"
      ]
    },
    {
      "cell_type": "code",
      "metadata": {
        "id": "VaSqfwJKogX5",
        "colab_type": "code",
        "outputId": "5b5eb74b-cfe7-4e80-957f-1c1d7140ece8",
        "colab": {
          "base_uri": "https://localhost:8080/",
          "height": 52
        }
      },
      "source": [
        "# evaluate the model \n",
        "scores = model.evaluate(X, Y) \n",
        "model.metrics_names[1], scores[1]*100"
      ],
      "execution_count": 8,
      "outputs": [
        {
          "output_type": "stream",
          "text": [
            "768/768 [==============================] - 0s 27us/step\n"
          ],
          "name": "stdout"
        },
        {
          "output_type": "execute_result",
          "data": {
            "text/plain": [
              "('accuracy', 76.69270634651184)"
            ]
          },
          "metadata": {
            "tags": []
          },
          "execution_count": 8
        }
      ]
    },
    {
      "cell_type": "markdown",
      "metadata": {
        "id": "J0sKVeB6qbv4",
        "colab_type": "text"
      },
      "source": [
        "#Plotting it all"
      ]
    },
    {
      "cell_type": "code",
      "metadata": {
        "id": "tDD7cSlAp9jz",
        "colab_type": "code",
        "outputId": "b4c2d6d1-9c52-4e2f-bd88-b93d80735132",
        "colab": {
          "base_uri": "https://localhost:8080/",
          "height": 72
        }
      },
      "source": [
        "import pandas as pd\n",
        "import seaborn as sns\n",
        "import matplotlib.pyplot as plt"
      ],
      "execution_count": 9,
      "outputs": [
        {
          "output_type": "stream",
          "text": [
            "/usr/local/lib/python3.6/dist-packages/statsmodels/tools/_testing.py:19: FutureWarning: pandas.util.testing is deprecated. Use the functions in the public API at pandas.testing instead.\n",
            "  import pandas.util.testing as tm\n"
          ],
          "name": "stderr"
        }
      ]
    },
    {
      "cell_type": "code",
      "metadata": {
        "id": "C05uiHXHqfOq",
        "colab_type": "code",
        "outputId": "69cca3f3-fbf4-447e-b1d2-6357909a5db9",
        "colab": {
          "base_uri": "https://localhost:8080/",
          "height": 35
        }
      },
      "source": [
        "epochs_hist.history.keys()"
      ],
      "execution_count": 10,
      "outputs": [
        {
          "output_type": "execute_result",
          "data": {
            "text/plain": [
              "dict_keys(['val_loss', 'val_accuracy', 'loss', 'accuracy'])"
            ]
          },
          "metadata": {
            "tags": []
          },
          "execution_count": 10
        }
      ]
    },
    {
      "cell_type": "code",
      "metadata": {
        "id": "OvG9trx9qooY",
        "colab_type": "code",
        "outputId": "661d6e95-db95-45a0-ab7d-3a8cd0f3634b",
        "colab": {
          "base_uri": "https://localhost:8080/",
          "height": 295
        }
      },
      "source": [
        "plt.plot(epochs_hist.history['loss'])\n",
        "plt.title('Model Loss Progress During Training')\n",
        "plt.xlabel('Epoch')\n",
        "plt.ylabel('Training and Validation Loss')\n",
        "plt.legend(['Training Loss']);"
      ],
      "execution_count": 11,
      "outputs": [
        {
          "output_type": "display_data",
          "data": {
            "image/png": "[encoded data removed]",
            "text/plain": [
              "<Figure size 432x288 with 1 Axes>"
            ]
          },
          "metadata": {
            "tags": [],
            "needs_background": "light"
          }
        }
      ]
    },
    {
      "cell_type": "code",
      "metadata": {
        "id": "u2zGaL6rL1LP",
        "colab_type": "code",
        "colab": {
          "base_uri": "https://localhost:8080/",
          "height": 295
        },
        "outputId": "7003a195-c2f2-494d-ae70-8e13d280a4ee"
      },
      "source": [
        "plt.plot(epochs_hist.history['val_loss'])\n",
        "plt.title('Model Loss Progress on the Validation set')\n",
        "plt.xlabel('Epoch')\n",
        "plt.ylabel('Training and Validation Loss')\n",
        "plt.legend(['Validation Loss']);"
      ],
      "execution_count": 13,
      "outputs": [
        {
          "output_type": "display_data",
          "data": {
            "image/png": "[encoded data removed]",
            "text/plain": [
              "<Figure size 432x288 with 1 Axes>"
            ]
          },
          "metadata": {
            "tags": [],
            "needs_background": "light"
          }
        }
      ]
    }
  ]
}