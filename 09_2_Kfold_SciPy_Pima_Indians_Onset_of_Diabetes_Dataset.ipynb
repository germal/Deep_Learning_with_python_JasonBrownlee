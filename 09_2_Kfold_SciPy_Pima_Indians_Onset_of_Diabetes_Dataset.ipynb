{
  "nbformat": 4,
  "nbformat_minor": 0,
  "metadata": {
    "colab": {
      "name": "09.2 Kfold SciPy Pima Indians Onset of Diabetes Dataset.ipynb",
      "provenance": [],
      "toc_visible": true,
      "authorship_tag": "ABX9TyOEcmPA0w0+ezJLYphMPrcA",
      "include_colab_link": true
    },
    "kernelspec": {
      "name": "python3",
      "display_name": "Python 3"
    }
  },
  "cells": [
    {
      "cell_type": "markdown",
      "metadata": {
        "id": "view-in-github",
        "colab_type": "text"
      },
      "source": [
        "<a href=\"https://colab.research.google.com/github/marcelounb/Deep_Learning_with_python_JasonBrownlee/blob/master/09_2_Kfold_SciPy_Pima_Indians_Onset_of_Diabetes_Dataset.ipynb\" target=\"_parent\"><img src=\"https://colab.research.google.com/assets/colab-badge.svg\" alt=\"Open In Colab\"/></a>"
      ]
    },
    {
      "cell_type": "markdown",
      "metadata": {
        "id": "nvKOhxrOhpmC",
        "colab_type": "text"
      },
      "source": [
        "# 9.2 Evaluate Models with Cross Validation\n",
        " patient medical record data for Pima Indians and whether they had an onset of diabetes within ﬁve years. It is a binary classiﬁcation problem (onset of diabetes as 1 or not as 0). The input variables that describe each patient are numerical and have varying scales. Below lists the eight attributes for the dataset:\n",
        "1. Number of times pregnant.\n",
        "2. Plasma glucose concentration a 2 hours in an oral glucose tolerance test.\n",
        "3. Diastolic blood pressure (mm Hg).\n",
        "4. Triceps skin fold thickness (mm).\n",
        "5. 2-Hour serum insulin (mu U/ml).\n",
        "6. Body mass index.\n",
        "7. Diabetes pedigree function.\n",
        "8. Age (years).\n",
        "9. Class, onset of diabetes within ﬁve years.\n",
        "\n",
        "Given that all attributes are numerical makes it easy to use directly with neural networks that expect numerical inputs and output values, and ideal for our ﬁrst neural network in Keras. This dataset will also be used for a number of additional lessons coming up in this book, so keep it handy. below is a sample of the dataset showing the ﬁrst 5 rows of the 768 instances:\n",
        "\n",
        "6,148,72,35,0,33.6,0.627,50,1 \n",
        "\n",
        "1,85,66,29,0,26.6,0.351,31,0 \n",
        "\n",
        "8,183,64,0,0,23.3,0.672,32,1 \n",
        "\n",
        "1,89,66,23,94,28.1,0.167,21,0 \n",
        "\n",
        "0,137,40,35,168,43.1,2.288,33,1\n"
      ]
    },
    {
      "cell_type": "markdown",
      "metadata": {
        "id": "GAX8Zec9kc-K",
        "colab_type": "text"
      },
      "source": [
        "# Loading Data"
      ]
    },
    {
      "cell_type": "code",
      "metadata": {
        "id": "5CPE29t-Bfaf",
        "colab_type": "code",
        "outputId": "11339f5e-6772-438f-84bb-8fd3c21badf2",
        "colab": {
          "base_uri": "https://localhost:8080/",
          "height": 35
        }
      },
      "source": [
        "from keras.models import Sequential \n",
        "from keras.layers import Dense \n",
        "import numpy as np\n",
        "# fix random seed for reproducibility \n",
        "seed = 7 \n",
        "np.random.seed(seed)"
      ],
      "execution_count": 1,
      "outputs": [
        {
          "output_type": "stream",
          "text": [
            "Using TensorFlow backend.\n"
          ],
          "name": "stderr"
        }
      ]
    },
    {
      "cell_type": "code",
      "metadata": {
        "id": "NphmfwqhkpTq",
        "colab_type": "code",
        "colab": {}
      },
      "source": [
        "# load pima indians dataset \n",
        "dataset = np.loadtxt(\"pima-indians-diabetes.csv\", delimiter=\",\") \n",
        "# split into input (X) and output (Y) variables \n",
        "X = dataset[:,0:8] \n",
        "Y = dataset[:,8]"
      ],
      "execution_count": 0,
      "outputs": []
    },
    {
      "cell_type": "code",
      "metadata": {
        "id": "3H39mtChk8Dv",
        "colab_type": "code",
        "outputId": "453dc389-66f3-40b5-9cba-c22e4f9b575b",
        "colab": {
          "base_uri": "https://localhost:8080/",
          "height": 35
        }
      },
      "source": [
        "X.shape"
      ],
      "execution_count": 3,
      "outputs": [
        {
          "output_type": "execute_result",
          "data": {
            "text/plain": [
              "(768, 8)"
            ]
          },
          "metadata": {
            "tags": []
          },
          "execution_count": 3
        }
      ]
    },
    {
      "cell_type": "code",
      "metadata": {
        "id": "Tc6Nxpalk_S7",
        "colab_type": "code",
        "outputId": "c41cde1b-b105-47d6-e0b0-2b714729a40e",
        "colab": {
          "base_uri": "https://localhost:8080/",
          "height": 35
        }
      },
      "source": [
        "Y.shape"
      ],
      "execution_count": 4,
      "outputs": [
        {
          "output_type": "execute_result",
          "data": {
            "text/plain": [
              "(768,)"
            ]
          },
          "metadata": {
            "tags": []
          },
          "execution_count": 4
        }
      ]
    },
    {
      "cell_type": "code",
      "metadata": {
        "id": "uUmTb6x6SK4-",
        "colab_type": "code",
        "colab": {}
      },
      "source": [
        "from keras.wrappers.scikit_learn import KerasClassifier\n",
        "from sklearn.model_selection import StratifiedKFold\n",
        "from sklearn.model_selection import cross_val_score"
      ],
      "execution_count": 0,
      "outputs": []
    },
    {
      "cell_type": "code",
      "metadata": {
        "id": "94cvG06UQZDB",
        "colab_type": "code",
        "colab": {}
      },
      "source": [
        "# Function to create model, required for KerasClassifier\n",
        "def create_model():\n",
        "  # create model \n",
        "  model = Sequential() \n",
        "  model.add(Dense(12, input_dim=8, kernel_initializer= 'uniform' , activation= 'relu' )) \n",
        "  model.add(Dense(8, kernel_initializer= 'uniform' , activation= 'relu' )) \n",
        "  model.add(Dense(1, kernel_initializer= 'uniform' , activation= 'sigmoid' ))\n",
        "  # Compile model \n",
        "  model.compile(loss= 'binary_crossentropy' , optimizer= 'adam' , metrics=[ 'accuracy' ])\n",
        "  return model"
      ],
      "execution_count": 0,
      "outputs": []
    },
    {
      "cell_type": "code",
      "metadata": {
        "id": "-9raqyW4R8rS",
        "colab_type": "code",
        "colab": {}
      },
      "source": [
        "# create model \n",
        "model = KerasClassifier(build_fn=create_model, nb_epoch=150, batch_size=10, verbose=0) "
      ],
      "execution_count": 0,
      "outputs": []
    },
    {
      "cell_type": "code",
      "metadata": {
        "id": "pFnm5CDtSn8l",
        "colab_type": "code",
        "colab": {
          "base_uri": "https://localhost:8080/",
          "height": 35
        },
        "outputId": "77ae1cdb-359d-46fa-f829-5e1c83790dab"
      },
      "source": [
        "# evaluate using 10-fold cross validation \n",
        "kfold = StratifiedKFold(n_splits=10, shuffle=True, random_state=seed) \n",
        "results = cross_val_score(model, X, Y, cv=kfold) \n",
        "print(results.mean())\n"
      ],
      "execution_count": 8,
      "outputs": [
        {
          "output_type": "stream",
          "text": [
            "0.6510594606399536\n"
          ],
          "name": "stdout"
        }
      ]
    },
    {
      "cell_type": "markdown",
      "metadata": {
        "id": "D9nSg74qTYAX",
        "colab_type": "text"
      },
      "source": [
        "Running the example displays the skill of the model for each epoch. A total of 10 models are created and evaluated and the ﬁnal average accuracy is displayed.\n",
        "\n",
        "You can see that when the Keras model is wrapped that estimating model accuracy can be greatly streamlined, compared to the manual enumeration of cross validation folds performed in the previous lesson.\n"
      ]
    }
  ]
}