{
  "nbformat": 4,
  "nbformat_minor": 0,
  "metadata": {
    "colab": {
      "name": "17.3 Time-Based Learning Rate Schedule - Ionosphere Classiﬁcation Dataset.ipynb",
      "provenance": [],
      "authorship_tag": "ABX9TyOdL869VMJXcEOE2kf0retM",
      "include_colab_link": true
    },
    "kernelspec": {
      "name": "python3",
      "display_name": "Python 3"
    }
  },
  "cells": [
    {
      "cell_type": "markdown",
      "metadata": {
        "id": "view-in-github",
        "colab_type": "text"
      },
      "source": [
        "<a href=\"https://colab.research.google.com/github/marcelounb/Deep_Learning_with_python_JasonBrownlee/blob/master/17_3_Time_Based_Learning_Rate_Schedule_Ionosphere_Classi%EF%AC%81cation_Dataset.ipynb\" target=\"_parent\"><img src=\"https://colab.research.google.com/assets/colab-badge.svg\" alt=\"Open In Colab\"/></a>"
      ]
    },
    {
      "cell_type": "markdown",
      "metadata": {
        "id": "PZvKOpwF4aeP",
        "colab_type": "text"
      },
      "source": [
        "# Ionosphere Classiﬁcation Dataset\n",
        "The Ionosphere binary classiﬁcation problem is used as a demonstration in this lesson. The dataset describes radar returns where the target was free electrons in the ionosphere. It is a binary classiﬁcation problem where positive cases (g for good) show evidence of some type of structure in the ionosphere and negative cases (b for bad) do not. \n",
        "\n",
        "It is a good dataset for practicing with neural networks because all of the inputs are small numerical values of the same scale. There are 34 attributes and 351 observations. State-of-the-art results on this dataset achieve an accuracy of approximately 94% to 98% accuracy using 10-fold cross validation.\n",
        "\n",
        " The dataset is available within the code bundle provided with this book. Alternatively, you can download it directly from the UCI Machine Learning repository. Place the data ﬁle in your working directory with the ﬁlename ionosphere.csv. You can learn more about the ionosphere dataset on the UCI Machine Learning Repository website.\n"
      ]
    },
    {
      "cell_type": "markdown",
      "metadata": {
        "id": "s7js5mry5zTS",
        "colab_type": "text"
      },
      "source": [
        "# Time-Based Learning Rate Schedule\n",
        "Keras has a time-based learning rate schedule built in. The stochastic gradient descent optimization algorithm implementation in the SGD class has an argument called decay. This argument is used in the time-based learning rate decay schedule equation as follows:\n",
        "\n",
        "                 LearningRate = LearningRate X (1 / (1+decay X epoch))\n",
        "\n",
        "When the decay argument is zero (the default), this has no effect on the learning rate (ex. 0.1).\n",
        "\n",
        "LearningRate = 0.1 * 1/(1 + 0.0 * 1) \n",
        "\n",
        "LearningRate = 0.1\n"
      ]
    },
    {
      "cell_type": "markdown",
      "metadata": {
        "id": "5IabyMxpAhat",
        "colab_type": "text"
      },
      "source": [
        "When the decay argument is speciﬁed, it will decrease the learning rate from the previous epoch by the given ﬁxed amount. For example, if we use the initial learning rate value of 0.1 and the decay of 0.001, the ﬁrst 5 epochs will adapt the learning rate as follows:\n",
        "\n",
        "Epoch Learning Rate \n",
        "\n",
        "1     -  0.1\n",
        "\n",
        "2      - 0.0999000999 \n",
        "\n",
        "3     -  0.0997006985 \n",
        "\n",
        "4    -   0.09940249103 \n",
        "\n",
        "5   -    0.09900646517\n"
      ]
    },
    {
      "cell_type": "markdown",
      "metadata": {
        "id": "tLZY2SYhLIXI",
        "colab_type": "text"
      },
      "source": [
        "The example below demonstrates using the time-based learning rate adaptation schedule in Keras. \n",
        "\n",
        "A small neural network model is constructed with a single hidden layer with 34 neurons and using the rectiﬁer activation function. The output layer has a single neuron and uses the sigmoid activation function in order to output probability-like values. \n",
        "\n",
        "The learning rate for stochastic gradient descent has been set to a higher value of 0.1. The model is trained for 50 epochs and the decay argument has been set to 0.002, calculated as 0.1/50 . \n",
        "\n",
        "Additionally, it can be a good idea to use momentum when using an adaptive learning rate. In this case we use a momentum value of 0.8. The complete example is listed below.\n"
      ]
    },
    {
      "cell_type": "code",
      "metadata": {
        "id": "CssBOMBFCQJS",
        "colab_type": "code",
        "colab": {}
      },
      "source": [
        "# Time Based Learning Rate Decay\n",
        "import pandas as pd \n",
        "import numpy as np\n",
        "from keras.models import Sequential \n",
        "from keras.layers import Dense \n",
        "from keras.optimizers import SGD \n",
        "from sklearn.preprocessing import LabelEncoder\n",
        "import matplotlib.pyplot as plt "
      ],
      "execution_count": 23,
      "outputs": []
    },
    {
      "cell_type": "code",
      "metadata": {
        "id": "wYBQXBMfQUBl",
        "colab_type": "code",
        "colab": {}
      },
      "source": [
        "# load dataset \n",
        "dataframe = pd.read_csv(\"ionosphere.csv\") \n",
        "dataset = dataframe.values \n",
        "# split into input (X) and output (Y) variables \n",
        "X = dataset[:,0:34].astype(float) \n",
        "Y = dataset[:,34] "
      ],
      "execution_count": 4,
      "outputs": []
    },
    {
      "cell_type": "code",
      "metadata": {
        "id": "JUDwbr9oQevv",
        "colab_type": "code",
        "colab": {
          "base_uri": "https://localhost:8080/",
          "height": 124
        },
        "outputId": "3647d164-0dec-4d4b-8c5c-05b06cf75581"
      },
      "source": [
        "X[0], Y[0]"
      ],
      "execution_count": 7,
      "outputs": [
        {
          "output_type": "execute_result",
          "data": {
            "text/plain": [
              "(array([ 1.     ,  0.     ,  0.99539, -0.05889,  0.85243,  0.02306,\n",
              "         0.83398, -0.37708,  1.     ,  0.0376 ,  0.85243, -0.17755,\n",
              "         0.59755, -0.44945,  0.60536, -0.38223,  0.84356, -0.38542,\n",
              "         0.58212, -0.32192,  0.56971, -0.29674,  0.36946, -0.47357,\n",
              "         0.56811, -0.51171,  0.41078, -0.46168,  0.21266, -0.3409 ,\n",
              "         0.42267, -0.54487,  0.18641, -0.453  ]), 'g')"
            ]
          },
          "metadata": {
            "tags": []
          },
          "execution_count": 7
        }
      ]
    },
    {
      "cell_type": "code",
      "metadata": {
        "id": "tBRBtEnZRQEn",
        "colab_type": "code",
        "colab": {
          "base_uri": "https://localhost:8080/",
          "height": 35
        },
        "outputId": "8eeb2943-fcfe-4af5-f702-febd410fe774"
      },
      "source": [
        "X.shape, Y.shape"
      ],
      "execution_count": 11,
      "outputs": [
        {
          "output_type": "execute_result",
          "data": {
            "text/plain": [
              "((351, 34), (351,))"
            ]
          },
          "metadata": {
            "tags": []
          },
          "execution_count": 11
        }
      ]
    },
    {
      "cell_type": "code",
      "metadata": {
        "id": "sfxKZvRqQ4MB",
        "colab_type": "code",
        "colab": {}
      },
      "source": [
        "# fix random seed for reproducibility \n",
        "seed = 7 \n",
        "np.random.seed(seed)"
      ],
      "execution_count": 8,
      "outputs": []
    },
    {
      "cell_type": "code",
      "metadata": {
        "id": "5Pc5EUMvQ968",
        "colab_type": "code",
        "colab": {}
      },
      "source": [
        "# encode class values as integers \n",
        "encoder = LabelEncoder() \n",
        "encoder.fit(Y) \n",
        "Y = encoder.transform(Y) "
      ],
      "execution_count": 12,
      "outputs": []
    },
    {
      "cell_type": "code",
      "metadata": {
        "id": "921b1sdVRccx",
        "colab_type": "code",
        "colab": {
          "base_uri": "https://localhost:8080/",
          "height": 301
        },
        "outputId": "caa6d49c-a001-411b-fcef-16fc149cad37"
      },
      "source": [
        "Y"
      ],
      "execution_count": 16,
      "outputs": [
        {
          "output_type": "execute_result",
          "data": {
            "text/plain": [
              "array([1, 0, 1, 0, 1, 0, 1, 0, 1, 0, 1, 0, 1, 0, 1, 0, 1, 0, 1, 0, 1, 0,\n",
              "       1, 0, 1, 0, 1, 0, 1, 0, 1, 0, 1, 0, 1, 0, 1, 0, 1, 0, 1, 0, 1, 0,\n",
              "       1, 0, 1, 0, 1, 0, 1, 0, 1, 0, 1, 0, 1, 0, 1, 0, 1, 0, 1, 0, 1, 0,\n",
              "       1, 0, 1, 0, 1, 0, 1, 0, 1, 0, 1, 0, 1, 0, 1, 0, 1, 0, 1, 0, 1, 0,\n",
              "       1, 0, 1, 0, 1, 0, 1, 0, 1, 1, 0, 1, 0, 1, 0, 1, 0, 1, 0, 1, 0, 1,\n",
              "       0, 1, 0, 1, 0, 1, 0, 1, 0, 1, 0, 1, 0, 1, 0, 1, 0, 1, 0, 1, 0, 1,\n",
              "       0, 1, 0, 1, 0, 1, 0, 1, 0, 1, 0, 1, 0, 1, 0, 1, 0, 1, 0, 1, 0, 1,\n",
              "       0, 1, 0, 1, 0, 1, 0, 1, 0, 1, 0, 1, 0, 1, 0, 1, 0, 1, 0, 1, 0, 1,\n",
              "       0, 1, 0, 1, 0, 1, 0, 1, 0, 1, 0, 1, 0, 1, 0, 1, 0, 1, 0, 1, 0, 1,\n",
              "       0, 1, 0, 1, 0, 1, 0, 1, 0, 1, 0, 1, 0, 1, 0, 1, 0, 1, 0, 1, 0, 1,\n",
              "       0, 1, 0, 1, 0, 1, 0, 1, 0, 1, 0, 1, 0, 1, 0, 1, 0, 1, 0, 1, 0, 1,\n",
              "       0, 1, 0, 1, 0, 1, 0, 1, 0, 1, 0, 1, 1, 1, 1, 1, 1, 1, 1, 1, 1, 1,\n",
              "       1, 1, 1, 1, 1, 1, 1, 1, 1, 1, 1, 1, 1, 1, 1, 1, 1, 1, 1, 1, 1, 1,\n",
              "       1, 1, 1, 1, 1, 1, 1, 1, 1, 1, 1, 1, 1, 1, 1, 1, 1, 1, 1, 1, 1, 1,\n",
              "       1, 1, 1, 1, 1, 1, 1, 1, 1, 1, 1, 1, 1, 1, 1, 1, 1, 1, 1, 1, 1, 1,\n",
              "       1, 1, 1, 1, 1, 1, 1, 1, 1, 1, 1, 1, 1, 1, 1, 1, 1, 1, 1, 1, 1])"
            ]
          },
          "metadata": {
            "tags": []
          },
          "execution_count": 16
        }
      ]
    },
    {
      "cell_type": "code",
      "metadata": {
        "id": "V3EgsPB4Rj7u",
        "colab_type": "code",
        "colab": {}
      },
      "source": [
        "# create model \n",
        "model = Sequential() \n",
        "model.add(Dense(34, input_dim=34, kernel_initializer= 'normal' , activation= 'relu' )) \n",
        "model.add(Dense(1, kernel_initializer= 'normal' , activation= 'sigmoid' ))"
      ],
      "execution_count": 17,
      "outputs": []
    },
    {
      "cell_type": "code",
      "metadata": {
        "id": "rBafmkksTlJA",
        "colab_type": "code",
        "colab": {}
      },
      "source": [
        "# Compile model \n",
        "epochs = 50 \n",
        "learning_rate = 0.1 \n",
        "decay_rate = learning_rate / epochs \n",
        "momentum = 0.8 \n",
        "sgd = SGD(lr=learning_rate, momentum=momentum, decay=decay_rate, nesterov=False) \n",
        "model.compile(loss= 'binary_crossentropy' , optimizer=sgd, metrics=[ 'accuracy' ])"
      ],
      "execution_count": 18,
      "outputs": []
    },
    {
      "cell_type": "code",
      "metadata": {
        "id": "Ud443mGET6Ak",
        "colab_type": "code",
        "colab": {
          "base_uri": "https://localhost:8080/",
          "height": 1000
        },
        "outputId": "c4bcea2c-1738-4930-ec4e-0d36c7869777"
      },
      "source": [
        "# Fit the model \n",
        "history = model.fit(X, Y, validation_split=0.33, epochs=epochs, batch_size=28, verbose=2)"
      ],
      "execution_count": 20,
      "outputs": [
        {
          "output_type": "stream",
          "text": [
            "Train on 235 samples, validate on 116 samples\n",
            "Epoch 1/50\n",
            " - 0s - loss: 0.0586 - accuracy: 0.9830 - val_loss: 0.0834 - val_accuracy: 0.9914\n",
            "Epoch 2/50\n",
            " - 0s - loss: 0.0590 - accuracy: 0.9830 - val_loss: 0.0606 - val_accuracy: 0.9914\n",
            "Epoch 3/50\n",
            " - 0s - loss: 0.0601 - accuracy: 0.9872 - val_loss: 0.0634 - val_accuracy: 0.9828\n",
            "Epoch 4/50\n",
            " - 0s - loss: 0.0533 - accuracy: 0.9872 - val_loss: 0.0704 - val_accuracy: 0.9914\n",
            "Epoch 5/50\n",
            " - 0s - loss: 0.0518 - accuracy: 0.9872 - val_loss: 0.0731 - val_accuracy: 0.9914\n",
            "Epoch 6/50\n",
            " - 0s - loss: 0.0505 - accuracy: 0.9872 - val_loss: 0.0707 - val_accuracy: 0.9914\n",
            "Epoch 7/50\n",
            " - 0s - loss: 0.0505 - accuracy: 0.9872 - val_loss: 0.0670 - val_accuracy: 0.9914\n",
            "Epoch 8/50\n",
            " - 0s - loss: 0.0490 - accuracy: 0.9872 - val_loss: 0.0718 - val_accuracy: 0.9914\n",
            "Epoch 9/50\n",
            " - 0s - loss: 0.0489 - accuracy: 0.9872 - val_loss: 0.0662 - val_accuracy: 0.9914\n",
            "Epoch 10/50\n",
            " - 0s - loss: 0.0488 - accuracy: 0.9872 - val_loss: 0.0656 - val_accuracy: 0.9914\n",
            "Epoch 11/50\n",
            " - 0s - loss: 0.0477 - accuracy: 0.9872 - val_loss: 0.0716 - val_accuracy: 0.9914\n",
            "Epoch 12/50\n",
            " - 0s - loss: 0.0468 - accuracy: 0.9872 - val_loss: 0.0662 - val_accuracy: 0.9914\n",
            "Epoch 13/50\n",
            " - 0s - loss: 0.0465 - accuracy: 0.9915 - val_loss: 0.0674 - val_accuracy: 0.9914\n",
            "Epoch 14/50\n",
            " - 0s - loss: 0.0465 - accuracy: 0.9872 - val_loss: 0.0753 - val_accuracy: 0.9914\n",
            "Epoch 15/50\n",
            " - 0s - loss: 0.0463 - accuracy: 0.9915 - val_loss: 0.0652 - val_accuracy: 0.9914\n",
            "Epoch 16/50\n",
            " - 0s - loss: 0.0451 - accuracy: 0.9915 - val_loss: 0.0662 - val_accuracy: 0.9914\n",
            "Epoch 17/50\n",
            " - 0s - loss: 0.0452 - accuracy: 0.9915 - val_loss: 0.0677 - val_accuracy: 0.9914\n",
            "Epoch 18/50\n",
            " - 0s - loss: 0.0440 - accuracy: 0.9915 - val_loss: 0.0645 - val_accuracy: 0.9914\n",
            "Epoch 19/50\n",
            " - 0s - loss: 0.0449 - accuracy: 0.9872 - val_loss: 0.0713 - val_accuracy: 0.9914\n",
            "Epoch 20/50\n",
            " - 0s - loss: 0.0453 - accuracy: 0.9915 - val_loss: 0.0692 - val_accuracy: 0.9914\n",
            "Epoch 21/50\n",
            " - 0s - loss: 0.0473 - accuracy: 0.9872 - val_loss: 0.0669 - val_accuracy: 0.9914\n",
            "Epoch 22/50\n",
            " - 0s - loss: 0.0445 - accuracy: 0.9915 - val_loss: 0.0641 - val_accuracy: 0.9914\n",
            "Epoch 23/50\n",
            " - 0s - loss: 0.0426 - accuracy: 0.9872 - val_loss: 0.0638 - val_accuracy: 0.9914\n",
            "Epoch 24/50\n",
            " - 0s - loss: 0.0421 - accuracy: 0.9915 - val_loss: 0.0697 - val_accuracy: 0.9914\n",
            "Epoch 25/50\n",
            " - 0s - loss: 0.0419 - accuracy: 0.9915 - val_loss: 0.0655 - val_accuracy: 0.9914\n",
            "Epoch 26/50\n",
            " - 0s - loss: 0.0409 - accuracy: 0.9915 - val_loss: 0.0722 - val_accuracy: 0.9914\n",
            "Epoch 27/50\n",
            " - 0s - loss: 0.0405 - accuracy: 0.9915 - val_loss: 0.0629 - val_accuracy: 0.9914\n",
            "Epoch 28/50\n",
            " - 0s - loss: 0.0416 - accuracy: 0.9915 - val_loss: 0.0707 - val_accuracy: 0.9914\n",
            "Epoch 29/50\n",
            " - 0s - loss: 0.0395 - accuracy: 0.9915 - val_loss: 0.0671 - val_accuracy: 0.9914\n",
            "Epoch 30/50\n",
            " - 0s - loss: 0.0405 - accuracy: 0.9915 - val_loss: 0.0631 - val_accuracy: 0.9914\n",
            "Epoch 31/50\n",
            " - 0s - loss: 0.0396 - accuracy: 0.9915 - val_loss: 0.0625 - val_accuracy: 0.9914\n",
            "Epoch 32/50\n",
            " - 0s - loss: 0.0391 - accuracy: 0.9915 - val_loss: 0.0662 - val_accuracy: 0.9914\n",
            "Epoch 33/50\n",
            " - 0s - loss: 0.0393 - accuracy: 0.9915 - val_loss: 0.0666 - val_accuracy: 0.9914\n",
            "Epoch 34/50\n",
            " - 0s - loss: 0.0383 - accuracy: 0.9915 - val_loss: 0.0659 - val_accuracy: 0.9914\n",
            "Epoch 35/50\n",
            " - 0s - loss: 0.0390 - accuracy: 0.9915 - val_loss: 0.0626 - val_accuracy: 0.9914\n",
            "Epoch 36/50\n",
            " - 0s - loss: 0.0396 - accuracy: 0.9915 - val_loss: 0.0648 - val_accuracy: 0.9914\n",
            "Epoch 37/50\n",
            " - 0s - loss: 0.0379 - accuracy: 0.9915 - val_loss: 0.0677 - val_accuracy: 0.9914\n",
            "Epoch 38/50\n",
            " - 0s - loss: 0.0378 - accuracy: 0.9915 - val_loss: 0.0617 - val_accuracy: 0.9914\n",
            "Epoch 39/50\n",
            " - 0s - loss: 0.0367 - accuracy: 0.9915 - val_loss: 0.0713 - val_accuracy: 0.9914\n",
            "Epoch 40/50\n",
            " - 0s - loss: 0.0370 - accuracy: 0.9915 - val_loss: 0.0682 - val_accuracy: 0.9914\n",
            "Epoch 41/50\n",
            " - 0s - loss: 0.0365 - accuracy: 0.9915 - val_loss: 0.0700 - val_accuracy: 0.9914\n",
            "Epoch 42/50\n",
            " - 0s - loss: 0.0363 - accuracy: 0.9915 - val_loss: 0.0638 - val_accuracy: 0.9914\n",
            "Epoch 43/50\n",
            " - 0s - loss: 0.0355 - accuracy: 0.9915 - val_loss: 0.0657 - val_accuracy: 0.9914\n",
            "Epoch 44/50\n",
            " - 0s - loss: 0.0367 - accuracy: 0.9915 - val_loss: 0.0650 - val_accuracy: 0.9914\n",
            "Epoch 45/50\n",
            " - 0s - loss: 0.0386 - accuracy: 0.9915 - val_loss: 0.0608 - val_accuracy: 0.9914\n",
            "Epoch 46/50\n",
            " - 0s - loss: 0.0391 - accuracy: 0.9915 - val_loss: 0.0640 - val_accuracy: 0.9914\n",
            "Epoch 47/50\n",
            " - 0s - loss: 0.0354 - accuracy: 0.9915 - val_loss: 0.0672 - val_accuracy: 0.9914\n",
            "Epoch 48/50\n",
            " - 0s - loss: 0.0349 - accuracy: 0.9915 - val_loss: 0.0634 - val_accuracy: 0.9914\n",
            "Epoch 49/50\n",
            " - 0s - loss: 0.0344 - accuracy: 0.9915 - val_loss: 0.0661 - val_accuracy: 0.9914\n",
            "Epoch 50/50\n",
            " - 0s - loss: 0.0352 - accuracy: 0.9915 - val_loss: 0.0622 - val_accuracy: 0.9914\n"
          ],
          "name": "stdout"
        }
      ]
    },
    {
      "cell_type": "markdown",
      "metadata": {
        "id": "TFuPkaBNU2DB",
        "colab_type": "text"
      },
      "source": [
        "The model is trained on 67% of the dataset and evaluated using a 33% validation dataset. Running the example shows a classiﬁcation accuracy of 99.14%. This is higher than the baseline of 95.69% without the learning rate decay or momentum.\n"
      ]
    },
    {
      "cell_type": "code",
      "metadata": {
        "id": "OohRSR2qUCAS",
        "colab_type": "code",
        "colab": {
          "base_uri": "https://localhost:8080/",
          "height": 35
        },
        "outputId": "c6fce6bd-8c0e-436f-b627-ee18876ee2ec"
      },
      "source": [
        "history.history.keys()"
      ],
      "execution_count": 21,
      "outputs": [
        {
          "output_type": "execute_result",
          "data": {
            "text/plain": [
              "dict_keys(['val_loss', 'val_accuracy', 'loss', 'accuracy'])"
            ]
          },
          "metadata": {
            "tags": []
          },
          "execution_count": 21
        }
      ]
    },
    {
      "cell_type": "code",
      "metadata": {
        "id": "K3hsFj-IUcXm",
        "colab_type": "code",
        "colab": {
          "base_uri": "https://localhost:8080/",
          "height": 295
        },
        "outputId": "0f8a7ff4-4d7b-4247-bc3c-f91548e2fd30"
      },
      "source": [
        "plt.plot(history.history[ 'accuracy' ]) \n",
        "plt.plot(history.history[ 'val_accuracy' ]) \n",
        "plt.title( 'model accuracy'  ) \n",
        "plt.ylabel( 'accuracy'  ) \n",
        "plt.xlabel( 'epochs' )\n",
        "plt.legend([ 'train' , 'test' ], loc= 'upper left' )\n",
        "plt.show()"
      ],
      "execution_count": 24,
      "outputs": [
        {
          "output_type": "display_data",
          "data": {
            "image/png": "[encoded data removed]",
            "text/plain": [
              "<Figure size 432x288 with 1 Axes>"
            ]
          },
          "metadata": {
            "tags": [],
            "needs_background": "light"
          }
        }
      ]
    }
  ]
}