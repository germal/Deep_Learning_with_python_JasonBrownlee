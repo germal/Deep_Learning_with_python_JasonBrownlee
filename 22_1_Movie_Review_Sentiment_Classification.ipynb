{
  "nbformat": 4,
  "nbformat_minor": 0,
  "metadata": {
    "colab": {
      "name": "22.1 Movie Review Sentiment Classification.ipynb",
      "provenance": [],
      "collapsed_sections": [],
      "authorship_tag": "ABX9TyPiezmidmrsIBSUR0+13TMS",
      "include_colab_link": true
    },
    "kernelspec": {
      "name": "python3",
      "display_name": "Python 3"
    }
  },
  "cells": [
    {
      "cell_type": "markdown",
      "metadata": {
        "id": "view-in-github",
        "colab_type": "text"
      },
      "source": [
        "<a href=\"https://colab.research.google.com/github/marcelounb/Deep_Learning_with_python_JasonBrownlee/blob/master/22_1_Movie_Review_Sentiment_Classification.ipynb\" target=\"_parent\"><img src=\"https://colab.research.google.com/assets/colab-badge.svg\" alt=\"Open In Colab\"/></a>"
      ]
    },
    {
      "cell_type": "markdown",
      "metadata": {
        "id": "mIYH9egwHnXT",
        "colab_type": "text"
      },
      "source": [
        "# 22.1 Movie Review Sentiment Classification\n",
        "The dataset used in this project is the Large Movie Review Dataset often referred to as theIMDB dataset. The Large Movie Review Dataset (often referred to as the IMDB dataset)contains 25,000 highly-polar movie reviews (good or bad) for training and the same amountagain for testing. The problem is to determine whether a given moving review has a positive ornegative sentiment.\n",
        "\n",
        "The data was collected by Stanford researchers and was used in a 2011 paper where a splitof 50-50 of the data was used for training and test. An accuracy of 88.89% was achieved.\n",
        "\n",
        "**22.2 Load the IMDB Dataset With Keras**\n",
        "\n",
        "Keras provides access to the IMDB dataset built-in3. The imdb.load_data() function allows you to load the dataset in a format that is ready for use in neural network and deep learning models. The words have been replaced by integers that indicate the absolute popularity of the word in the dataset. The sentences in each review are therefore comprised of a sequence of integers.\n",
        "Calling imdb.load_data() the first time will download the IMDB dataset to your computer and store it in your home directory under ~/.keras/datasets/imdb.pkl as a 32 megabyte file. \n",
        "\n",
        "Usefully, the imdb.load_data() function provides additional arguments including the number of top words to load (where words with a lower integer are marked as zero in the returned data), the number of top words to skip (to avoid the the’s) and the maximum length of reviews to support. Let’s load the dataset and calculate some properties of it. We will start o↵ by loading some libraries and loading the entire IMDB dataset as a training dataset.\n"
      ]
    },
    {
      "cell_type": "code",
      "metadata": {
        "id": "NSrUz9qX5MQr",
        "colab_type": "code",
        "colab": {
          "base_uri": "https://localhost:8080/",
          "height": 35
        },
        "outputId": "33749b58-0ad6-4110-cd43-98e6908361f7"
      },
      "source": [
        "import numpy as np\n",
        "from keras.datasets import imdb\n",
        "from matplotlib import pyplot\n",
        "# load the dataset\n",
        "(X_train, y_train), (X_test, y_test) = imdb.load_data()\n",
        "X = np.concatenate((X_train, X_test), axis=0)\n",
        "y = np.concatenate((y_train, y_test), axis=0)"
      ],
      "execution_count": 1,
      "outputs": [
        {
          "output_type": "stream",
          "text": [
            "Using TensorFlow backend.\n"
          ],
          "name": "stderr"
        }
      ]
    },
    {
      "cell_type": "markdown",
      "metadata": {
        "id": "IOWhDmzTys9O",
        "colab_type": "text"
      },
      "source": [
        "Next we can display the shape of the training dataset."
      ]
    },
    {
      "cell_type": "code",
      "metadata": {
        "id": "kf0I1UIOxPlz",
        "colab_type": "code",
        "colab": {
          "base_uri": "https://localhost:8080/",
          "height": 70
        },
        "outputId": "4b870fa5-4157-43bd-8e0b-36d54ba2137b"
      },
      "source": [
        "# summarize size\n",
        "print(\"Training data shape: \")\n",
        "print('X', X.shape)\n",
        "print('y', y.shape)"
      ],
      "execution_count": 2,
      "outputs": [
        {
          "output_type": "stream",
          "text": [
            "Training data shape: \n",
            "X (50000,)\n",
            "y (50000,)\n"
          ],
          "name": "stdout"
        }
      ]
    },
    {
      "cell_type": "markdown",
      "metadata": {
        "id": "XPwNs2q_zxfL",
        "colab_type": "text"
      },
      "source": [
        "We can also print the unique class values."
      ]
    },
    {
      "cell_type": "code",
      "metadata": {
        "id": "l7QH7KtayvU1",
        "colab_type": "code",
        "colab": {
          "base_uri": "https://localhost:8080/",
          "height": 52
        },
        "outputId": "bffd2e9e-db88-401b-8003-75a8dcb62bf0"
      },
      "source": [
        "  # Summarize number of classes\n",
        "print(\"Classes: \")\n",
        "print(np.unique(y))"
      ],
      "execution_count": 3,
      "outputs": [
        {
          "output_type": "stream",
          "text": [
            "Classes: \n",
            "[0 1]\n"
          ],
          "name": "stdout"
        }
      ]
    },
    {
      "cell_type": "markdown",
      "metadata": {
        "id": "XYWaMDVG3hhg",
        "colab_type": "text"
      },
      "source": [
        "Next we can get an idea of the total number of unique words in the dataset"
      ]
    },
    {
      "cell_type": "code",
      "metadata": {
        "id": "UV81FLgaz0cW",
        "colab_type": "code",
        "colab": {
          "base_uri": "https://localhost:8080/",
          "height": 52
        },
        "outputId": "98f12c1a-94bf-4031-8c9a-d4d091143a89"
      },
      "source": [
        "# Summarize number of words\n",
        "print(\"Number of words: \")\n",
        "print(len(np.unique(np.hstack(X))))"
      ],
      "execution_count": 4,
      "outputs": [
        {
          "output_type": "stream",
          "text": [
            "Number of words: \n",
            "88585\n"
          ],
          "name": "stdout"
        }
      ]
    },
    {
      "cell_type": "markdown",
      "metadata": {
        "id": "c4vTLrht4Brh",
        "colab_type": "text"
      },
      "source": [
        "Finally, we can get an idea of the average review length."
      ]
    },
    {
      "cell_type": "code",
      "metadata": {
        "id": "mQ43GFL44CVF",
        "colab_type": "code",
        "colab": {
          "base_uri": "https://localhost:8080/",
          "height": 300
        },
        "outputId": "db98a319-705f-4f83-e093-f19637474bad"
      },
      "source": [
        "# Summarize review length\n",
        "print(\"Review length: \")\n",
        "result = [len(x) for x in X]\n",
        "print(\"Mean %.2f words (%f)\" % (np.mean(result), np.std(result)))\n",
        "# plot review length\n",
        "pyplot.boxplot(result)\n",
        "pyplot.show()"
      ],
      "execution_count": 5,
      "outputs": [
        {
          "output_type": "stream",
          "text": [
            "Review length: \n",
            "Mean 234.76 words (172.911495)\n"
          ],
          "name": "stdout"
        },
        {
          "output_type": "display_data",
          "data": {
            "image/png": "[encoded data removed]",
            "text/plain": [
              "<Figure size 432x288 with 1 Axes>"
            ]
          },
          "metadata": {
            "tags": [],
            "needs_background": "light"
          }
        }
      ]
    },
    {
      "cell_type": "markdown",
      "metadata": {
        "id": "iZjYtNrBMNu0",
        "colab_type": "text"
      },
      "source": [
        "We can see that the average review has just under 300 words with a standard deviation of just over 200 words.\n",
        "\n",
        "Looking a box and whisker plot for the review lengths in words, we can probably see an exponential distribution that we can probably cover the mass of the distribution with a clipped length of 400 to 500 words."
      ]
    },
    {
      "cell_type": "markdown",
      "metadata": {
        "id": "bvF4HbMjMfII",
        "colab_type": "text"
      },
      "source": [
        "# 22.3 Word Embeddings\n",
        "A recent breakthrough in the field of natural language processing is called word embedding.\n",
        "\n",
        "This is a technique where words are encoded as real-valued vectors in a high-dimensional space, where the similarity between words in terms of meaning translates to closeness in the vector space.\n",
        "\n",
        "Discrete words are mapped to vectors of continuous numbers. This is useful when working with natural language problems with neural networks and deep learning models are we require numbers as input.\n",
        "\n",
        "Keras provides a convenient way to convert positive integer representations of words into a word embedding by an Embedding layer.\n",
        "\n",
        "The layer takes arguments that define the mapping including the maximum number of expected words also called the vocabulary size (e.g. the largest integer value that will be seen as an integer). The layer also allows you to specify the dimensionality for each word vector, called the output dimension.\n",
        "\n",
        "We would like to use a word embedding representation for the IMDB dataset.\n",
        "\n",
        "Let’s say that we are only interested in the first 5,000 most used words in the dataset. Therefore our vocabulary size will be 5,000. We can choose to use a 32-dimension vector to represent each word. Finally, we may choose to cap the maximum review length at 500 words, truncating reviews longer than that and padding reviews shorter than that with 0 values.\n",
        "\n",
        "We would load the IMDB dataset as follows:\n",
        "\n"
      ]
    },
    {
      "cell_type": "code",
      "metadata": {
        "id": "65Ssie3-4Jzs",
        "colab_type": "code",
        "colab": {}
      },
      "source": [
        "# imdb.load_data(num_words=5000)"
      ],
      "execution_count": 12,
      "outputs": []
    },
    {
      "cell_type": "markdown",
      "metadata": {
        "id": "Fli3wd21PDgz",
        "colab_type": "text"
      },
      "source": [
        "We would then use the Keras utility to truncate or pad the dataset to a length of 500 for each observation using the sequence.pad_sequences() function."
      ]
    },
    {
      "cell_type": "code",
      "metadata": {
        "id": "DgHYVjg0P7Iz",
        "colab_type": "code",
        "colab": {}
      },
      "source": [
        "# from keras.preprocessing import sequence"
      ],
      "execution_count": 7,
      "outputs": []
    },
    {
      "cell_type": "code",
      "metadata": {
        "id": "A6Jl6Bz0PCxc",
        "colab_type": "code",
        "colab": {}
      },
      "source": [
        "# X_train = sequence.pad_sequences(X_train, maxlen=500)\n",
        "# X_test = sequence.pad_sequences(X_test, maxlen=500)"
      ],
      "execution_count": 8,
      "outputs": []
    },
    {
      "cell_type": "markdown",
      "metadata": {
        "id": "jWPGQ_mzRFxE",
        "colab_type": "text"
      },
      "source": [
        "Finally, later on, the first layer of our model would be an word embedding layer created using the Embedding class as follows:"
      ]
    },
    {
      "cell_type": "code",
      "metadata": {
        "id": "DfdkuNBBSX7_",
        "colab_type": "code",
        "colab": {}
      },
      "source": [
        "# from keras.layers import Embedding"
      ],
      "execution_count": 9,
      "outputs": []
    },
    {
      "cell_type": "code",
      "metadata": {
        "id": "KHMf3G09Piqm",
        "colab_type": "code",
        "colab": {}
      },
      "source": [
        "# Embedding(5000, 32, input_length=500)"
      ],
      "execution_count": 10,
      "outputs": []
    },
    {
      "cell_type": "markdown",
      "metadata": {
        "id": "N4hG1lIPSm4F",
        "colab_type": "text"
      },
      "source": [
        "The output of this first layer would be a matrix with the size 32×500 for a given review training or test pattern in integer format.\n",
        "\n",
        "Now that we know how to load the IMDB dataset in Keras and how to use a word embedding representation for it, let’s develop and evaluate some models."
      ]
    },
    {
      "cell_type": "markdown",
      "metadata": {
        "id": "Sv3557rdVr67",
        "colab_type": "text"
      },
      "source": [
        "# Simple Multi-Layer Perceptron Model for the IMDB Dataset\n",
        "We can start off by developing a simple multi-layer perceptron model with a single hidden layer.\n",
        "\n",
        "The word embedding representation is a true innovation and we will demonstrate what would have been considered world class results in 2011 with a relatively simple neural network.\n",
        "\n",
        "Let’s start off by importing the classes and functions required for this model and initializing the random number generator to a constant value to ensure we can easily reproduce the results."
      ]
    },
    {
      "cell_type": "code",
      "metadata": {
        "id": "LxzjZRIBSftI",
        "colab_type": "code",
        "colab": {}
      },
      "source": [
        "from keras.datasets import imdb\n",
        "from keras.models import Sequential\n",
        "from keras.layers import Dense\n",
        "from keras.layers import Flatten\n",
        "from keras.layers.embeddings import Embedding\n",
        "from keras.preprocessing import sequence\n",
        "\n",
        "from keras.layers.convolutional import Conv1D\n",
        "from keras.layers.convolutional import MaxPooling1D"
      ],
      "execution_count": 17,
      "outputs": []
    },
    {
      "cell_type": "markdown",
      "metadata": {
        "id": "Yg6kY5GKd6gz",
        "colab_type": "text"
      },
      "source": [
        "Next we will load the IMDB dataset. We will simplify the dataset as discussed during the section on word embeddings. Only the top 5,000 words will be loaded.\n",
        "\n",
        "We will also use a 50%/50% split of the dataset into training and test. This is a good standard split methodology."
      ]
    },
    {
      "cell_type": "code",
      "metadata": {
        "id": "9vFHNGzzd5cK",
        "colab_type": "code",
        "colab": {}
      },
      "source": [
        "# load the dataset but only keep the top n words, zero the rest\n",
        "top_words = 5000\n",
        "(X_train, y_train), (X_test, y_test) = imdb.load_data(num_words=top_words)"
      ],
      "execution_count": 13,
      "outputs": []
    },
    {
      "cell_type": "markdown",
      "metadata": {
        "id": "tRlKU4h4e0jK",
        "colab_type": "text"
      },
      "source": [
        "We will bound reviews at 500 words, truncating longer reviews and zero-padding shorter reviews."
      ]
    },
    {
      "cell_type": "code",
      "metadata": {
        "id": "0jllnHN_d9_a",
        "colab_type": "code",
        "colab": {}
      },
      "source": [
        "max_words = 500\n",
        "X_train = sequence.pad_sequences(X_train, maxlen=max_words)\n",
        "X_test = sequence.pad_sequences(X_test, maxlen=max_words)"
      ],
      "execution_count": 14,
      "outputs": []
    },
    {
      "cell_type": "markdown",
      "metadata": {
        "id": "IUqeJGEwhwwH",
        "colab_type": "text"
      },
      "source": [
        "Now we can create our model. We will use an Embedding layer as the input layer, setting the vocabulary to 5,000, the word vector size to 32 dimensions and the input_length to 500. The output of this first layer will be a 32×500 sized matrix as discussed in the previous section.\n",
        "\n",
        "We will flatten the Embedded layers output to one dimension, then use one dense hidden layer of 250 units with a rectifier activation function. The output layer has one neuron and will use a sigmoid activation to output values of 0 and 1 as predictions.\n",
        "\n",
        "The model uses logarithmic loss and is optimized using the efficient ADAM optimization procedure."
      ]
    },
    {
      "cell_type": "code",
      "metadata": {
        "id": "GoB21ZCue5Hv",
        "colab_type": "code",
        "colab": {
          "base_uri": "https://localhost:8080/",
          "height": 319
        },
        "outputId": "130abbfe-ae29-4e0a-8d92-117bf21c170b"
      },
      "source": [
        "# create the model\n",
        "model = Sequential()\n",
        "model.add(Embedding(top_words, 32, input_length=max_words))\n",
        "model.add(Flatten())\n",
        "model.add(Dense(250, activation='relu'))\n",
        "model.add(Dense(1, activation='sigmoid'))\n",
        "model.compile(loss='binary_crossentropy', optimizer='adam', metrics=['accuracy'])\n",
        "print(model.summary())"
      ],
      "execution_count": 15,
      "outputs": [
        {
          "output_type": "stream",
          "text": [
            "Model: \"sequential_1\"\n",
            "_________________________________________________________________\n",
            "Layer (type)                 Output Shape              Param #   \n",
            "=================================================================\n",
            "embedding_1 (Embedding)      (None, 500, 32)           160000    \n",
            "_________________________________________________________________\n",
            "flatten_1 (Flatten)          (None, 16000)             0         \n",
            "_________________________________________________________________\n",
            "dense_1 (Dense)              (None, 250)               4000250   \n",
            "_________________________________________________________________\n",
            "dense_2 (Dense)              (None, 1)                 251       \n",
            "=================================================================\n",
            "Total params: 4,160,501\n",
            "Trainable params: 4,160,501\n",
            "Non-trainable params: 0\n",
            "_________________________________________________________________\n",
            "None\n"
          ],
          "name": "stdout"
        }
      ]
    },
    {
      "cell_type": "markdown",
      "metadata": {
        "id": "Q4D6HCkfiSX0",
        "colab_type": "text"
      },
      "source": [
        "We can fit the model and use the test set as validation while training. This model overfits very quickly so we will use very few training epochs, in this case just 2.\n",
        "\n",
        "There is a lot of data so we will use a batch size of 128. After the model is trained, we evaluate its accuracy on the test dataset"
      ]
    },
    {
      "cell_type": "code",
      "metadata": {
        "id": "tBKpcJmsh8qO",
        "colab_type": "code",
        "colab": {
          "base_uri": "https://localhost:8080/",
          "height": 179
        },
        "outputId": "ff6ddd01-b940-4833-e43c-e449085976c8"
      },
      "source": [
        "# Fit the model\n",
        "model.fit(X_train, y_train, validation_data=(X_test, y_test), epochs=2, batch_size=128, verbose=2)\n",
        "# Final evaluation of the model\n",
        "scores = model.evaluate(X_test, y_test, verbose=0)\n",
        "print(\"Accuracy: %.2f%%\" % (scores[1]*100))"
      ],
      "execution_count": 16,
      "outputs": [
        {
          "output_type": "stream",
          "text": [
            "/usr/local/lib/python3.6/dist-packages/tensorflow/python/framework/indexed_slices.py:434: UserWarning: Converting sparse IndexedSlices to a dense Tensor of unknown shape. This may consume a large amount of memory.\n",
            "  \"Converting sparse IndexedSlices to a dense Tensor of unknown shape. \"\n"
          ],
          "name": "stderr"
        },
        {
          "output_type": "stream",
          "text": [
            "Train on 25000 samples, validate on 25000 samples\n",
            "Epoch 1/2\n",
            " - 29s - loss: 0.4759 - accuracy: 0.7419 - val_loss: 0.2955 - val_accuracy: 0.8731\n",
            "Epoch 2/2\n",
            " - 28s - loss: 0.1705 - accuracy: 0.9357 - val_loss: 0.3232 - val_accuracy: 0.8691\n",
            "Accuracy: 86.91%\n"
          ],
          "name": "stdout"
        }
      ]
    },
    {
      "cell_type": "markdown",
      "metadata": {
        "id": "Oh0lTAZpib_I",
        "colab_type": "text"
      },
      "source": [
        "Running this example fits the model and summarizes the estimated performance.\n",
        "\n",
        "Note: Your specific results may vary given the stochastic nature of the learning algorithm. Consider running the example a few times and compare the average performance.\n",
        "\n",
        "We can see that this very simple model achieves a score of nearly 86.94% which is in the neighborhood of the original paper, with very little effort."
      ]
    },
    {
      "cell_type": "markdown",
      "metadata": {
        "id": "l21p51BtitGo",
        "colab_type": "text"
      },
      "source": [
        "I’m sure we can do better if we trained this network, perhaps using a larger embedding and adding more hidden layers.\n",
        "\n",
        "Let’s try a different network type."
      ]
    },
    {
      "cell_type": "code",
      "metadata": {
        "id": "R0OmerNkiZar",
        "colab_type": "code",
        "colab": {
          "base_uri": "https://localhost:8080/",
          "height": 372
        },
        "outputId": "73f2b139-64c0-40b1-877c-95b01158401e"
      },
      "source": [
        "# create the model\n",
        "model2 = Sequential()\n",
        "model2.add(Embedding(top_words, 32, input_length=max_words))\n",
        "model2.add(Conv1D(filters=32, kernel_size=3, padding='same', activation='relu'))\n",
        "model2.add(MaxPooling1D(pool_size=2))\n",
        "model2.add(Flatten())\n",
        "model2.add(Dense(250, activation='relu'))\n",
        "model2.add(Dense(1, activation='sigmoid'))\n",
        "model2.compile(loss='binary_crossentropy', optimizer='adam', metrics=['accuracy'])\n",
        "model2.summary()"
      ],
      "execution_count": 18,
      "outputs": [
        {
          "output_type": "stream",
          "text": [
            "Model: \"sequential_2\"\n",
            "_________________________________________________________________\n",
            "Layer (type)                 Output Shape              Param #   \n",
            "=================================================================\n",
            "embedding_2 (Embedding)      (None, 500, 32)           160000    \n",
            "_________________________________________________________________\n",
            "conv1d_1 (Conv1D)            (None, 500, 32)           3104      \n",
            "_________________________________________________________________\n",
            "max_pooling1d_1 (MaxPooling1 (None, 250, 32)           0         \n",
            "_________________________________________________________________\n",
            "flatten_2 (Flatten)          (None, 8000)              0         \n",
            "_________________________________________________________________\n",
            "dense_3 (Dense)              (None, 250)               2000250   \n",
            "_________________________________________________________________\n",
            "dense_4 (Dense)              (None, 1)                 251       \n",
            "=================================================================\n",
            "Total params: 2,163,605\n",
            "Trainable params: 2,163,605\n",
            "Non-trainable params: 0\n",
            "_________________________________________________________________\n"
          ],
          "name": "stdout"
        }
      ]
    },
    {
      "cell_type": "code",
      "metadata": {
        "id": "cwpxIJQFjPlX",
        "colab_type": "code",
        "colab": {
          "base_uri": "https://localhost:8080/",
          "height": 179
        },
        "outputId": "efe8b77e-e7d4-4394-cb40-9e0818fb7a88"
      },
      "source": [
        "# Fit the model\n",
        "model2.fit(X_train, y_train, validation_data=(X_test, y_test), epochs=2, batch_size=128, verbose=2)\n",
        "# Final evaluation of the model\n",
        "scores = model2.evaluate(X_test, y_test, verbose=0)\n",
        "print(\"Accuracy: %.2f%%\" % (scores[1]*100))"
      ],
      "execution_count": 19,
      "outputs": [
        {
          "output_type": "stream",
          "text": [
            "/usr/local/lib/python3.6/dist-packages/tensorflow/python/framework/indexed_slices.py:434: UserWarning: Converting sparse IndexedSlices to a dense Tensor of unknown shape. This may consume a large amount of memory.\n",
            "  \"Converting sparse IndexedSlices to a dense Tensor of unknown shape. \"\n"
          ],
          "name": "stderr"
        },
        {
          "output_type": "stream",
          "text": [
            "Train on 25000 samples, validate on 25000 samples\n",
            "Epoch 1/2\n",
            " - 31s - loss: 0.4724 - accuracy: 0.7470 - val_loss: 0.2790 - val_accuracy: 0.8822\n",
            "Epoch 2/2\n",
            " - 31s - loss: 0.2187 - accuracy: 0.9147 - val_loss: 0.2729 - val_accuracy: 0.8872\n",
            "Accuracy: 88.72%\n"
          ],
          "name": "stdout"
        }
      ]
    }
  ]
}